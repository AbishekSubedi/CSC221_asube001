{
  "nbformat": 4,
  "nbformat_minor": 0,
  "metadata": {
    "colab": {
      "provenance": [],
      "authorship_tag": "ABX9TyOPL+XLZC6y3wCSlOV4LyRV",
      "include_colab_link": true
    },
    "kernelspec": {
      "name": "python3",
      "display_name": "Python 3"
    },
    "language_info": {
      "name": "python"
    }
  },
  "cells": [
    {
      "cell_type": "markdown",
      "metadata": {
        "id": "view-in-github",
        "colab_type": "text"
      },
      "source": [
        "<a href=\"https://colab.research.google.com/github/AbishekSubedi/CSC221_asube001/blob/main/Assignment7.ipynb\" target=\"_parent\"><img src=\"https://colab.research.google.com/assets/colab-badge.svg\" alt=\"Open In Colab\"/></a>"
      ]
    },
    {
      "cell_type": "code",
      "execution_count": 2,
      "metadata": {
        "colab": {
          "base_uri": "https://localhost:8080/"
        },
        "id": "8RIxD92klsjj",
        "outputId": "99cc8e4e-7ad6-4ab8-a4d5-fd9ef84fc933"
      },
      "outputs": [
        {
          "output_type": "stream",
          "name": "stdout",
          "text": [
            "{'first_name': 'Bishal', 'last_name': 'Shrestha', 'age': 20, 'city': 'New York'}\n"
          ]
        }
      ],
      "source": [
        "# 6.1\n",
        "person = {\n",
        "    \"first_name\": \"Bishal\",\n",
        "    \"last_name\": \"Shrestha\",\n",
        "    \"age\": 20,\n",
        "    \"city\": \"New York\"\n",
        "}\n",
        "\n",
        "print(person)"
      ]
    },
    {
      "cell_type": "code",
      "source": [
        "# 6.2\n",
        "fav_number = {\n",
        "    \"harry\": 7,\n",
        "    \"john\": 6,\n",
        "    \"ned\": 22,\n",
        "    \"lucy\": 2,\n",
        "    \"gabi\": 9\n",
        "}\n",
        "print(fav_number)"
      ],
      "metadata": {
        "colab": {
          "base_uri": "https://localhost:8080/"
        },
        "id": "YCX03pZ5p9xq",
        "outputId": "d6407623-617c-4f21-8bfb-944217725027"
      },
      "execution_count": 3,
      "outputs": [
        {
          "output_type": "stream",
          "name": "stdout",
          "text": [
            "{'harry': 7, 'john': 6, 'ned': 22, 'lucy': 2, 'gabi': 9}\n"
          ]
        }
      ]
    },
    {
      "cell_type": "code",
      "source": [
        "# 6.3\n",
        "glossary = {\n",
        "    'Variable': 'A container to store data values.',\n",
        "    'Function': 'A block of reusable code that performs a specific task.',\n",
        "    'List': 'An ordered collection of items that can be modified.',\n",
        "    'Conditional Statement': 'A statement that executes different code based on a condition.',\n",
        "    'Loop': 'A control structure that repeats a block of code until a condition is met or for a specified number of times.'\n",
        "}\n",
        "\n",
        "for word, meaning in glossary.items():\n",
        "    print(f\"> {word}: {meaning}\\n\")"
      ],
      "metadata": {
        "colab": {
          "base_uri": "https://localhost:8080/"
        },
        "id": "838eXZ-7qO5u",
        "outputId": "ffefbb86-8c84-4618-ecb7-072beff8c1f7"
      },
      "execution_count": 12,
      "outputs": [
        {
          "output_type": "stream",
          "name": "stdout",
          "text": [
            "> Variable: A container to store data values.\n",
            "\n",
            "> Function: A block of reusable code that performs a specific task.\n",
            "\n",
            "> List: An ordered collection of items that can be modified.\n",
            "\n",
            "> Conditional Statement: A statement that executes different code based on a condition.\n",
            "\n",
            "> Loop: A control structure that repeats a block of code until a condition is met or for a specified number of times.\n",
            "\n"
          ]
        }
      ]
    },
    {
      "cell_type": "code",
      "source": [
        "# 6.4\n",
        "# Add five more Python terms to the glossary\n",
        "glossary['Tuple'] = 'An ordered, immutable collection of items.'\n",
        "glossary['Dictionary'] = 'A collection of key-value pairs.'\n",
        "glossary['Module'] = 'A file containing Python code that can be imported and reused.'\n",
        "glossary['String'] = 'A sequence of characters.'\n",
        "glossary['Exception'] = 'An error that occurs during program execution.'\n",
        "\n",
        "for word, meaning in glossary.items():\n",
        "    print(f\"> {word}: {meaning}\\n\")"
      ],
      "metadata": {
        "colab": {
          "base_uri": "https://localhost:8080/"
        },
        "id": "QBq_S55MqQoI",
        "outputId": "9e4b1c05-5852-4e8f-f073-d03d724593f2"
      },
      "execution_count": 13,
      "outputs": [
        {
          "output_type": "stream",
          "name": "stdout",
          "text": [
            "> Variable: A container to store data values.\n",
            "\n",
            "> Function: A block of reusable code that performs a specific task.\n",
            "\n",
            "> List: An ordered collection of items that can be modified.\n",
            "\n",
            "> Conditional Statement: A statement that executes different code based on a condition.\n",
            "\n",
            "> Loop: A control structure that repeats a block of code until a condition is met or for a specified number of times.\n",
            "\n",
            "> Tuple: An ordered, immutable collection of items.\n",
            "\n",
            "> Dictionary: A collection of key-value pairs.\n",
            "\n",
            "> Module: A file containing Python code that can be imported and reused.\n",
            "\n",
            "> String: A sequence of characters.\n",
            "\n",
            "> Exception: An error that occurs during program execution.\n",
            "\n"
          ]
        }
      ]
    },
    {
      "cell_type": "code",
      "source": [
        "# 6.11\n",
        "cities = {\n",
        "    'New York': {\n",
        "        'country': 'United States',\n",
        "        'population': 8398748,\n",
        "        'fact': 'The Statue of Liberty is located in New York Harbor.'\n",
        "    },\n",
        "    'Paris': {\n",
        "        'country': 'France',\n",
        "        'population': 2148271,\n",
        "        'fact': 'The Eiffel Tower is a famous landmark in Paris.'\n",
        "    },\n",
        "    'Tokyo': {\n",
        "        'country': 'Japan',\n",
        "        'population': 13929286,\n",
        "        'fact': 'Tokyo is the largest city in Japan and one of the most populous metropolitan areas in the world.'\n",
        "    }\n",
        "}\n",
        "\n",
        "for city, info in cities.items():\n",
        "    print(f\"City: {city}\")\n",
        "    print(f\"Country: {info['country']}\")\n",
        "    print(f\"Population: {info['population']}\")\n",
        "    print(f\"Fact: {info['fact']}\\n\")"
      ],
      "metadata": {
        "colab": {
          "base_uri": "https://localhost:8080/"
        },
        "id": "QPUcBGH_qTTa",
        "outputId": "9639745e-1207-4051-9d0e-d31bd08cf44b"
      },
      "execution_count": 18,
      "outputs": [
        {
          "output_type": "stream",
          "name": "stdout",
          "text": [
            "City: New York\n",
            "Country: United States\n",
            "Population: 8398748\n",
            "Fact: The Statue of Liberty is located in New York Harbor.\n",
            "\n",
            "City: Paris\n",
            "Country: France\n",
            "Population: 2148271\n",
            "Fact: The Eiffel Tower is a famous landmark in Paris.\n",
            "\n",
            "City: Tokyo\n",
            "Country: Japan\n",
            "Population: 13929286\n",
            "Fact: Tokyo is the largest city in Japan and one of the most populous metropolitan areas in the world.\n",
            "\n"
          ]
        }
      ]
    },
    {
      "cell_type": "code",
      "source": [
        "# 6.12\n",
        "'''Let's extend the 6.11 problem. Let's add more cities and improve the\n",
        "formatting of the code.'''\n",
        "cities = {\n",
        "    'New York': {\n",
        "        'country': 'United States',\n",
        "        'population': 8398748,\n",
        "        'fact': 'The Statue of Liberty is located in New York Harbor.'\n",
        "    },\n",
        "    'Paris': {\n",
        "        'country': 'France',\n",
        "        'population': 2148271,\n",
        "        'fact': 'The Eiffel Tower is a famous landmark in Paris.'\n",
        "    },\n",
        "    'Tokyo': {\n",
        "        'country': 'Japan',\n",
        "        'population': 13929286,\n",
        "        'fact': 'Tokyo is the largest city in Japan and one of the most populous metropolitan areas in the world.'\n",
        "    },\n",
        "    'London': {\n",
        "        'country': 'United Kingdom',\n",
        "        'population': 8908081,\n",
        "        'fact': 'London is known for its iconic red double-decker buses.'\n",
        "    },\n",
        "    'Sydney': {\n",
        "        'country': 'Australia',\n",
        "        'population': 5312163,\n",
        "        'fact': 'Sydney Opera House is a famous architectural masterpiece.'\n",
        "    }\n",
        "}\n",
        "\n",
        "for city, info in cities.items():\n",
        "    print(f\"City: {city};\")\n",
        "    print(f\"Country: {info['country']};\")\n",
        "    print(f'Population: {info[\"population\"]:,};')\n",
        "    print(f\"Fact: {info['fact']}\")\n",
        "    print('-' * 110)"
      ],
      "metadata": {
        "colab": {
          "base_uri": "https://localhost:8080/"
        },
        "id": "wNZ5K4DMqUqL",
        "outputId": "e33272a2-0fcb-4b79-97b4-cea7660f8d8b"
      },
      "execution_count": 25,
      "outputs": [
        {
          "output_type": "stream",
          "name": "stdout",
          "text": [
            "City: New York;\n",
            "Country: United States;\n",
            "Population: 8,398,748;\n",
            "Fact: The Statue of Liberty is located in New York Harbor.\n",
            "--------------------------------------------------------------------------------------------------------------\n",
            "City: Paris;\n",
            "Country: France;\n",
            "Population: 2,148,271;\n",
            "Fact: The Eiffel Tower is a famous landmark in Paris.\n",
            "--------------------------------------------------------------------------------------------------------------\n",
            "City: Tokyo;\n",
            "Country: Japan;\n",
            "Population: 13,929,286;\n",
            "Fact: Tokyo is the largest city in Japan and one of the most populous metropolitan areas in the world.\n",
            "--------------------------------------------------------------------------------------------------------------\n",
            "City: London;\n",
            "Country: United Kingdom;\n",
            "Population: 8,908,081;\n",
            "Fact: London is known for its iconic red double-decker buses.\n",
            "--------------------------------------------------------------------------------------------------------------\n",
            "City: Sydney;\n",
            "Country: Australia;\n",
            "Population: 5,312,163;\n",
            "Fact: Sydney Opera House is a famous architectural masterpiece.\n",
            "--------------------------------------------------------------------------------------------------------------\n"
          ]
        }
      ]
    }
  ]
}
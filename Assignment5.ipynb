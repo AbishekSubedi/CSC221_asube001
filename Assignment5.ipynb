{
  "nbformat": 4,
  "nbformat_minor": 0,
  "metadata": {
    "colab": {
      "provenance": [],
      "authorship_tag": "ABX9TyOSvHlSMcSCSZ3vwhrt09r9",
      "include_colab_link": true
    },
    "kernelspec": {
      "name": "python3",
      "display_name": "Python 3"
    },
    "language_info": {
      "name": "python"
    }
  },
  "cells": [
    {
      "cell_type": "markdown",
      "metadata": {
        "id": "view-in-github",
        "colab_type": "text"
      },
      "source": [
        "<a href=\"https://colab.research.google.com/github/AbishekSubedi/CSC221_asube001/blob/main/Assignment5.ipynb\" target=\"_parent\"><img src=\"https://colab.research.google.com/assets/colab-badge.svg\" alt=\"Open In Colab\"/></a>"
      ]
    },
    {
      "cell_type": "code",
      "execution_count": 15,
      "metadata": {
        "colab": {
          "base_uri": "https://localhost:8080/"
        },
        "id": "uf8YjQ5BpfPY",
        "outputId": "7a89e472-ffe8-426c-9324-6e40c4c02d5c"
      },
      "outputs": [
        {
          "output_type": "stream",
          "name": "stdout",
          "text": [
            "I love Pepperoni pizza.\n",
            "I love Buffalo Chicken pizza.\n",
            "I love Vegetable pizza.\n",
            "I really love pizza!\n"
          ]
        }
      ],
      "source": [
        "# 4.1\n",
        "pizza_list = ['pepperoni', 'buffalo chicken', 'vegetable']\n",
        "for pizza in pizza_list:\n",
        "  print(f\"I love {pizza.title()} pizza.\")\n",
        "\n",
        "print(\"I really love pizza!\")"
      ]
    },
    {
      "cell_type": "code",
      "source": [
        "# 4.2 Same as 4.1 so skipped\n",
        "# 4.3 and 4.4 similar I am making list for one million\n",
        "million_list = list(range(1, 1000001))\n",
        "# for number in million_list:\n",
        "  # print(number)\n",
        "\n",
        "# 4.5\n",
        "print(min(million_list))\n",
        "print(max(million_list))\n",
        "print(sum(million_list))"
      ],
      "metadata": {
        "colab": {
          "base_uri": "https://localhost:8080/"
        },
        "id": "JUtv36-KyemK",
        "outputId": "40af1f45-c828-4cca-a8cd-7e709f36dc8e"
      },
      "execution_count": 19,
      "outputs": [
        {
          "output_type": "stream",
          "name": "stdout",
          "text": [
            "1\n",
            "1000000\n",
            "500000500000\n"
          ]
        }
      ]
    },
    {
      "cell_type": "code",
      "source": [
        "# 4.6\n",
        "odd_number_list = list(range(1, 20, 2))\n",
        "# print(odd_number_list)\n",
        "for odd_number in odd_number_list :\n",
        "  print(odd_number)"
      ],
      "metadata": {
        "colab": {
          "base_uri": "https://localhost:8080/"
        },
        "id": "wQkhsDof1lA9",
        "outputId": "43663919-0460-4d7d-b3b4-c1bb90cf3d73"
      },
      "execution_count": 27,
      "outputs": [
        {
          "output_type": "stream",
          "name": "stdout",
          "text": [
            "1\n",
            "3\n",
            "5\n",
            "7\n",
            "9\n",
            "11\n",
            "13\n",
            "15\n",
            "17\n",
            "19\n"
          ]
        }
      ]
    },
    {
      "cell_type": "code",
      "source": [
        "# 4.7\n",
        "multiples_of_three = list(range(3, 31, 3))\n",
        "for multiple in multiples_of_three:\n",
        "  print(multiple)"
      ],
      "metadata": {
        "colab": {
          "base_uri": "https://localhost:8080/"
        },
        "id": "Nyu1R9A02kvi",
        "outputId": "74cf81d1-585b-49c8-86fb-1da502ebfb11"
      },
      "execution_count": 33,
      "outputs": [
        {
          "output_type": "stream",
          "name": "stdout",
          "text": [
            "3\n",
            "6\n",
            "9\n",
            "12\n",
            "15\n",
            "18\n",
            "21\n",
            "24\n",
            "27\n",
            "30\n"
          ]
        }
      ]
    },
    {
      "cell_type": "code",
      "source": [
        "# 4.8\n",
        "cubes_list = []\n",
        "for cube in range(1, 11):\n",
        "  value = cube**3\n",
        "  print(value)\n",
        "  cubes_list.append(value)\n",
        ""
      ],
      "metadata": {
        "colab": {
          "base_uri": "https://localhost:8080/"
        },
        "id": "9BfOwa0D4tNI",
        "outputId": "e30e977d-1207-42ba-a6b0-9a1d2df87915"
      },
      "execution_count": 36,
      "outputs": [
        {
          "output_type": "stream",
          "name": "stdout",
          "text": [
            "1\n",
            "8\n",
            "27\n",
            "64\n",
            "125\n",
            "216\n",
            "343\n",
            "512\n",
            "729\n",
            "1000\n"
          ]
        }
      ]
    },
    {
      "cell_type": "code",
      "source": [
        "# 4.9\n",
        "cubes_list2 = [x ** 3 for x in range(1, 11)]\n",
        "print(cubes_list2)"
      ],
      "metadata": {
        "colab": {
          "base_uri": "https://localhost:8080/"
        },
        "id": "ir3EfUAEoAG0",
        "outputId": "a38e34bf-1138-4b42-d66b-8bd0a76319de"
      },
      "execution_count": 1,
      "outputs": [
        {
          "output_type": "stream",
          "name": "stdout",
          "text": [
            "[1, 8, 27, 64, 125, 216, 343, 512, 729, 1000]\n"
          ]
        }
      ]
    },
    {
      "cell_type": "code",
      "source": [
        "# 4.10\n",
        "print(f\"{cubes_list2[:3]} are the first three items in the list.\")\n",
        "print(f\"{cubes_list2[4:7]} are the middle three items in the list.\")\n",
        "print(f\"{cubes_list2[7:]} are the last three items in the list.\")"
      ],
      "metadata": {
        "colab": {
          "base_uri": "https://localhost:8080/"
        },
        "id": "uqSy5jJ6oUFX",
        "outputId": "45fb91d6-4566-4cb1-e6c3-f0258bb575fa"
      },
      "execution_count": 3,
      "outputs": [
        {
          "output_type": "stream",
          "name": "stdout",
          "text": [
            "[1, 8, 27] are the first three items in the list.\n",
            "[125, 216, 343] are the middle three items in the list.\n",
            "[512, 729, 1000] are the last three items in the list.\n"
          ]
        }
      ]
    },
    {
      "cell_type": "code",
      "source": [
        "# 4.11\n",
        "pizza_list = ['pepperoni', 'buffalo chicken', 'vegetable']\n",
        "friends_pizza_list = pizza_list[:]\n",
        "pizza_list.append('onion')\n",
        "friends_pizza_list.append('cheese')\n",
        "print(f\"My favorite pizzas are {pizza_list}\")\n",
        "print(f\"My freind's favorite pizzas are {friends_pizza_list}\")"
      ],
      "metadata": {
        "colab": {
          "base_uri": "https://localhost:8080/"
        },
        "id": "vYvwbBK3qk0A",
        "outputId": "026749a9-d57c-4453-9da6-ec8c140a66ea"
      },
      "execution_count": 6,
      "outputs": [
        {
          "output_type": "stream",
          "name": "stdout",
          "text": [
            "My favorite pizzas are ['pepperoni', 'buffalo chicken', 'vegetable', 'onion']\n",
            "My freind's favorite pizzas are ['pepperoni', 'buffalo chicken', 'vegetable', 'cheese']\n"
          ]
        }
      ]
    },
    {
      "cell_type": "code",
      "source": [
        "''' 4.12 I say use for loop to print the foods and as I have already used for\n",
        "loop so I'm skipping this. '''"
      ],
      "metadata": {
        "id": "HZ1K1Y7wrtll"
      },
      "execution_count": null,
      "outputs": []
    },
    {
      "cell_type": "code",
      "source": [
        "# 4.13\n",
        "buffet = ('rice', 'vegetable curry', 'lamb curry', 'chicken curry')\n",
        "for food in buffet:\n",
        "  print(food.title())\n",
        "\n",
        "# buffet[0] = 'naan'\n",
        "# print(buffet)\n",
        "\n",
        "buffet = ('naan', 'vegetable curry', 'paneer tikka', 'chicken curry')\n",
        "print(\"\\nRevised Menu:\")\n",
        "for food in buffet:\n",
        "  print(food.title())\n"
      ],
      "metadata": {
        "colab": {
          "base_uri": "https://localhost:8080/"
        },
        "id": "TQZJHp4JsKYf",
        "outputId": "81b1723b-1c70-4304-ecf5-01e40ff1b81b"
      },
      "execution_count": 11,
      "outputs": [
        {
          "output_type": "stream",
          "name": "stdout",
          "text": [
            "Rice\n",
            "Vegetable Curry\n",
            "Lamb Curry\n",
            "Chicken Curry\n",
            "\n",
            "Revised Menu:\n",
            "Naan\n",
            "Vegetable Curry\n",
            "Paneer Tikka\n",
            "Chicken Curry\n"
          ]
        }
      ]
    },
    {
      "cell_type": "code",
      "source": [
        "# Factorial\n",
        "def factorial(num) :\n",
        "  list_for_loop = [x for x in range(1, num+1)]\n",
        "  # print(list_for_loop)\n",
        "  fact = 1\n",
        "  for i in list_for_loop :\n",
        "    fact *= i\n",
        "\n",
        "  return fact\n",
        "\n",
        "print(factorial(5))\n",
        "print(factorial(10))\n",
        "print(factorial(20))\n",
        "print(factorial(50))"
      ],
      "metadata": {
        "id": "K5cI1F0NrSIn",
        "colab": {
          "base_uri": "https://localhost:8080/"
        },
        "outputId": "864c7707-cd87-4619-d976-9e11a4c1fbad"
      },
      "execution_count": 5,
      "outputs": [
        {
          "output_type": "stream",
          "name": "stdout",
          "text": [
            "120\n",
            "3628800\n",
            "2432902008176640000\n",
            "30414093201713378043612608166064768844377641568960512000000000000\n"
          ]
        }
      ]
    },
    {
      "cell_type": "code",
      "source": [
        "# Special Factorial\n",
        "def special_factorial(num) :\n",
        "  list_for_loop = [x for x in range(1, num+1)]\n",
        "  # print(list_for_loop)\n",
        "  fact = 1\n",
        "  for i in list_for_loop :\n",
        "    if i != 4 and i != 13 and i != 22 : # remove 4, 13, 22\n",
        "      fact *= i\n",
        "\n",
        "  return fact\n",
        "\n",
        "print(special_factorial(5))\n",
        "print(special_factorial(10))\n",
        "print(special_factorial(20))\n",
        "print(special_factorial(50))"
      ],
      "metadata": {
        "colab": {
          "base_uri": "https://localhost:8080/"
        },
        "id": "Ze18ZjDeudNW",
        "outputId": "f293055e-66ad-4c12-99db-0ddb8248a202"
      },
      "execution_count": 13,
      "outputs": [
        {
          "output_type": "stream",
          "name": "stdout",
          "text": [
            "30\n",
            "907200\n",
            "46786577080320000\n",
            "26585745805693512275885146998308364374455980392448000000000000\n"
          ]
        }
      ]
    }
  ]
}
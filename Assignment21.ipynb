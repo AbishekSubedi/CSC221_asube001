{
  "nbformat": 4,
  "nbformat_minor": 0,
  "metadata": {
    "colab": {
      "provenance": [],
      "include_colab_link": true
    },
    "kernelspec": {
      "name": "python3",
      "display_name": "Python 3"
    },
    "language_info": {
      "name": "python"
    }
  },
  "cells": [
    {
      "cell_type": "markdown",
      "metadata": {
        "id": "view-in-github",
        "colab_type": "text"
      },
      "source": [
        "<a href=\"https://colab.research.google.com/github/AbishekSubedi/CSC221_asube001/blob/main/Assignment21.ipynb\" target=\"_parent\"><img src=\"https://colab.research.google.com/assets/colab-badge.svg\" alt=\"Open In Colab\"/></a>"
      ]
    },
    {
      "cell_type": "markdown",
      "source": [
        "# Assignment 21\n",
        "## CSC 221\n",
        "- Abishek Subedi\n",
        "\n",
        "### Instructions:\n",
        "Fill in each code cell below the question. We are following along in Chapter 4 of Python Distilled."
      ],
      "metadata": {
        "id": "IAOUzGWE1eDx"
      }
    },
    {
      "cell_type": "code",
      "execution_count": 10,
      "metadata": {
        "id": "Gnj3su7i5-lx",
        "colab": {
          "base_uri": "https://localhost:8080/"
        },
        "outputId": "d214ad30-ad5a-4107-dc04-2f424852cb7c"
      },
      "outputs": [
        {
          "output_type": "stream",
          "name": "stdout",
          "text": [
            "8\n",
            "Hello, World!\n",
            "8\n",
            "Hello, World!\n",
            "Hello, 123\n",
            "567, Hello\n"
          ]
        }
      ],
      "source": [
        "# 4.2 Object Identity and Type\n",
        "\n",
        "# Make a function that performs differently depending on the types of its inputs\n",
        "# cat(a, b) below will work if you pass in two numbers or two strings\n",
        "# Use isinstance to detect when you are getting a string and an int and\n",
        "# automatically convert the int to a string and return the string!\n",
        "\n",
        "def cat(a, b):\n",
        "    return a + b\n",
        "\n",
        "print(cat(3, 5))\n",
        "print(cat(\"Hello, \", \"World!\"))\n",
        "# print(cat(\"Hello, \", 123))  # FAILS: Should return 'Hello, 123'\n",
        "\n",
        "# INSERT YOUR CODE HERE\n",
        "def cat_everything(a, b):\n",
        "    if isinstance(a, int) and isinstance(b, str):\n",
        "        a = str(a)\n",
        "    elif isinstance(a, str) and isinstance(b, int):\n",
        "        b = str(b)\n",
        "\n",
        "    return a + b\n",
        "\n",
        "print(cat_everything(3, 5))\n",
        "print(cat_everything(\"Hello, \", \"World!\"))\n",
        "print(cat_everything(\"Hello, \", 123))\n",
        "print(cat_everything(567, \", Hello\"))"
      ]
    },
    {
      "cell_type": "code",
      "source": [
        "# Explain the output of the following code\n",
        "import sys\n",
        "\n",
        "class EmptyClass:\n",
        "    def __init__(self):\n",
        "        print('init')\n",
        "    def __del__(self):\n",
        "        print('del')\n",
        "\n",
        "def print_refcount(x):\n",
        "    print(sys.getrefcount(x))\n",
        "\n",
        "f1 = EmptyClass()\n",
        "print_refcount(f1)\n",
        "f2 = f1\n",
        "print_refcount(f1)\n",
        "f3 = f1\n",
        "print_refcount(f1)\n",
        "\n",
        "del f1\n",
        "print_refcount(f3)\n",
        "del f2\n",
        "print_refcount(f3)\n",
        "del f3\n",
        "\n",
        "# INSERT YOUR EXPLANATION HERE\n",
        "# When f1 is created, it prints 'init' and its reference count starts at 1.\n",
        "# When print_refcount(f1) is called, it prints 4 instead of 1. This is because there are additional references to f1 within the print_refcount function.\n",
        "# When f2 is set to f1, the reference count of f1 increases to 5.\n",
        "# When f3 is also set to f1, the reference count of f1 increases to 6.\n",
        "# When f1 is deleted, the reference count of f1 (which f3 also refers to) decreases to 5.\n",
        "# When f2 is deleted, the reference count of f1 (again referred to by f3) decreases to 4.\n",
        "# When f3 is deleted, the last reference to f1 is deleted, so its del method prints 'del' and the reference count goes to 0."
      ],
      "metadata": {
        "colab": {
          "base_uri": "https://localhost:8080/"
        },
        "id": "DKFgqiK-jlZg",
        "outputId": "1f051d0a-c40e-4999-afe4-6fdbbce00c41"
      },
      "execution_count": 13,
      "outputs": [
        {
          "output_type": "stream",
          "name": "stdout",
          "text": [
            "init\n",
            "4\n",
            "5\n",
            "6\n",
            "5\n",
            "4\n",
            "del\n"
          ]
        }
      ]
    },
    {
      "cell_type": "code",
      "source": [
        "# Section 4.4, Part 1\n",
        "# Explain this output. Why does it seem odd?\n",
        "a = [1, 2, 3]\n",
        "b = a\n",
        "b[1] = 99\n",
        "print(a)\n",
        "print(b)\n",
        "\n",
        "# INSERT YOUR EXPLANATION HERE\n",
        "# This may seem odd at first because it appears that by modifying b, we also modify a - even though a and b are separate variables.\n",
        "\n",
        "# The reason this happens is because a and b are both referring to the same list object in memory."
      ],
      "metadata": {
        "colab": {
          "base_uri": "https://localhost:8080/"
        },
        "id": "-pBk9F45ke-W",
        "outputId": "f4bad81e-6c8a-4039-b904-703eef679d7a"
      },
      "execution_count": null,
      "outputs": [
        {
          "output_type": "stream",
          "name": "stdout",
          "text": [
            "[1, 99, 3]\n",
            "[1, 99, 3]\n"
          ]
        }
      ]
    },
    {
      "cell_type": "code",
      "source": [
        "# Section 4.4, Part 2\n",
        "# Explain this output. Why is it from Part 1?\n",
        "a = [1, 2, 3]\n",
        "b = a[:]\n",
        "b[1] = 99\n",
        "print(a)\n",
        "print(b)\n",
        "\n",
        "# INSERT YOUR EXPLANATION HERE\n",
        "# In this code, unlike the previous example, a and b are referring to separate list objects.\n",
        "\n",
        "# When we do:\n",
        "\n",
        "# a = [1, 2, 3]\n",
        "\n",
        "# This creates a new list object [1, 2, 3].\n",
        "\n",
        "# Then when we do:\n",
        "\n",
        "# b = a[:]\n",
        "\n",
        "# The [:] syntax creates a copy of the list. So it creates a new, separate list object with the same values as a.\n",
        "\n",
        "# Now a and b refer to two independent list objects that happen to contain the same values.\n",
        "\n",
        "# So when we modify b with b[1] = 99, it only modifies b's list, not the list that a refers to."
      ],
      "metadata": {
        "colab": {
          "base_uri": "https://localhost:8080/"
        },
        "id": "PFG-FWuUnmM6",
        "outputId": "f4ccf08c-e2ba-4bac-d5e4-e91c1d431899"
      },
      "execution_count": null,
      "outputs": [
        {
          "output_type": "stream",
          "name": "stdout",
          "text": [
            "[1, 2, 3]\n",
            "[1, 99, 3]\n"
          ]
        }
      ]
    },
    {
      "cell_type": "code",
      "source": [
        "# Section 4.4, Part 3\n",
        "# Explain this output. Why is it from Part 1?\n",
        "a = [1, 2, 3]\n",
        "b = list(a)\n",
        "b[1] = 99\n",
        "print(a)\n",
        "print(b)\n",
        "\n",
        "# INSERT YOUR EXPLANATION HERE\n",
        "# The reason for this is similar to the previous example using a[:].\n",
        "\n",
        "# When we do:\n",
        "\n",
        "# a = [1, 2, 3]\n",
        "\n",
        "# This creates a new list object [1, 2, 3].\n",
        "\n",
        "# Then when we do:\n",
        "\n",
        "# b = list(a)\n",
        "\n",
        "# Calling list() on 'a' also creates a copy. So it generates a new, independent list object with the same values.\n",
        "\n",
        "# Now a and b refer to separate lists, instead of referring to the same shared list."
      ],
      "metadata": {
        "colab": {
          "base_uri": "https://localhost:8080/"
        },
        "id": "gYLWsIv0n1uR",
        "outputId": "d5c53778-404e-486d-e19f-76896eb639ce"
      },
      "execution_count": null,
      "outputs": [
        {
          "output_type": "stream",
          "name": "stdout",
          "text": [
            "[1, 2, 3]\n",
            "[1, 99, 3]\n"
          ]
        }
      ]
    },
    {
      "cell_type": "code",
      "source": [
        "# Section 4.4, Part 4\n",
        "# Now we understand copy vs. reference. What about shallow vs. deep copy?\n",
        "# Here's a shallow copy. Why are a and b the same?\n",
        "a = [1, [100, 101], 3]\n",
        "b = list(a)\n",
        "b[1][1] = 900\n",
        "print(a)\n",
        "print(b)\n",
        "\n",
        "# INSERT YOUR EXPLANATION HERE\n",
        "# In this case, a and b are the same after modifying b because a shallow copy was made.\n",
        "\n",
        "# When we do:\n",
        "\n",
        "# a = [1, [100, 101], 3]\n",
        "\n",
        "# This creates a list with a nested list at index 1.\n",
        "\n",
        "# Then:\n",
        "\n",
        "# b = list(a)\n",
        "\n",
        "# Makes a shallow copy of a. This means it copies the outer list, but just copies the reference to the nested inner list.\n",
        "\n",
        "# So a and b end up with:\n",
        "\n",
        "# a -> [1, <ref to nested list>, 3]\n",
        "# b -> [1, <ref to nested list>, 3]\n",
        "\n",
        "# Where both a and b point to the same nested inner list object.\n",
        "\n",
        "# That's why when we modify b by doing:\n",
        "\n",
        "# b[1][1] = 900\n",
        "\n",
        "# It modifies the nested list that both a and b refer to."
      ],
      "metadata": {
        "colab": {
          "base_uri": "https://localhost:8080/"
        },
        "id": "8qAscig2oA7D",
        "outputId": "e9e4e832-9aa6-477f-dda6-61a6403e883c"
      },
      "execution_count": null,
      "outputs": [
        {
          "output_type": "stream",
          "name": "stdout",
          "text": [
            "[1, [100, 900], 3]\n",
            "[1, [100, 900], 3]\n"
          ]
        }
      ]
    },
    {
      "cell_type": "code",
      "source": [
        "# Section 4.4, Part 5\n",
        "# Modify the code from the cell above (repeated here) to perform a deepcopy of a\n",
        "# Explain how that is different.\n",
        "import copy\n",
        "a = [1, [100, 101], 3]\n",
        "b = copy.deepcopy(a) # Must be modified to do a deepcopy of a! (See text).\n",
        "b[1][1] = 900\n",
        "print(a)\n",
        "print(b)\n",
        "\n",
        "# INSERT YOUR EXPLANATION HERE\n",
        "# The key difference is using copy.deepcopy(a) instead of just assigning or shallow copying a.\n",
        "\n",
        "# deepcopy will recursively copy all nested objects inside a, instead of just copying the references."
      ],
      "metadata": {
        "colab": {
          "base_uri": "https://localhost:8080/"
        },
        "id": "Mc2xAGC-oU3C",
        "outputId": "f5d56b5c-8999-4ab8-b62d-0621e9db0a6a"
      },
      "execution_count": 14,
      "outputs": [
        {
          "output_type": "stream",
          "name": "stdout",
          "text": [
            "[1, [100, 101], 3]\n",
            "[1, [100, 900], 3]\n"
          ]
        }
      ]
    }
  ]
}
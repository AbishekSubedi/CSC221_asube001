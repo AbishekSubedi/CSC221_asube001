{
  "nbformat": 4,
  "nbformat_minor": 0,
  "metadata": {
    "colab": {
      "provenance": [],
      "authorship_tag": "ABX9TyPlwfEvFNCJVgPAS6XdjC9m",
      "include_colab_link": true
    },
    "kernelspec": {
      "name": "python3",
      "display_name": "Python 3"
    },
    "language_info": {
      "name": "python"
    }
  },
  "cells": [
    {
      "cell_type": "markdown",
      "metadata": {
        "id": "view-in-github",
        "colab_type": "text"
      },
      "source": [
        "<a href=\"https://colab.research.google.com/github/AbishekSubedi/CSC221_asube001/blob/main/Assignment6.ipynb\" target=\"_parent\"><img src=\"https://colab.research.google.com/assets/colab-badge.svg\" alt=\"Open In Colab\"/></a>"
      ]
    },
    {
      "cell_type": "code",
      "execution_count": 1,
      "metadata": {
        "colab": {
          "base_uri": "https://localhost:8080/"
        },
        "id": "3FBzPHoLTpB_",
        "outputId": "13f5af2c-284c-4bd9-d55e-f372550aa92c"
      },
      "outputs": [
        {
          "output_type": "stream",
          "name": "stdout",
          "text": [
            "\n",
            "Is car == 'subaru'? I predict True.\n",
            "True\n",
            "\n",
            "Is bike == 'kawasaki'? I predict True.\n",
            "True\n",
            "\n",
            "Is car2 == 'toyota'? I predict True.\n",
            "True\n",
            "\n",
            "Is car == 'audi'? I predict False.\n",
            "False\n",
            "\n",
            "Is bike == 'buggati'? I predict False.\n",
            "False\n",
            "\n",
            "Is car2 == 'ford'? I predict False.\n",
            "False\n"
          ]
        }
      ],
      "source": [
        "# Name = Abishek Subedi\n",
        "# Assignment 6\n",
        "# Email = asube001@plattsburgh.edu\n",
        "# CSC221A-Intro to Programming\n",
        "\n",
        "# 5.1\n",
        "car = 'subaru'\n",
        "bike = 'kawasaki'\n",
        "car2 = 'toyota'\n",
        "\n",
        "print(\"\\nIs car == 'subaru'? I predict True.\")\n",
        "print(car == 'subaru')\n",
        "\n",
        "print(\"\\nIs bike == 'kawasaki'? I predict True.\")\n",
        "print(bike == 'kawasaki')\n",
        "\n",
        "print(\"\\nIs car2 == 'toyota'? I predict True.\")\n",
        "print(car2 == 'toyota')\n",
        "\n",
        "print(\"\\nIs car == 'audi'? I predict False.\")\n",
        "print(car == 'audi')\n",
        "\n",
        "print(\"\\nIs bike == 'buggati'? I predict False.\")\n",
        "print(bike == 'buggati')\n",
        "\n",
        "print(\"\\nIs car2 == 'ford'? I predict False.\")\n",
        "print(car2 == 'ford')"
      ]
    },
    {
      "cell_type": "code",
      "source": [
        "car = ['subaru', 'ford', 'toyota', 'HONDA', 'hundai', 'mitsubishi', 'gmc']\n",
        "if car[1] == 'ford':\n",
        "  print(\"It's a ford!!!\")\n",
        "\n",
        "if car[0] != 'toyota':\n",
        "  print(\"It's not a toyota :(\")\n",
        "\n",
        "if car[3].lower() == 'HONDA':\n",
        "  print(\"It's a honda!!!\")\n",
        "\n",
        "age = 21\n",
        "if age > 18:\n",
        "  print(\"Can vote.\")\n",
        "else:\n",
        "  print(\"Cannot vote.\")\n",
        "\n",
        "if age > 18 or age == 18:\n",
        "  print(\"Can vote.\")\n",
        "\n",
        "print('toyota' in car)\n",
        "print('bugatti' not in car)"
      ],
      "metadata": {
        "colab": {
          "base_uri": "https://localhost:8080/"
        },
        "id": "FHTf5_Spmg7T",
        "outputId": "9a680069-8606-4009-f5ac-0919bc5ac28a"
      },
      "execution_count": null,
      "outputs": [
        {
          "output_type": "stream",
          "name": "stdout",
          "text": [
            "It's a ford!!!\n",
            "It's not a toyota :(\n",
            "Can vote.\n",
            "Can vote.\n",
            "True\n",
            "True\n"
          ]
        }
      ]
    },
    {
      "cell_type": "code",
      "source": [
        "# 5.3\n",
        "alien_color = ['green', 'yellow', 'red']\n",
        "if 'green' in alien_color:\n",
        "  print(\"Congrats!!! You earned 5 points.\")\n",
        "\n",
        "if 'green' not in alien_color:\n",
        "  print(\"Congrats!!! You earned 5 points.\")"
      ],
      "metadata": {
        "colab": {
          "base_uri": "https://localhost:8080/"
        },
        "id": "jGgiWQZu2E_u",
        "outputId": "4fce2006-68a7-4c03-89e9-c834141cc6d0"
      },
      "execution_count": null,
      "outputs": [
        {
          "output_type": "stream",
          "name": "stdout",
          "text": [
            "Congrats!!! You earned 5 points.\n"
          ]
        }
      ]
    },
    {
      "cell_type": "code",
      "source": [
        "# 5.6\n",
        "age2 = 66\n",
        "if age2 < 2:\n",
        "  print(\"The person is a baby.\")\n",
        "elif 2 <= age2 < 4:\n",
        "  print(\"The person is a toddler\")\n",
        "elif 4 <= age2 < 13:\n",
        "  print(\"The person is a kid\")\n",
        "elif 13 <= age2 < 20:\n",
        "  print(\"The person is a teenager.\")\n",
        "elif 20 <= age2 < 65:\n",
        "  print(\"The person is an adult.\")\n",
        "else:\n",
        "  print(\"The person is an elder.\")\n"
      ],
      "metadata": {
        "colab": {
          "base_uri": "https://localhost:8080/"
        },
        "id": "oDdeQp363ean",
        "outputId": "f715a5bf-3c5a-4fe9-88d4-2c3ca73a8b6e"
      },
      "execution_count": null,
      "outputs": [
        {
          "output_type": "stream",
          "name": "stdout",
          "text": [
            "The person is an elder.\n"
          ]
        }
      ]
    },
    {
      "cell_type": "code",
      "source": [
        "# 5.12 if statements are styled properly.\n",
        "\n",
        "# 5.13\n",
        "''' Check if the password entered by the user is valid and strong\n",
        "there will be 8 character in password which have 1 uppercase, 1 lowercase,\n",
        "1 letter and 1 special character. '''\n",
        "\n",
        "\n",
        "print(\"Password Validator!!!!\")\n",
        "print(\"Your password should be 8 characters long.\")\n",
        "print(\"Your password should have at least 1 uppercase, lowercase, number and special character\")\n",
        "user_entered_password = input(\"Enter a password to check: \")\n",
        "\n",
        "# check if the password has at least 8 characters.\n",
        "if len(user_entered_password) < 8:\n",
        "  print(\"Your password should be at least 8 characters long\")\n",
        "else:\n",
        "  has_upper = False # variable to check uppercase\n",
        "  has_lower = False # variable to check lowercase\n",
        "  has_digit = False # variable to check digit\n",
        "  has_special = False # variable to check special characters\n",
        "\n",
        "  for char in user_entered_password:\n",
        "    # checks all the conditions in the string. if yes returns true.\n",
        "    if char.isupper():\n",
        "      has_upper = True\n",
        "    elif char.islower():\n",
        "      has_lower = True\n",
        "    elif char.isdigit():\n",
        "      has_digit = True\n",
        "    elif char in \"!@#$%^&*()?\":\n",
        "      has_special = True\n",
        "\n",
        "  # checks if all conditions are met\n",
        "  if has_upper and has_lower and has_digit and has_special:\n",
        "    print(\"Your password is strong and secure!!!!!\")\n",
        "  else:\n",
        "    print(\"Try a different password\")\n",
        "# print(check_password)"
      ],
      "metadata": {
        "colab": {
          "base_uri": "https://localhost:8080/"
        },
        "id": "0YcWnW-67o8s",
        "outputId": "29fc034d-fb91-4d9c-f00c-ad6e960fbe0d"
      },
      "execution_count": null,
      "outputs": [
        {
          "output_type": "stream",
          "name": "stdout",
          "text": [
            "Password Validator!!!!\n",
            "Your password should be 8 characters long.\n",
            "Your password should have at least 1 uppercase, lowercase, number and special character\n",
            "Enter a password to check: Xyz372!@#$%^&\n",
            "Your password is strong and secure!!!!!\n"
          ]
        }
      ]
    }
  ]
}
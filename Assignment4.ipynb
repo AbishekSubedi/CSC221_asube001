{
  "nbformat": 4,
  "nbformat_minor": 0,
  "metadata": {
    "colab": {
      "provenance": [],
      "authorship_tag": "ABX9TyMe9QYQmmV6V+tsZ0DzW9mN",
      "include_colab_link": true
    },
    "kernelspec": {
      "name": "python3",
      "display_name": "Python 3"
    },
    "language_info": {
      "name": "python"
    }
  },
  "cells": [
    {
      "cell_type": "markdown",
      "metadata": {
        "id": "view-in-github",
        "colab_type": "text"
      },
      "source": [
        "<a href=\"https://colab.research.google.com/github/AbishekSubedi/CSC221_asube001/blob/main/Assignment4.ipynb\" target=\"_parent\"><img src=\"https://colab.research.google.com/assets/colab-badge.svg\" alt=\"Open In Colab\"/></a>"
      ]
    },
    {
      "cell_type": "code",
      "execution_count": 2,
      "metadata": {
        "colab": {
          "base_uri": "https://localhost:8080/"
        },
        "id": "ukxIzutEo8K-",
        "outputId": "0f899694-99af-4910-f4d1-e166ab0d9529"
      },
      "outputs": [
        {
          "output_type": "stream",
          "name": "stdout",
          "text": [
            "danny\n",
            "nikki\n",
            "don\n",
            "harry\n"
          ]
        }
      ],
      "source": [
        "# Try it yourself\n",
        "# 3.1\n",
        "friend_lst1 = ['danny', 'nikki', 'don', 'harry']\n",
        "print(friend_lst1[0])\n",
        "print(friend_lst1[1])\n",
        "print(friend_lst1[2])\n",
        "print(friend_lst1[3])"
      ]
    },
    {
      "cell_type": "code",
      "source": [
        "# 3.2\n",
        "for i in range(len(friend_lst1)):\n",
        "  print(f\"How you doing {friend_lst1[i].title()}?\")"
      ],
      "metadata": {
        "colab": {
          "base_uri": "https://localhost:8080/"
        },
        "id": "MVIHHbCrqfqT",
        "outputId": "d9f51679-aaf6-4b46-93b8-5fa5d6307f09"
      },
      "execution_count": 11,
      "outputs": [
        {
          "output_type": "stream",
          "name": "stdout",
          "text": [
            "How you doing Danny?\n",
            "How you doing Nikki?\n",
            "How you doing Don?\n",
            "How you doing Harry?\n"
          ]
        }
      ]
    },
    {
      "cell_type": "code",
      "source": [
        "# 3.3\n",
        "vehicle_lst1 = ['honda civic', 'nissan altima', 'honda accord', 'toyota camry', 'lamborgini hurrican', 'lamborgini diablo', 'mercedes benz']\n",
        "for i in range(len(vehicle_lst1)):\n",
        "  print(f\"I want to ride {vehicle_lst1[i].title()} one day!\")"
      ],
      "metadata": {
        "colab": {
          "base_uri": "https://localhost:8080/"
        },
        "id": "-HZGK-bLrTsQ",
        "outputId": "6d91fd72-dd50-4e32-bd67-9fc9bf7c6a78"
      },
      "execution_count": 12,
      "outputs": [
        {
          "output_type": "stream",
          "name": "stdout",
          "text": [
            "I want to ride Honda Civic one day!\n",
            "I want to ride Nissan Altima one day!\n",
            "I want to ride Honda Accord one day!\n",
            "I want to ride Toyota Camry one day!\n",
            "I want to ride Lamborgini Hurrican one day!\n",
            "I want to ride Lamborgini Diablo one day!\n",
            "I want to ride Mercedes Benz one day!\n"
          ]
        }
      ]
    },
    {
      "cell_type": "code",
      "source": [
        "# 3.4 and 3.5 same so doing in the same code block\n",
        "friend_lst2 = ['danny', 'jhon', 'don']\n",
        "for i in range(len(friend_lst2)):\n",
        "  print(f\"{friend_lst2[i].title()}, you are invited to the dinner party being held in my house!\")\n",
        "\n",
        "friend_not_coming = 'don'\n",
        "print(f\"{friend_not_coming.title()} cannot make it to the party.\")\n",
        "\n",
        "friend_lst2.pop(2)\n",
        "for i in range(len(friend_lst2)):\n",
        "  print(f\"{friend_lst2[i].title()}, you are invited to the dinner party being held in my house!\")"
      ],
      "metadata": {
        "colab": {
          "base_uri": "https://localhost:8080/"
        },
        "id": "pLi0QMN7wDtz",
        "outputId": "4ec187b4-f8b6-4523-d4cb-1ecdaad3c8c6"
      },
      "execution_count": 16,
      "outputs": [
        {
          "output_type": "stream",
          "name": "stdout",
          "text": [
            "Danny, you are invited to the dinner party being held in my house!\n",
            "Jhon, you are invited to the dinner party being held in my house!\n",
            "Don, you are invited to the dinner party being held in my house!\n",
            "Don cannot make it to the party.\n",
            "Danny, you are invited to the dinner party being held in my house!\n",
            "Jhon, you are invited to the dinner party being held in my house!\n"
          ]
        }
      ]
    },
    {
      "cell_type": "code",
      "source": [
        "# 3.6\n",
        "friend_lst2 = ['danny', 'jhon']\n",
        "friend_lst2.insert(0, 'james')\n",
        "friend_lst2.insert(2, 'jean')\n",
        "friend_lst2.append('nikki')\n",
        "for i in range(len(friend_lst2)):\n",
        "  print(f\"{friend_lst2[i].title()}, you are invited to the dinner party being held in my house!\")\n",
        "\n",
        "print(friend_lst2)"
      ],
      "metadata": {
        "colab": {
          "base_uri": "https://localhost:8080/"
        },
        "id": "ZuY_gAm9znWy",
        "outputId": "154ad8a7-030c-4b84-f978-7133f54c2cdb"
      },
      "execution_count": 23,
      "outputs": [
        {
          "output_type": "stream",
          "name": "stdout",
          "text": [
            "James, you are invited to the dinner party being held in my house!\n",
            "Danny, you are invited to the dinner party being held in my house!\n",
            "Jean, you are invited to the dinner party being held in my house!\n",
            "Jhon, you are invited to the dinner party being held in my house!\n",
            "Nikki, you are invited to the dinner party being held in my house!\n",
            "['james', 'danny', 'jean', 'jhon', 'nikki']\n"
          ]
        }
      ]
    },
    {
      "cell_type": "code",
      "source": [
        "# 3.7\n",
        "friend_lst2 = ['james', 'danny', 'jean', 'jhon', 'nikki']\n",
        "print(\"I can invite only two people for dinner\")\n",
        "friendRemoved1 = friend_lst2.pop(1)\n",
        "print(f\"I'm sorry I can't ivite you to to dinner, {friendRemoved1.title()} :(\")\n",
        "friendRemoved2 = friend_lst2.pop(3)\n",
        "print(f\"I'm sorry I can't ivite you to to dinner, {friendRemoved2.title()} :(\")\n",
        "friendRemoved3 = friend_lst2.pop(2)\n",
        "print(f\"I'm sorry I can't ivite you to to dinner, {friendRemoved3.title()} :(\")\n",
        "\n",
        "for friend in friend_lst2:\n",
        "  print(f\"{friend.title()} Your are still invited\")\n",
        "\n",
        "del friend_lst2[0]\n",
        "del friend_lst2[0]\n",
        "print(friend_lst2)"
      ],
      "metadata": {
        "colab": {
          "base_uri": "https://localhost:8080/"
        },
        "id": "Ct7UP6tv1BL1",
        "outputId": "1ad30841-f4cd-460e-d75b-cba7014cb975"
      },
      "execution_count": 31,
      "outputs": [
        {
          "output_type": "stream",
          "name": "stdout",
          "text": [
            "I can invite only two people for dinner\n",
            "I'm sorry I can't ivite you to to dinner, Danny :(\n",
            "I'm sorry I can't ivite you to to dinner, Nikki :(\n",
            "I'm sorry I can't ivite you to to dinner, Jhon :(\n",
            "James Your are still invited\n",
            "Jean Your are still invited\n",
            "[]\n"
          ]
        }
      ]
    },
    {
      "cell_type": "code",
      "source": [
        "# 3.8\n",
        "placesToVisit = ['france', 'italy', 'canada', 'maldives', 'singapore', 'switzerland']\n",
        "print(placesToVisit)\n",
        "\n",
        "# Prints the sorted list\n",
        "print(sorted(placesToVisit))\n",
        "\n",
        "# Prints the reverse list\n",
        "placesToVisit.reverse()\n",
        "print(placesToVisit)\n",
        "\n",
        "# Reverse again to get the original list\n",
        "placesToVisit.reverse()\n",
        "print(placesToVisit)\n",
        "\n",
        "# Using the sort() method to get alphabetical order\n",
        "placesToVisit.sort()\n",
        "print(placesToVisit)\n",
        "\n",
        "# Using the sort() method to get reverse alphabetical order\n",
        "placesToVisit.sort(reverse = True)\n",
        "print(placesToVisit)"
      ],
      "metadata": {
        "colab": {
          "base_uri": "https://localhost:8080/"
        },
        "id": "oHTxdr1g1hr3",
        "outputId": "5909fa1c-bc13-48d5-8246-77554fd5961e"
      },
      "execution_count": 45,
      "outputs": [
        {
          "output_type": "stream",
          "name": "stdout",
          "text": [
            "['france', 'italy', 'canada', 'maldives', 'singapore', 'switzerland']\n",
            "['canada', 'france', 'italy', 'maldives', 'singapore', 'switzerland']\n",
            "['switzerland', 'singapore', 'maldives', 'canada', 'italy', 'france']\n",
            "['france', 'italy', 'canada', 'maldives', 'singapore', 'switzerland']\n",
            "['canada', 'france', 'italy', 'maldives', 'singapore', 'switzerland']\n",
            "['switzerland', 'singapore', 'maldives', 'italy', 'france', 'canada']\n"
          ]
        }
      ]
    },
    {
      "cell_type": "code",
      "source": [
        "# 3.9 says using length function which i already used above in my for loop so I'm skipping it."
      ],
      "metadata": {
        "id": "mgz9SOct1i7x"
      },
      "execution_count": 46,
      "outputs": []
    },
    {
      "cell_type": "code",
      "source": [
        "# 3.10 Same things which are done above"
      ],
      "metadata": {
        "id": "bJY4tZPc1k12"
      },
      "execution_count": 47,
      "outputs": []
    },
    {
      "cell_type": "code",
      "source": [
        "# 3.11 Got a lot of index program while doing exercises and corrected them."
      ],
      "metadata": {
        "id": "-p2v4FoF1mr9"
      },
      "execution_count": 48,
      "outputs": []
    }
  ]
}
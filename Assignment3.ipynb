{
  "nbformat": 4,
  "nbformat_minor": 0,
  "metadata": {
    "colab": {
      "provenance": [],
      "authorship_tag": "ABX9TyNfbPgASg3gzD0C81mYzYe8",
      "include_colab_link": true
    },
    "kernelspec": {
      "name": "python3",
      "display_name": "Python 3"
    },
    "language_info": {
      "name": "python"
    }
  },
  "cells": [
    {
      "cell_type": "markdown",
      "metadata": {
        "id": "view-in-github",
        "colab_type": "text"
      },
      "source": [
        "<a href=\"https://colab.research.google.com/github/AbishekSubedi/CSC221_asube001/blob/main/Assignment3.ipynb\" target=\"_parent\"><img src=\"https://colab.research.google.com/assets/colab-badge.svg\" alt=\"Open In Colab\"/></a>"
      ]
    },
    {
      "cell_type": "code",
      "execution_count": 10,
      "metadata": {
        "colab": {
          "base_uri": "https://localhost:8080/"
        },
        "id": "RWrPoKfxh0Kb",
        "outputId": "3c85002c-d576-4d74-ef34-8e37079c8f10"
      },
      "outputs": [
        {
          "output_type": "stream",
          "name": "stdout",
          "text": [
            "Hello, World!\n"
          ]
        }
      ],
      "source": [
        "# Try it yourself\n",
        "# 2.1\n",
        "\n",
        "message1 = \"Hello, World!\"\n",
        "print(message1)"
      ]
    },
    {
      "cell_type": "code",
      "source": [
        "# 2.2\n",
        "\n",
        "msg1 = \"Let's do some coding\"\n",
        "print(msg1)\n",
        "msg1 = \"Never mind\"\n",
        "print(msg1)"
      ],
      "metadata": {
        "colab": {
          "base_uri": "https://localhost:8080/"
        },
        "id": "erlgF8XkjIPC",
        "outputId": "6664830d-9755-45ea-de7a-f63a39802ebd"
      },
      "execution_count": 2,
      "outputs": [
        {
          "output_type": "stream",
          "name": "stdout",
          "text": [
            "Let's do some coding\n",
            "Never mind\n"
          ]
        }
      ]
    },
    {
      "cell_type": "code",
      "source": [
        "# 2.3\n",
        "\n",
        "user_name = \"Abishek\"\n",
        "print(f\"Hello {user_name}, would you like to learn some python today?\")"
      ],
      "metadata": {
        "colab": {
          "base_uri": "https://localhost:8080/"
        },
        "id": "NMiJlQ4pjiSl",
        "outputId": "e4afbd11-817f-4903-9d1c-df26b16f5727"
      },
      "execution_count": 3,
      "outputs": [
        {
          "output_type": "stream",
          "name": "stdout",
          "text": [
            "Hello Abishek, would you like to learn some python today?\n"
          ]
        }
      ]
    },
    {
      "cell_type": "code",
      "source": [
        "# 2.4\n",
        "\n",
        "name = \"abishek\"\n",
        "print(name.lower())\n",
        "print(name.upper())\n",
        "print(name.capitalize())"
      ],
      "metadata": {
        "colab": {
          "base_uri": "https://localhost:8080/"
        },
        "id": "pvey_i-ckxq9",
        "outputId": "2b8f8b51-7fd7-45c2-bc84-31aa23592a2e"
      },
      "execution_count": 5,
      "outputs": [
        {
          "output_type": "stream",
          "name": "stdout",
          "text": [
            "abishek\n",
            "ABISHEK\n",
            "Abishek\n"
          ]
        }
      ]
    },
    {
      "cell_type": "code",
      "source": [
        "# 2.5\n",
        "\n",
        "print('Nikola Tesla once said, \"I don\\'t care that they stole my idea... \\nI care that they don\\'t have any of their own.\"')"
      ],
      "metadata": {
        "colab": {
          "base_uri": "https://localhost:8080/"
        },
        "id": "lt28GRr2lT_0",
        "outputId": "bec01984-936b-496e-81cd-8e998afa018b"
      },
      "execution_count": 9,
      "outputs": [
        {
          "output_type": "stream",
          "name": "stdout",
          "text": [
            "Nikola Tesla once said, \"I don't care that they stole my idea... \n",
            "I care that they don't have any of their own.\"\n"
          ]
        }
      ]
    },
    {
      "cell_type": "code",
      "source": [
        "# 2.6\n",
        "\n",
        "famous_person = \"Nikola Tesla\"\n",
        "message = '\"I don\\'t care that they stole my idea... \\nI care that they don\\'t have any of their own.\"'\n",
        "print(f\"{famous_person} once said, {message}\")"
      ],
      "metadata": {
        "colab": {
          "base_uri": "https://localhost:8080/"
        },
        "id": "OKJoKiUznDMT",
        "outputId": "fff014e7-6bcb-4314-d885-386034f75ae2"
      },
      "execution_count": 12,
      "outputs": [
        {
          "output_type": "stream",
          "name": "stdout",
          "text": [
            "Nikola Tesla once said, \"I don't care that they stole my idea... \n",
            "I care that they don't have any of their own.\"\n"
          ]
        }
      ]
    },
    {
      "cell_type": "code",
      "source": [
        "# 2.7\n",
        "\n",
        "name2 = \"   abishek   \"\n",
        "print(name2)\n",
        "print(name2.lstrip())\n",
        "print(name2.rstrip())\n",
        "print(name.strip())"
      ],
      "metadata": {
        "colab": {
          "base_uri": "https://localhost:8080/"
        },
        "id": "mlwTkOhVnuKs",
        "outputId": "42d72f83-8192-49a2-d0bc-ce754b6b88e1"
      },
      "execution_count": 19,
      "outputs": [
        {
          "output_type": "stream",
          "name": "stdout",
          "text": [
            "   abishek   \n",
            "abishek   \n",
            "   abishek\n",
            "abishek\n"
          ]
        }
      ]
    }
  ]
}
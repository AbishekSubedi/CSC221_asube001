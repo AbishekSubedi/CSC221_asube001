{
  "nbformat": 4,
  "nbformat_minor": 0,
  "metadata": {
    "colab": {
      "provenance": [],
      "authorship_tag": "ABX9TyNaLac5P+gKaQWdrqvqLMbD",
      "include_colab_link": true
    },
    "kernelspec": {
      "name": "python3",
      "display_name": "Python 3"
    },
    "language_info": {
      "name": "python"
    }
  },
  "cells": [
    {
      "cell_type": "markdown",
      "metadata": {
        "id": "view-in-github",
        "colab_type": "text"
      },
      "source": [
        "<a href=\"https://colab.research.google.com/github/AbishekSubedi/CSC221_asube001/blob/main/Assignment3.ipynb\" target=\"_parent\"><img src=\"https://colab.research.google.com/assets/colab-badge.svg\" alt=\"Open In Colab\"/></a>"
      ]
    },
    {
      "cell_type": "code",
      "execution_count": null,
      "metadata": {
        "colab": {
          "base_uri": "https://localhost:8080/"
        },
        "id": "RWrPoKfxh0Kb",
        "outputId": "3c85002c-d576-4d74-ef34-8e37079c8f10"
      },
      "outputs": [
        {
          "output_type": "stream",
          "name": "stdout",
          "text": [
            "Hello, World!\n"
          ]
        }
      ],
      "source": [
        "# Name = Abishek Subedi\n",
        "# Assignment 3\n",
        "# Email = asube001@plattsburgh.edu\n",
        "# CSC221A-Intro to Programming\n",
        "\n",
        "# Try it yourself\n",
        "# 2.1\n",
        "\n",
        "message1 = \"Hello, World!\"\n",
        "print(message1)"
      ]
    },
    {
      "cell_type": "code",
      "source": [
        "# 2.2\n",
        "\n",
        "msg1 = \"Let's do some coding\"\n",
        "print(msg1)\n",
        "msg1 = \"Never mind\"\n",
        "print(msg1)"
      ],
      "metadata": {
        "colab": {
          "base_uri": "https://localhost:8080/"
        },
        "id": "erlgF8XkjIPC",
        "outputId": "6664830d-9755-45ea-de7a-f63a39802ebd"
      },
      "execution_count": null,
      "outputs": [
        {
          "output_type": "stream",
          "name": "stdout",
          "text": [
            "Let's do some coding\n",
            "Never mind\n"
          ]
        }
      ]
    },
    {
      "cell_type": "code",
      "source": [
        "# 2.3\n",
        "\n",
        "user_name = \"Abishek\"\n",
        "print(f\"Hello {user_name}, would you like to learn some python today?\")"
      ],
      "metadata": {
        "colab": {
          "base_uri": "https://localhost:8080/"
        },
        "id": "NMiJlQ4pjiSl",
        "outputId": "e4afbd11-817f-4903-9d1c-df26b16f5727"
      },
      "execution_count": null,
      "outputs": [
        {
          "output_type": "stream",
          "name": "stdout",
          "text": [
            "Hello Abishek, would you like to learn some python today?\n"
          ]
        }
      ]
    },
    {
      "cell_type": "code",
      "source": [
        "# 2.4\n",
        "\n",
        "name = \"abishek\"\n",
        "print(name.lower())\n",
        "print(name.upper())\n",
        "print(name.capitalize())"
      ],
      "metadata": {
        "colab": {
          "base_uri": "https://localhost:8080/"
        },
        "id": "pvey_i-ckxq9",
        "outputId": "2b8f8b51-7fd7-45c2-bc84-31aa23592a2e"
      },
      "execution_count": null,
      "outputs": [
        {
          "output_type": "stream",
          "name": "stdout",
          "text": [
            "abishek\n",
            "ABISHEK\n",
            "Abishek\n"
          ]
        }
      ]
    },
    {
      "cell_type": "code",
      "source": [
        "# 2.5\n",
        "\n",
        "print('Nikola Tesla once said, \"I don\\'t care that they stole my idea... \\nI care that they don\\'t have any of their own.\"')"
      ],
      "metadata": {
        "colab": {
          "base_uri": "https://localhost:8080/"
        },
        "id": "lt28GRr2lT_0",
        "outputId": "bec01984-936b-496e-81cd-8e998afa018b"
      },
      "execution_count": null,
      "outputs": [
        {
          "output_type": "stream",
          "name": "stdout",
          "text": [
            "Nikola Tesla once said, \"I don't care that they stole my idea... \n",
            "I care that they don't have any of their own.\"\n"
          ]
        }
      ]
    },
    {
      "cell_type": "code",
      "source": [
        "# 2.6\n",
        "\n",
        "famous_person = \"Nikola Tesla\"\n",
        "message = '\"I don\\'t care that they stole my idea... \\nI care that they don\\'t have any of their own.\"'\n",
        "print(f\"{famous_person} once said, {message}\")"
      ],
      "metadata": {
        "colab": {
          "base_uri": "https://localhost:8080/"
        },
        "id": "OKJoKiUznDMT",
        "outputId": "fff014e7-6bcb-4314-d885-386034f75ae2"
      },
      "execution_count": null,
      "outputs": [
        {
          "output_type": "stream",
          "name": "stdout",
          "text": [
            "Nikola Tesla once said, \"I don't care that they stole my idea... \n",
            "I care that they don't have any of their own.\"\n"
          ]
        }
      ]
    },
    {
      "cell_type": "code",
      "source": [
        "# 2.7\n",
        "\n",
        "name2 = \"   abishek   \"\n",
        "print(name2)\n",
        "print(name2.lstrip())\n",
        "print(name2.rstrip())\n",
        "print(name.strip())"
      ],
      "metadata": {
        "colab": {
          "base_uri": "https://localhost:8080/"
        },
        "id": "mlwTkOhVnuKs",
        "outputId": "42d72f83-8192-49a2-d0bc-ce754b6b88e1"
      },
      "execution_count": null,
      "outputs": [
        {
          "output_type": "stream",
          "name": "stdout",
          "text": [
            "   abishek   \n",
            "abishek   \n",
            "   abishek\n",
            "abishek\n"
          ]
        }
      ]
    },
    {
      "cell_type": "code",
      "source": [
        "# 2.8 and 2.10\n",
        "# name = abishek\n",
        "# date = fri, sep 8\n",
        "# this program does addition, subtraction, multiplication and division to get exact value of 8\n",
        "\n",
        "print(5 + 3)\n",
        "print(10 - 2)\n",
        "print(4 * 2)\n",
        "print(32 / 4)"
      ],
      "metadata": {
        "colab": {
          "base_uri": "https://localhost:8080/"
        },
        "id": "wzlAkEuktBJ-",
        "outputId": "d2590d37-feaa-4ae0-e158-d87286d795a1"
      },
      "execution_count": null,
      "outputs": [
        {
          "output_type": "stream",
          "name": "stdout",
          "text": [
            "8\n",
            "8\n",
            "8\n",
            "8.0\n"
          ]
        }
      ]
    },
    {
      "cell_type": "code",
      "source": [
        "# 2.9\n",
        "fav_number = 7\n",
        "print(\"My favorite number is \" + str(fav_number))"
      ],
      "metadata": {
        "colab": {
          "base_uri": "https://localhost:8080/"
        },
        "id": "h4lj2sLLtVmn",
        "outputId": "a60a2398-7bd4-45e6-f278-25e67a74ebf4"
      },
      "execution_count": null,
      "outputs": [
        {
          "output_type": "stream",
          "name": "stdout",
          "text": [
            "My favorite number is 7\n"
          ]
        }
      ]
    },
    {
      "cell_type": "code",
      "source": [
        "# 2.11\n",
        "\n",
        "import this\n",
        "print(this)\n",
        "dir(this)"
      ],
      "metadata": {
        "id": "XSY2AYgVuT9U",
        "colab": {
          "base_uri": "https://localhost:8080/"
        },
        "outputId": "6cc8c3f7-db29-487e-83ef-7742d6c84ba4"
      },
      "execution_count": 2,
      "outputs": [
        {
          "output_type": "stream",
          "name": "stdout",
          "text": [
            "<module 'this' from '/usr/lib/python3.10/this.py'>\n"
          ]
        },
        {
          "output_type": "execute_result",
          "data": {
            "text/plain": [
              "['__builtins__',\n",
              " '__cached__',\n",
              " '__doc__',\n",
              " '__file__',\n",
              " '__loader__',\n",
              " '__name__',\n",
              " '__package__',\n",
              " '__spec__',\n",
              " 'c',\n",
              " 'd',\n",
              " 'i',\n",
              " 's']"
            ]
          },
          "metadata": {},
          "execution_count": 2
        }
      ]
    }
  ]
}
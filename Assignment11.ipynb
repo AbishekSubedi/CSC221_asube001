{
  "nbformat": 4,
  "nbformat_minor": 0,
  "metadata": {
    "colab": {
      "provenance": [],
      "authorship_tag": "ABX9TyMDL0zstmQF/4lHcp+gILr3",
      "include_colab_link": true
    },
    "kernelspec": {
      "name": "python3",
      "display_name": "Python 3"
    },
    "language_info": {
      "name": "python"
    }
  },
  "cells": [
    {
      "cell_type": "markdown",
      "metadata": {
        "id": "view-in-github",
        "colab_type": "text"
      },
      "source": [
        "<a href=\"https://colab.research.google.com/github/AbishekSubedi/CSC221_asube001/blob/main/Assignment11.ipynb\" target=\"_parent\"><img src=\"https://colab.research.google.com/assets/colab-badge.svg\" alt=\"Open In Colab\"/></a>"
      ]
    },
    {
      "cell_type": "code",
      "execution_count": null,
      "metadata": {
        "id": "2I1iVjn45FED"
      },
      "outputs": [],
      "source": [
        "# Name = Abishek Subedi\n",
        "# Email = asube001@plattsburgh.edu\n",
        "# CSC221-Intro to Progamming"
      ]
    },
    {
      "cell_type": "code",
      "source": [
        "class Dog():\n",
        "    '''A simple attempt to model a dog.'''\n",
        "\n",
        "    def __init__(self, name, age):\n",
        "        '''Initialize name and age attributes.'''\n",
        "        self.name = name\n",
        "        self.age = age\n",
        "\n",
        "    def sit(self):\n",
        "        '''Simulate dog sitting in response to a command.'''\n",
        "        print(self.name.title() + \" is now sitting.\")\n",
        "\n",
        "    def roll_over(self):\n",
        "        '''Simulate rolling over in response to a command'''\n",
        "        print(self.name.title() + \" rolled over!\")"
      ],
      "metadata": {
        "id": "CwBZYQck7XZJ"
      },
      "execution_count": 8,
      "outputs": []
    },
    {
      "cell_type": "code",
      "source": [
        "my_dog = Dog('willie', 6)\n",
        "print(\"My dog's name is \" + my_dog.name.title() + \".\")\n",
        "print(\"My dog is \" + str(my_dog.age) + \" years old.\")"
      ],
      "metadata": {
        "colab": {
          "base_uri": "https://localhost:8080/"
        },
        "id": "yFzskKO3RQrY",
        "outputId": "6078050d-99cc-4cd0-8f05-b1971e3bad59"
      },
      "execution_count": 9,
      "outputs": [
        {
          "output_type": "stream",
          "name": "stdout",
          "text": [
            "My dog's name is Willie.\n",
            "My dog is 6 years old.\n"
          ]
        }
      ]
    },
    {
      "cell_type": "code",
      "source": [
        "my_dog.name"
      ],
      "metadata": {
        "colab": {
          "base_uri": "https://localhost:8080/",
          "height": 36
        },
        "id": "k6xIesxxRVFt",
        "outputId": "8243e4af-2a73-47e0-c7e9-a53d6063d113"
      },
      "execution_count": 10,
      "outputs": [
        {
          "output_type": "execute_result",
          "data": {
            "text/plain": [
              "'willie'"
            ],
            "application/vnd.google.colaboratory.intrinsic+json": {
              "type": "string"
            }
          },
          "metadata": {},
          "execution_count": 10
        }
      ]
    },
    {
      "cell_type": "code",
      "source": [
        "my_dog.sit()\n",
        "my_dog.roll_over()"
      ],
      "metadata": {
        "colab": {
          "base_uri": "https://localhost:8080/"
        },
        "id": "xdW4mE76SIbE",
        "outputId": "cc4260ea-6adf-4881-b58f-ab539b507952"
      },
      "execution_count": 11,
      "outputs": [
        {
          "output_type": "stream",
          "name": "stdout",
          "text": [
            "Willie is now sitting.\n",
            "Willie rolled over!\n"
          ]
        }
      ]
    },
    {
      "cell_type": "code",
      "source": [
        "my_dog = Dog('willie', 6)\n",
        "your_dog = Dog('lucy', 3)\n",
        "\n",
        "print(\"My dog's name is \" + my_dog.name.title() + \".\")\n",
        "print(\"My dog is \" + str(my_dog.age) + \" years old.\")\n",
        "my_dog.sit()\n",
        "\n",
        "print(\"\\nYour dog's name is \" + your_dog.name.title() + \".\")\n",
        "print(\"Your dog is \" + str(your_dog.age) + \" years old.\")\n",
        "your_dog.sit()"
      ],
      "metadata": {
        "colab": {
          "base_uri": "https://localhost:8080/"
        },
        "id": "TsM2NaYMScUN",
        "outputId": "87a3d051-f43f-419d-843c-eebc5408d6e7"
      },
      "execution_count": 12,
      "outputs": [
        {
          "output_type": "stream",
          "name": "stdout",
          "text": [
            "My dog's name is Willie.\n",
            "My dog is 6 years old.\n",
            "Willie is now sitting.\n",
            "\n",
            "Your dog's name is Lucy.\n",
            "Your dog is 3 years old.\n",
            "Lucy is now sitting.\n"
          ]
        }
      ]
    },
    {
      "cell_type": "code",
      "source": [
        "# 9.1\n",
        "class Restaurant():\n",
        "    '''A simple method to make a model of restaurant.'''\n",
        "\n",
        "    def __init__(self, restaurant_name, cuisine_type):\n",
        "        '''It creates an instance of restaurant when class is called.'''\n",
        "        self.restaurant_name = restaurant_name\n",
        "        self.cuisine_type = cuisine_type\n",
        "\n",
        "    def describe_restaurant(self):\n",
        "        print(f\"The name of the restaurant is {self.restaurant_name.title()}.\")\n",
        "        print(f\"The types of cuisine {self.restaurant_name.title()} has is {self.cuisine_type.title()}.\")\n",
        "\n",
        "    def open_restaurant(self):\n",
        "        print(f\"{self.restaurant_name.title()} is now open.\")\n",
        "\n",
        "\n",
        "restaurant = Restaurant(\"indian grill\", \"indian\")\n",
        "\n",
        "print(f\"Restaurant Name: {restaurant.restaurant_name}\")\n",
        "print(f\"Cuisine Type: {restaurant.cuisine_type}\")\n",
        "\n",
        "restaurant.describe_restaurant()\n",
        "restaurant.open_restaurant()"
      ],
      "metadata": {
        "colab": {
          "base_uri": "https://localhost:8080/"
        },
        "id": "xuyN0FTIwYrf",
        "outputId": "b0be5a6a-8f2e-4ef6-f897-8d33d2f096c5"
      },
      "execution_count": 18,
      "outputs": [
        {
          "output_type": "stream",
          "name": "stdout",
          "text": [
            "Restaurant Name: indian grill\n",
            "Cuisine Type: indian\n",
            "The name of the restaurant is Indian Grill.\n",
            "The types of cuisine Indian Grill has is Indian.\n",
            "Indian Grill is now open.\n"
          ]
        }
      ]
    },
    {
      "cell_type": "code",
      "source": [
        "# 9.2\n",
        "restaurant1 = Restaurant(\"Restaurant A\", \"Italian\")\n",
        "restaurant2 = Restaurant(\"Restaurant B\", \"Mexican\")\n",
        "restaurant3 = Restaurant(\"Restaurant C\", \"Japanese\")\n",
        "\n",
        "# Call describe_restaurant() for each instance\n",
        "restaurant1.describe_restaurant()\n",
        "restaurant2.describe_restaurant()\n",
        "restaurant3.describe_restaurant()"
      ],
      "metadata": {
        "colab": {
          "base_uri": "https://localhost:8080/"
        },
        "id": "T_r4aJo-wecs",
        "outputId": "a5d67f26-24e1-4f8b-c37c-0e94566ce2b2"
      },
      "execution_count": 19,
      "outputs": [
        {
          "output_type": "stream",
          "name": "stdout",
          "text": [
            "The name of the restaurant is Restaurant A.\n",
            "The types of cuisine Restaurant A has is Italian.\n",
            "The name of the restaurant is Restaurant B.\n",
            "The types of cuisine Restaurant B has is Mexican.\n",
            "The name of the restaurant is Restaurant C.\n",
            "The types of cuisine Restaurant C has is Japanese.\n"
          ]
        }
      ]
    },
    {
      "cell_type": "code",
      "source": [
        "# 9.3\n",
        "class User():\n",
        "    def __init__(self, first_name, last_name, username, email, location):\n",
        "        self.first_name = first_name\n",
        "        self.last_name = last_name\n",
        "        self.username = username\n",
        "        self.email = email\n",
        "        self.location = location\n",
        "\n",
        "    def describe_user(self):\n",
        "        print(f\"User Profile Information for {self.first_name} {self.last_name}:\")\n",
        "        print(f\"Username: {self.username}\")\n",
        "        print(f\"Email: {self.email}\")\n",
        "        print(f\"Location: {self.location}\")\n",
        "\n",
        "    def greet_user(self):\n",
        "        print(f\"Hello, {self.first_name}! Welcome to our platform.\")\n",
        "\n",
        "# Create several instances representing different users\n",
        "user1 = User(\"John\", \"Doe\", \"johndoe123\", \"johndoe@example.com\", \"New York\")\n",
        "user2 = User(\"Jane\", \"Smith\", \"janesmith456\", \"janesmith@example.com\", \"Los Angeles\")\n",
        "user3 = User(\"Alice\", \"Johnson\", \"alicej\", \"alice@example.com\", \"Chicago\")\n",
        "\n",
        "# Call both methods for each user\n",
        "user1.describe_user()\n",
        "user1.greet_user()\n",
        "\n",
        "user2.describe_user()\n",
        "user2.greet_user()\n",
        "\n",
        "user3.describe_user()\n",
        "user3.greet_user()"
      ],
      "metadata": {
        "colab": {
          "base_uri": "https://localhost:8080/"
        },
        "id": "MS7SyOSAwgNf",
        "outputId": "af7b1062-72c3-4164-ebc8-e0a3b7a0a09f"
      },
      "execution_count": 22,
      "outputs": [
        {
          "output_type": "stream",
          "name": "stdout",
          "text": [
            "User Profile Information for John Doe:\n",
            "Username: johndoe123\n",
            "Email: johndoe@example.com\n",
            "Location: New York\n",
            "Hello, John! Welcome to our platform.\n",
            "User Profile Information for Jane Smith:\n",
            "Username: janesmith456\n",
            "Email: janesmith@example.com\n",
            "Location: Los Angeles\n",
            "Hello, Jane! Welcome to our platform.\n",
            "User Profile Information for Alice Johnson:\n",
            "Username: alicej\n",
            "Email: alice@example.com\n",
            "Location: Chicago\n",
            "Hello, Alice! Welcome to our platform.\n"
          ]
        }
      ]
    },
    {
      "cell_type": "code",
      "source": [
        "# The Car Class\n",
        "\n",
        "class Car():\n",
        "    \"\"\"A simple attempt to represent a car.\"\"\"\n",
        "\n",
        "    def __init__(self, make, model, year):\n",
        "        \"\"\"Initialize attributes to describe a car.\"\"\"\n",
        "        self.make = make\n",
        "        self.model = model\n",
        "        self.year = year\n",
        "        self.odometer_reading = 0\n",
        "\n",
        "    def get_descriptive_name(self):\n",
        "        \"\"\"Return a neatly formatted descriptive name.\"\"\"\n",
        "        long_name = str(self.year) + ' ' + self.make + ' ' + self.model\n",
        "        return long_name.title()\n",
        "\n",
        "    def read_odometer(self):\n",
        "        \"\"\"Print a statement showing the car's mileage.\"\"\"\n",
        "        print(\"This car has \" + str(self.odometer_reading) + \" miles on it.\")\n",
        "\n",
        "    def update_odometer(self, mileage):\n",
        "        \"\"\"\n",
        "        Set the odometer reading to the given value.\n",
        "        Reject the change if it attempts to roll the odometer back.\n",
        "        \"\"\"\n",
        "        if mileage >= self.odometer_reading:\n",
        "            self.odometer_reading = mileage\n",
        "        else:\n",
        "            print(\"You can't roll back an odometer!\")\n",
        "\n",
        "    def increment_odometer(self, miles):\n",
        "        \"\"\"Add the given amount to the odometer reading.\"\"\"\n",
        "        self.odometer_reading += miles\n",
        "\n",
        "my_new_car = Car('audi', 'a4', 2016)\n",
        "print(my_new_car.get_descriptive_name())\n",
        "my_new_car.read_odometer()\n",
        "\n",
        "my_new_car.update_odometer(23)\n",
        "my_new_car.read_odometer()\n",
        "\n",
        "my_used_car = Car('subaru', 'outback', 2013)\n",
        "print(my_used_car.get_descriptive_name())\n",
        "\n",
        "my_used_car.update_odometer(23500)\n",
        "my_used_car.read_odometer()\n",
        "\n",
        "my_used_car.increment_odometer(100)\n",
        "my_used_car.read_odometer()"
      ],
      "metadata": {
        "colab": {
          "base_uri": "https://localhost:8080/"
        },
        "id": "rqbI_KB01pb8",
        "outputId": "d388591a-ea21-4d5d-c6d6-0f5fece4110a"
      },
      "execution_count": 8,
      "outputs": [
        {
          "output_type": "stream",
          "name": "stdout",
          "text": [
            "2016 Audi A4\n",
            "This car has 0 miles on it.\n",
            "This car has 23 miles on it.\n",
            "2013 Subaru Outback\n",
            "This car has 23500 miles on it.\n",
            "This car has 23600 miles on it.\n"
          ]
        }
      ]
    },
    {
      "cell_type": "code",
      "source": [
        "my_new_car.odometer_reading = 23\n",
        "my_new_car.read_odometer()"
      ],
      "metadata": {
        "colab": {
          "base_uri": "https://localhost:8080/"
        },
        "id": "ujiSJeR471ox",
        "outputId": "b15bcc11-08c6-4239-f30d-3c3d6cd11291"
      },
      "execution_count": 4,
      "outputs": [
        {
          "output_type": "stream",
          "name": "stdout",
          "text": [
            "This car has 23 miles on it.\n"
          ]
        }
      ]
    },
    {
      "cell_type": "code",
      "source": [
        "class Battery():\n",
        "    \"\"\"A simple attempt to model a battery for an electric car.\"\"\"\n",
        "\n",
        "    def __init__(self, battery_size=70):\n",
        "        \"\"\"Initialize the battery's attributes.\"\"\"\n",
        "        self.battery_size = battery_size\n",
        "\n",
        "    def describe_battery(self):\n",
        "        \"\"\"Print a statement describing the battery size.\"\"\"\n",
        "        print(\"This car has a \" + str(self.battery_size) + \"-kWh battery.\")\n",
        "\n",
        "    def get_range(self):\n",
        "        \"\"\"Print a statement about the range this battery provides.\"\"\"\n",
        "        if self.battery_size == 70:\n",
        "            range = 240\n",
        "        elif self.battery_size == 85:\n",
        "            range = 270\n",
        "\n",
        "        message = \"This car can go approximately \" + str(range)\n",
        "        message += \" miles on a full charge.\"\n",
        "        print(message)\n",
        "\n",
        "class ElectricCar(Car):\n",
        "    \"\"\"Represent aspects of a car, specific to electric vehicles.\"\"\"\n",
        "    def __init__(self, make, model, year):\n",
        "        \"\"\"\n",
        "        Initialize attributes of the parent class.\n",
        "        Then initialize attributes specific to an electric car.\n",
        "        \"\"\"\n",
        "        super().__init__(make, model, year)\n",
        "        self.battery = Battery()\n",
        "\n",
        "    def fill_gas_tank():\n",
        "        \"\"\"Electric cars don't have gas tanks.\"\"\"\n",
        "        print(\"This car doesn't need a gas tank!\")\n",
        "\n",
        "my_tesla = ElectricCar('tesla', 'model s', 2016)\n",
        "\n",
        "print(my_tesla.get_descriptive_name())\n",
        "my_tesla.battery.describe_battery()\n",
        "my_tesla.battery.get_range()"
      ],
      "metadata": {
        "colab": {
          "base_uri": "https://localhost:8080/"
        },
        "id": "AFBAyEmf-pfm",
        "outputId": "28042771-4a17-45e1-844a-371c05589016"
      },
      "execution_count": 16,
      "outputs": [
        {
          "output_type": "stream",
          "name": "stdout",
          "text": [
            "2016 Tesla Model S\n",
            "This car has a 70-kWh battery.\n",
            "This car can go approximately 240 miles on a full charge.\n"
          ]
        }
      ]
    },
    {
      "cell_type": "code",
      "source": [
        "# 9.6\n",
        "\n",
        "class IceCreamStand(Restaurant):\n",
        "    '''A simple method to make an ice cream stand.'''\n",
        "\n",
        "    def __init__(self, restaurant_name, cuisine_type, flavors):\n",
        "        '''Initialize attributes of the parent class.'''\n",
        "        super().__init__(restaurant_name, cuisine_type)\n",
        "        self.flavors = flavors\n",
        "\n",
        "    def display_flavors(self):\n",
        "        print(f\"{self.restaurant_name.title()} has following flavors available: \")\n",
        "        for flavor in self.flavors:\n",
        "            print(\"> \", flavor)\n",
        "\n",
        "ice_cream_stand = IceCreamStand(\"Cold Stone\", \"Ice Cream\", [\"Vanilla\", \"Chocolate\", \"Strawberry\"])\n",
        "\n",
        "ice_cream_stand.display_flavors()"
      ],
      "metadata": {
        "colab": {
          "base_uri": "https://localhost:8080/"
        },
        "id": "M-fk88NY-i8P",
        "outputId": "399093b2-9987-4187-bb95-2ffc4f0a02f3"
      },
      "execution_count": 21,
      "outputs": [
        {
          "output_type": "stream",
          "name": "stdout",
          "text": [
            "Cold Stone has following flavors available: \n",
            ">  Vanilla\n",
            ">  Chocolate\n",
            ">  Strawberry\n"
          ]
        }
      ]
    },
    {
      "cell_type": "code",
      "source": [
        "# 9.7\n",
        "\n",
        "class Admin(User):\n",
        "    \"\"\"Creating admin for the user class\"\"\"\n",
        "\n",
        "    def __init__(self, first_name, last_name, username, email, location, privileges):\n",
        "        '''Initialize attributes of the parent class.'''\n",
        "        super().__init__(first_name, last_name, username, email, location)\n",
        "        self.privileges = privileges\n",
        "\n",
        "    def show_privileges(self):\n",
        "        print(f\"{self.first_name} {self.last_name} has following privileges: \")\n",
        "        for privilege in self.privileges:\n",
        "            print(\"-\", privilege)\n",
        "\n",
        "admin = Admin('John', 'Doe', 'johnd', 'john@example.com', 'New York',\n",
        "              ['can add post', 'can delete post', 'can ban user'])\n",
        "\n",
        "admin.show_privileges()"
      ],
      "metadata": {
        "colab": {
          "base_uri": "https://localhost:8080/"
        },
        "id": "eCanwtjn-mWf",
        "outputId": "64ee8196-e91f-46aa-bdbc-f28be17ed65c"
      },
      "execution_count": 24,
      "outputs": [
        {
          "output_type": "stream",
          "name": "stdout",
          "text": [
            "John Doe has following privileges: \n",
            "- can add post\n",
            "- can delete post\n",
            "- can ban user\n"
          ]
        }
      ]
    }
  ]
}
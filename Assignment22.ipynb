{
  "nbformat": 4,
  "nbformat_minor": 0,
  "metadata": {
    "colab": {
      "provenance": [],
      "authorship_tag": "ABX9TyMDitEpfTpJDItQWno5+q+4",
      "include_colab_link": true
    },
    "kernelspec": {
      "name": "python3",
      "display_name": "Python 3"
    },
    "language_info": {
      "name": "python"
    }
  },
  "cells": [
    {
      "cell_type": "markdown",
      "metadata": {
        "id": "view-in-github",
        "colab_type": "text"
      },
      "source": [
        "<a href=\"https://colab.research.google.com/github/AbishekSubedi/CSC221_asube001/blob/main/Assignment22.ipynb\" target=\"_parent\"><img src=\"https://colab.research.google.com/assets/colab-badge.svg\" alt=\"Open In Colab\"/></a>"
      ]
    },
    {
      "cell_type": "code",
      "execution_count": 2,
      "metadata": {
        "colab": {
          "base_uri": "https://localhost:8080/"
        },
        "id": "hK1ty06_cF0Y",
        "outputId": "427719c0-9e4b-44b7-8003-07bdb2a3e0e7"
      },
      "outputs": [
        {
          "output_type": "stream",
          "name": "stdout",
          "text": [
            "Vector 1: Vector2D(3, 4)\n",
            "Vector 2: Vector2D(1, 2)\n",
            "Vector 3: Vector2D(5, 12)\n",
            "\n",
            "Sorted Vectors by Length:\n",
            "Vector2D(1, 2)\n",
            "Vector2D(3, 4)\n",
            "Vector2D(5, 12)\n"
          ]
        }
      ],
      "source": [
        "\"\"\"\n",
        "1. Make a class Vector2D that stores a 2D vector (x,y) and allows me to print\n",
        "them and sort them by length. Show that your code works. It is fine to ask\n",
        "ChatGPT for help... it did a perfect job for me.\n",
        "\"\"\"\n",
        "import math\n",
        "\n",
        "class Vector2D:\n",
        "    def __init__(self, x, y):\n",
        "        self.x = x\n",
        "        self.y = y\n",
        "\n",
        "    def __repr__(self):\n",
        "        return f\"Vector2D({self.x}, {self.y})\"\n",
        "\n",
        "    def length(self):\n",
        "        return math.sqrt(self.x**2 + self.y**2)\n",
        "\n",
        "# Function to sort a list of Vector2D objects by their length\n",
        "def sort_vectors_by_length(vectors):\n",
        "    return sorted(vectors, key=lambda vector: vector.length())\n",
        "\n",
        "# Example usage\n",
        "if __name__ == \"__main__\":\n",
        "    # Creating some Vector2D objects\n",
        "    vector1 = Vector2D(3, 4)\n",
        "    vector2 = Vector2D(1, 2)\n",
        "    vector3 = Vector2D(5, 12)\n",
        "\n",
        "    # Printing the vectors\n",
        "    print(\"Vector 1:\", vector1)\n",
        "    print(\"Vector 2:\", vector2)\n",
        "    print(\"Vector 3:\", vector3)\n",
        "\n",
        "    # Sorting vectors by length\n",
        "    vectors_to_sort = [vector1, vector2, vector3]\n",
        "    sorted_vectors = sort_vectors_by_length(vectors_to_sort)\n",
        "\n",
        "    # Printing the sorted vectors\n",
        "    print(\"\\nSorted Vectors by Length:\")\n",
        "    for vector in sorted_vectors:\n",
        "        print(vector)\n"
      ]
    },
    {
      "cell_type": "code",
      "source": [
        "'''\n",
        "2. Modify the above code to sort by Euclidean length... just the sum of\n",
        "x and y. ChatGPT did a nice job for me except it didn't bother to change\n",
        "the math for length.\n",
        "'''\n",
        "class Vector2D:\n",
        "    def __init__(self, x, y):\n",
        "        self.x = x\n",
        "        self.y = y\n",
        "\n",
        "    def __repr__(self):\n",
        "        return f\"Vector2D({self.x}, {self.y})\"\n",
        "\n",
        "    def euclidean_length(self):\n",
        "        return self.x + self.y\n",
        "\n",
        "# Function to sort a list of Vector2D objects by their length\n",
        "def sort_vectors_by_length(vectors):\n",
        "    return sorted(vectors, key=lambda vector: vector.euclidean_length())\n",
        "\n",
        "# Example usage\n",
        "if __name__ == \"__main__\":\n",
        "    # Creating some Vector2D objects\n",
        "    vector1 = Vector2D(3, 4)\n",
        "    vector2 = Vector2D(1, 7)\n",
        "    vector3 = Vector2D(5, 12)\n",
        "\n",
        "    # Printing the vectors\n",
        "    print(\"Vector 1:\", vector1)\n",
        "    print(\"Vector 2:\", vector2)\n",
        "    print(\"Vector 3:\", vector3)\n",
        "\n",
        "    # Sorting vectors by length\n",
        "    vectors_to_sort = [vector1, vector2, vector3]\n",
        "    sorted_vectors = sort_vectors_by_length(vectors_to_sort)\n",
        "\n",
        "    # Printing the sorted vectors\n",
        "    print(\"\\nSorted Vectors by Euclidean Length:\")\n",
        "    for vector in sorted_vectors:\n",
        "        print(vector)"
      ],
      "metadata": {
        "colab": {
          "base_uri": "https://localhost:8080/"
        },
        "id": "2ZM-Ly_YgSPi",
        "outputId": "9da1088a-2ccb-4ee4-b440-0ebea271b418"
      },
      "execution_count": 4,
      "outputs": [
        {
          "output_type": "stream",
          "name": "stdout",
          "text": [
            "Vector 1: Vector2D(3, 4)\n",
            "Vector 2: Vector2D(1, 7)\n",
            "Vector 3: Vector2D(5, 12)\n",
            "\n",
            "Sorted Vectors by Euclidean Length:\n",
            "Vector2D(3, 4)\n",
            "Vector2D(1, 7)\n",
            "Vector2D(5, 12)\n"
          ]
        }
      ]
    },
    {
      "cell_type": "code",
      "source": [
        "\"\"\"\n",
        "Make a class that implements the container protocol such that the class\n",
        "returns the length of the key for any key.\n",
        "\"\"\"\n",
        "class Special():\n",
        "    def __getitem__(self, key):\n",
        "        return len(key)\n",
        "\n",
        "\n",
        "s1 = Special()\n",
        "\n",
        "print(s1[\"ned\"])\n",
        "print(s1[\"ned2\"])\n",
        "print(s1[\"ned2\" * 5])"
      ],
      "metadata": {
        "colab": {
          "base_uri": "https://localhost:8080/"
        },
        "id": "yQDonjN8pnD8",
        "outputId": "f3d9b4c2-ee2b-49ad-a11e-98275669e6b6"
      },
      "execution_count": 6,
      "outputs": [
        {
          "output_type": "stream",
          "name": "stdout",
          "text": [
            "3\n",
            "4\n",
            "20\n"
          ]
        }
      ]
    },
    {
      "cell_type": "code",
      "source": [],
      "metadata": {
        "id": "nvQPTP2GpoRl"
      },
      "execution_count": null,
      "outputs": []
    }
  ]
}
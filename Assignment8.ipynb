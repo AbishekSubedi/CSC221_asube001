{
  "nbformat": 4,
  "nbformat_minor": 0,
  "metadata": {
    "colab": {
      "provenance": [],
      "authorship_tag": "ABX9TyOdBw+rOP1hCKlHktk0n0br",
      "include_colab_link": true
    },
    "kernelspec": {
      "name": "python3",
      "display_name": "Python 3"
    },
    "language_info": {
      "name": "python"
    }
  },
  "cells": [
    {
      "cell_type": "markdown",
      "metadata": {
        "id": "view-in-github",
        "colab_type": "text"
      },
      "source": [
        "<a href=\"https://colab.research.google.com/github/AbishekSubedi/CSC221_asube001/blob/main/Assignment8.ipynb\" target=\"_parent\"><img src=\"https://colab.research.google.com/assets/colab-badge.svg\" alt=\"Open In Colab\"/></a>"
      ]
    },
    {
      "cell_type": "code",
      "execution_count": null,
      "metadata": {
        "colab": {
          "base_uri": "https://localhost:8080/"
        },
        "id": "2zT32r9KZ47u",
        "outputId": "dcab7f70-884b-4b51-df02-97128ed16130"
      },
      "outputs": [
        {
          "output_type": "stream",
          "name": "stdout",
          "text": [
            "What kind of rental car would you like? bmw\n",
            "Let me see if I can find you a Bmw\n"
          ]
        }
      ],
      "source": [
        "# 7.1\n",
        "rental_car = input(\"What kind of rental car would you like? \")\n",
        "print(f\"Let me see if I can find you a {rental_car.title()}\")"
      ]
    },
    {
      "cell_type": "code",
      "source": [
        "# 7.3\n",
        "check_num = int(input(\"Enter the number to check: \"))\n",
        "\n",
        "if check_num % 10 == 0:\n",
        "    print(f\"{check_num} is the multiple of 10.\")\n",
        "else:\n",
        "    print(f\"{check_num} is not the multiple of 10.\")"
      ],
      "metadata": {
        "colab": {
          "base_uri": "https://localhost:8080/"
        },
        "id": "9pmYuCUVcWKe",
        "outputId": "3bd8d745-0514-4761-bedc-d8af723b4427"
      },
      "execution_count": null,
      "outputs": [
        {
          "output_type": "stream",
          "name": "stdout",
          "text": [
            "Enter the number to check: 100\n",
            "100 is the multiple of 10.\n"
          ]
        }
      ]
    },
    {
      "cell_type": "code",
      "source": [
        "# 7.5\n",
        "active = True\n",
        "while active:\n",
        "    try:\n",
        "        age = int(input(\"Enter your age: \"))\n",
        "    except:\n",
        "        print(\"Enter your age in number!!!\")\n",
        "\n",
        "    if age < 3:\n",
        "        print(\"The ticket is free!!!!\")\n",
        "    elif 3 <= age <= 12:\n",
        "        print(\"The ticket is $10.\")\n",
        "    else:\n",
        "        print(\"The ticket is $15.\")\n",
        "\n",
        "    # active = False"
      ],
      "metadata": {
        "colab": {
          "base_uri": "https://localhost:8080/"
        },
        "id": "Flt5lPrKcX-y",
        "outputId": "23025962-4fdf-459f-82ef-b11c9a1957f8"
      },
      "execution_count": 1,
      "outputs": [
        {
          "output_type": "stream",
          "name": "stdout",
          "text": [
            "Enter your age: 9\n",
            "The ticket is $10.\n"
          ]
        }
      ]
    },
    {
      "cell_type": "code",
      "source": [
        "# 7.6\n",
        "try:\n",
        "    number_of_people = int(input(\"How many people are you? \"))\n",
        "except:\n",
        "    print(\"Please provide a valid number!!\")\n",
        "\n",
        "loop_number = 0\n",
        "while loop_number < number_of_people:\n",
        "    try:\n",
        "        age = int(input(\"Enter your age: \"))\n",
        "    except:\n",
        "        print(\"Enter your age in number!!!\")\n",
        "\n",
        "    if age < 3:\n",
        "        print(\"The ticket is free!!!!\")\n",
        "    elif 3 <= age <= 12:\n",
        "        print(\"The ticket is $10.\")\n",
        "    else:\n",
        "        print(\"The ticket is $15.\")\n",
        "\n",
        "    loop_number += 1"
      ],
      "metadata": {
        "id": "Mh_xyar-cZ8m",
        "colab": {
          "base_uri": "https://localhost:8080/"
        },
        "outputId": "e716704f-433c-4da8-af05-135b42f4e568"
      },
      "execution_count": 2,
      "outputs": [
        {
          "output_type": "stream",
          "name": "stdout",
          "text": [
            "How many people are you? 3\n",
            "Enter your age: 2\n",
            "The ticket is free!!!!\n",
            "Enter your age: 6\n",
            "The ticket is $10.\n",
            "Enter your age: 15\n",
            "The ticket is $15.\n"
          ]
        }
      ]
    },
    {
      "cell_type": "code",
      "source": [
        "# 7.6\n",
        "try:\n",
        "    number_of_people = int(input(\"How many people are you? \"))\n",
        "except:\n",
        "    print(\"Please provide a valid number!!\")\n",
        "\n",
        "controller = 0\n",
        "active = True\n",
        "while active:\n",
        "    try:\n",
        "        age = int(input(\"Enter your age: \"))\n",
        "    except:\n",
        "        print(\"Enter your age in number!!!\")\n",
        "\n",
        "    if age < 3:\n",
        "        print(\"The ticket is free!!!!\")\n",
        "    elif 3 <= age <= 12:\n",
        "        print(\"The ticket is $10.\")\n",
        "    else:\n",
        "        print(\"The ticket is $15.\")\n",
        "\n",
        "    controller += 1\n",
        "\n",
        "    if controller == number_of_people:\n",
        "        active = False"
      ],
      "metadata": {
        "colab": {
          "base_uri": "https://localhost:8080/"
        },
        "id": "b-rDwcNM6Y3z",
        "outputId": "ce1b81b5-9d2b-42ef-f649-d6c3e0cba9fd"
      },
      "execution_count": 4,
      "outputs": [
        {
          "output_type": "stream",
          "name": "stdout",
          "text": [
            "How many people are you? 2\n",
            "Enter your age: 5\n",
            "The ticket is $10.\n",
            "Enter your age: 25\n",
            "The ticket is $15.\n"
          ]
        }
      ]
    },
    {
      "cell_type": "code",
      "source": [
        "while True:\n",
        "    try:\n",
        "        age_input = input(\"Enter your age (or 'quit' to exit): \")\n",
        "        if age_input.lower() == 'quit':\n",
        "            break  # Exit the loop if the user enters 'quit'\n",
        "        age = int(age_input)\n",
        "    except:\n",
        "        print(\"Enter your age in number!!!\")\n",
        "        continue\n",
        "\n",
        "    if age < 3:\n",
        "        print(\"The ticket is free!!!!\")\n",
        "    elif 3 <= age <= 12:\n",
        "        print(\"The ticket is $10.\")\n",
        "    else:\n",
        "        print(\"The ticket is $15.\")"
      ],
      "metadata": {
        "colab": {
          "base_uri": "https://localhost:8080/"
        },
        "id": "aw7-ZJIo89ej",
        "outputId": "5c963b92-9215-4a24-b2f2-a78711b594b8"
      },
      "execution_count": 5,
      "outputs": [
        {
          "name": "stdout",
          "output_type": "stream",
          "text": [
            "Enter your age (or 'quit' to exit): 25\n",
            "The ticket is $15.\n",
            "Enter your age (or 'quit' to exit): 45\n",
            "The ticket is $15.\n",
            "Enter your age (or 'quit' to exit): 14\n",
            "The ticket is $15.\n",
            "Enter your age (or 'quit' to exit): 5\n",
            "The ticket is $10.\n",
            "Enter your age (or 'quit' to exit): quite\n",
            "Enter your age in number!!!\n",
            "Enter your age (or 'quit' to exit): quit\n"
          ]
        }
      ]
    },
    {
      "cell_type": "code",
      "source": [
        "# 7.8\n",
        "sandwich_orders = [\"tuna\", \"turkey\", \"pastrami\", \"veggie\", \"chicken\"]\n",
        "finished_sandwiches = []\n",
        "\n",
        "for order in sandwich_orders:\n",
        "    print(f\"I made your {order} sandwiches.\")\n",
        "    finished_sandwiches.append(order)\n",
        "\n",
        "print()\n",
        "\n",
        "for sandwich in finished_sandwiches:\n",
        "    print(sandwich)"
      ],
      "metadata": {
        "id": "7xJcFV47cdm1",
        "colab": {
          "base_uri": "https://localhost:8080/"
        },
        "outputId": "dd05a0fe-668d-41bf-8bf3-2546caac4881"
      },
      "execution_count": 7,
      "outputs": [
        {
          "output_type": "stream",
          "name": "stdout",
          "text": [
            "I made your tuna sandwiches.\n",
            "I made your turkey sandwiches.\n",
            "I made your pastrami sandwiches.\n",
            "I made your veggie sandwiches.\n",
            "I made your chicken sandwiches.\n",
            "\n",
            "tuna\n",
            "turkey\n",
            "pastrami\n",
            "veggie\n",
            "chicken\n"
          ]
        }
      ]
    },
    {
      "cell_type": "code",
      "source": [
        "# Make a super basic calculator using input and while\n",
        "total = 0\n",
        "while True:\n",
        "    try:\n",
        "        number_input = input(\"Please provide a number(or 'quit' to exit): \")\n",
        "        if number_input.lower() == 'quit':\n",
        "            break\n",
        "        number = int(number_input)\n",
        "    except:\n",
        "        print(\"Enter a valid number or word!!!\")\n",
        "        continue\n",
        "\n",
        "    operator_input = input(\"What operation would you like to perform (+,-,*,/): \")\n",
        "    if operator_input == \"+\":\n",
        "        final_number = total + number\n",
        "        print(f\"{total} {operator_input} {number} = {final_number}\\n\")\n",
        "    elif operator_input == \"-\":\n",
        "        final_number = total - number\n",
        "        print(f\"{total} {operator_input} {number} = {final_number}\\n\")\n",
        "    elif operator_input == \"*\":\n",
        "        final_number = total * number\n",
        "        print(f\"{total} {operator_input} {number} = {final_number}\\n\")\n",
        "    else:\n",
        "        final_number = total / number\n",
        "        print(f\"{total} {operator_input} {number} = {final_number}\\n\")\n",
        "\n",
        "    total = final_number"
      ],
      "metadata": {
        "id": "sPJAxsnXcgIG",
        "colab": {
          "base_uri": "https://localhost:8080/"
        },
        "outputId": "2ad0f8d8-9df6-4ae2-ac23-5fe13e0aac9c"
      },
      "execution_count": 16,
      "outputs": [
        {
          "name": "stdout",
          "output_type": "stream",
          "text": [
            "Please provide a number(or 'quit' to exit): 25\n",
            "What operation would you like to perform (+,-,*,/): +\n",
            "0 + 25 = 25\n",
            "\n",
            "Please provide a number(or 'quit' to exit): 5\n",
            "What operation would you like to perform (+,-,*,/): *\n",
            "25 * 5 = 125\n",
            "\n",
            "Please provide a number(or 'quit' to exit): 3\n",
            "What operation would you like to perform (+,-,*,/): -\n",
            "125 - 3 = 122\n",
            "\n",
            "Please provide a number(or 'quit' to exit): 2\n",
            "What operation would you like to perform (+,-,*,/): /\n",
            "122 / 2 = 61.0\n",
            "\n",
            "Please provide a number(or 'quit' to exit): quit\n"
          ]
        }
      ]
    }
  ]
}
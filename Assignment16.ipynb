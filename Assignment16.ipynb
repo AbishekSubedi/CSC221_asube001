{
  "nbformat": 4,
  "nbformat_minor": 0,
  "metadata": {
    "colab": {
      "provenance": [],
      "authorship_tag": "ABX9TyMf5MGRu/Mk5YmtFRbSGjnf",
      "include_colab_link": true
    },
    "kernelspec": {
      "name": "python3",
      "display_name": "Python 3"
    },
    "language_info": {
      "name": "python"
    }
  },
  "cells": [
    {
      "cell_type": "markdown",
      "metadata": {
        "id": "view-in-github",
        "colab_type": "text"
      },
      "source": [
        "<a href=\"https://colab.research.google.com/github/AbishekSubedi/CSC221_asube001/blob/main/Assignment16.ipynb\" target=\"_parent\"><img src=\"https://colab.research.google.com/assets/colab-badge.svg\" alt=\"Open In Colab\"/></a>"
      ]
    },
    {
      "cell_type": "code",
      "execution_count": null,
      "metadata": {
        "id": "TvneJkbgBLUr",
        "colab": {
          "base_uri": "https://localhost:8080/",
          "height": 72
        },
        "outputId": "4eb685d9-4e8a-4fe9-efb5-d4eaee49cf14"
      },
      "outputs": [
        {
          "output_type": "execute_result",
          "data": {
            "text/plain": [
              "'\\nI knew all the types by which we can run python by file and directly\\nfrom the terminal.\\nFrom file:\\n>>> python3 filename.py\\nfrom terminal:\\n>>> python3\\n'"
            ],
            "application/vnd.google.colaboratory.intrinsic+json": {
              "type": "string"
            }
          },
          "metadata": {},
          "execution_count": 1
        }
      ],
      "source": [
        "# Section 1.1\n",
        "'''\n",
        "I knew all the types by which we can run python by file and directly\n",
        "from the terminal.\n",
        "From file:\n",
        ">>> python3 filename.py\n",
        "from terminal:\n",
        ">>> python3\n",
        "'''"
      ]
    },
    {
      "cell_type": "code",
      "source": [
        "# Section 1.2\n",
        "'''\n",
        "to run a program that can run repeatedly then we can keep it in a text\n",
        "file with a .py suffix.\n",
        "'''"
      ],
      "metadata": {
        "colab": {
          "base_uri": "https://localhost:8080/",
          "height": 54
        },
        "id": "ZG5B4BrILjAi",
        "outputId": "03ec14cf-ca75-483f-8bd9-b351bc2a98c3"
      },
      "execution_count": null,
      "outputs": [
        {
          "output_type": "execute_result",
          "data": {
            "text/plain": [
              "'\\nto run a program that can run repeatedly then we can keep it in a text\\nfile with a .py suffix.\\n'"
            ],
            "application/vnd.google.colaboratory.intrinsic+json": {
              "type": "string"
            }
          },
          "metadata": {},
          "execution_count": 2
        }
      ]
    },
    {
      "cell_type": "code",
      "source": [
        "# Section 1.3\n",
        "'''\n",
        "Learned new idea to determine the type of variable\n",
        "i.e. (x: int = 42)\n",
        "'''"
      ],
      "metadata": {
        "colab": {
          "base_uri": "https://localhost:8080/",
          "height": 54
        },
        "id": "sfxdBJVGlr_E",
        "outputId": "b6c34d3e-fec3-44f0-b6f7-7a1fc85915a1"
      },
      "execution_count": null,
      "outputs": [
        {
          "output_type": "execute_result",
          "data": {
            "text/plain": [
              "'\\nLearned new idea to determine the type of variable\\ni.e. (x: int = 42)\\n'"
            ],
            "application/vnd.google.colaboratory.intrinsic+json": {
              "type": "string"
            }
          },
          "metadata": {},
          "execution_count": 3
        }
      ]
    },
    {
      "cell_type": "code",
      "source": [
        "# Section 1.4\n",
        "'''\n",
        "Knew all the arithmetic operators but learned about\n",
        "mathematic fuctions\n",
        "divmod(x,y)         Returns (x // y, x % y)\n",
        "pow(x,y [,modulo])  Returns (x ** y) % modulo\n",
        "round(x,[n])        Rounds to the nearest multiple of 10 to the nth power.\n",
        "knew about logical operators, comparison operators\n",
        "'''"
      ],
      "metadata": {
        "colab": {
          "base_uri": "https://localhost:8080/",
          "height": 89
        },
        "id": "gFLl9c2SpC5F",
        "outputId": "b46521b8-d268-40e3-f024-f51dbd44cfe3"
      },
      "execution_count": null,
      "outputs": [
        {
          "output_type": "execute_result",
          "data": {
            "text/plain": [
              "'\\nKnew all the arithmetic operators but learned about\\nmathematic fuctions\\ndivmod(x,y)         Returns (x // y, x % y)\\npow(x,y [,modulo])  Returns (x ** y) % modulo\\nround(x,[n])        Rounds to the nearest multiple of 10 to the nth power.\\nknew about logical operators, comparison operators\\n'"
            ],
            "application/vnd.google.colaboratory.intrinsic+json": {
              "type": "string"
            }
          },
          "metadata": {},
          "execution_count": 4
        }
      ]
    },
    {
      "cell_type": "code",
      "source": [
        "# Section 1.5\n",
        "'''\n",
        "learned about new type of a variable assignment operator(:=)\n",
        "for example:\n",
        "    x = 0\n",
        "    while (x := x + 1) < 10:\n",
        "        # Prints 1, 2, 3, ..., 9\n",
        "        print(x)\n",
        "'''"
      ],
      "metadata": {
        "id": "q4Og8b8Ntq11"
      },
      "execution_count": null,
      "outputs": []
    },
    {
      "cell_type": "code",
      "source": [
        "# Section 1.6\n",
        "'''\n",
        "Familiar with all the formatting and string literals and also string\n",
        "concatenation.\n",
        "'''"
      ],
      "metadata": {
        "id": "HbuI8bwL68wW"
      },
      "execution_count": null,
      "outputs": []
    },
    {
      "cell_type": "code",
      "source": [
        "# Section 1.7\n",
        "'''\n",
        "Talking about same kinds of operators as mentioned above\n",
        "and they are used to operate files like opening them and\n",
        "writing on the file.\n",
        "'''"
      ],
      "metadata": {
        "id": "HivXQWOh74So"
      },
      "execution_count": null,
      "outputs": []
    },
    {
      "cell_type": "code",
      "source": [
        "# Section 1.8\n",
        "'''\n",
        "It just gives examples on how to create list and append new items\n",
        "on the list which are familier to me.\n",
        "'''"
      ],
      "metadata": {
        "id": "7deRQs4nA8c8"
      },
      "execution_count": null,
      "outputs": []
    },
    {
      "cell_type": "code",
      "source": [
        "# Section 1.9\n",
        "'''\n",
        "just examples on forming tuples and accessing them.\n",
        "'''"
      ],
      "metadata": {
        "id": "V8ZCf2aCJFWZ"
      },
      "execution_count": null,
      "outputs": []
    },
    {
      "cell_type": "code",
      "source": [
        "# Section 1.10\n",
        "'''\n",
        "talks about sets and how to define them and talks about\n",
        "different types of operator that can be used on sets.\n",
        "'''"
      ],
      "metadata": {
        "id": "n1RoUSNMKREB"
      },
      "execution_count": null,
      "outputs": []
    },
    {
      "cell_type": "code",
      "source": [
        "# Section 1.11\n",
        "'''\n",
        "first it gives an example of creating dict and adds total_shares\n",
        "in the dict\n",
        "later it just gives example on how to initialize empty dict and talks\n",
        "unique thing dict does i.e. actively reflecting changes.\n",
        "'''"
      ],
      "metadata": {
        "id": "lR86kFPLL7Gp"
      },
      "execution_count": null,
      "outputs": []
    },
    {
      "cell_type": "code",
      "source": [
        "# Section 1.12\n",
        "'''\n",
        "Talks about different types of iteration for loop.\n",
        "'''"
      ],
      "metadata": {
        "id": "dYB6rQUhOfPd"
      },
      "execution_count": null,
      "outputs": []
    },
    {
      "cell_type": "code",
      "source": [
        "# Section 1.13\n",
        "'''\n",
        "some basic information about functions defination and execution.\n",
        "'''"
      ],
      "metadata": {
        "id": "ElRkPba-opCj"
      },
      "execution_count": null,
      "outputs": []
    },
    {
      "cell_type": "code",
      "source": [
        "# Section 1.14\n",
        "'''\n",
        "learned about exceptions handling better than before like and runtimeerror\n",
        "'''"
      ],
      "metadata": {
        "id": "3PxwV2G9p8pm"
      },
      "execution_count": null,
      "outputs": []
    },
    {
      "cell_type": "code",
      "source": [
        "# Section 1.15\n",
        "'''\n",
        "SystemExit is a built-in exception in Python that can be raised to exit\n",
        "a program. Raising it will terminate the program and exit back to the\n",
        "shell/terminal.\n",
        "\n",
        "Raising SystemExit without an error message will exit normally. Passing a\n",
        "string to SystemExit will print that message before exiting.\n",
        "'''"
      ],
      "metadata": {
        "id": "CjwyjrX31OgM"
      },
      "execution_count": null,
      "outputs": []
    },
    {
      "cell_type": "code",
      "source": [
        "# Section 1.16\n",
        "'''\n",
        "Everything in Python is an object, including built-in types like lists\n",
        "and strings. Objects have internal data and methods that operate on\n",
        "that data.\n",
        "\n",
        "dir() lists the methods available on an object. Special methods\n",
        "like add() implement operators and other behaviors.\n",
        "\n",
        "Classes define new object types. The class statement creates a new class.\n",
        "\n",
        "Class methods are defined with def. The first argument self refers\n",
        "to the instance.\n",
        "\n",
        "Double underscore methods like init() are special methods called\n",
        "internally.\n",
        "\n",
        "Names prefixed with underscores like _items are treated as private\n",
        "by convention.\n",
        "\n",
        "repr() and len() special methods customize string representation and\n",
        "len().\n",
        "\n",
        "Inheritance extends existing classes. Subclasses override or extend\n",
        "base class methods.\n",
        "\n",
        "super() calls the parent class method, not overriding version.\n",
        "\n",
        "Composition (has-a) provides alternate design to inheritance (is-a) f\n",
        "or containers.\n",
        "'''"
      ],
      "metadata": {
        "id": "24FgA1gt3OP1"
      },
      "execution_count": null,
      "outputs": []
    },
    {
      "cell_type": "code",
      "source": [
        "# Section 1.17\n",
        "'''\n",
        "Modules organize code into separate files with a .py extension.\n",
        "\n",
        "The import statement loads and executes a module file. It creates a\n",
        "namespace.\n",
        "\n",
        "The module name is used to access definitions inside the module namespace.\n",
        "\n",
        "ImportError is raised if the module can't be found or loaded.\n",
        "\n",
        "sys.path lists directories Python searches for modules.\n",
        "\n",
        "import as creates an alias for the module name.\n",
        "\n",
        "from import imports specific definitions into the current namespace.\n",
        "\n",
        "dir() lists the contents of a module's namespace.\n",
        "\n",
        "Python has a large standard library of modules like csv.\n",
        "\n",
        "Third-party modules extend Python and can be installed from PyPI.\n",
        "'''"
      ],
      "metadata": {
        "id": "hEiI-DJu4N3X"
      },
      "execution_count": null,
      "outputs": []
    },
    {
      "cell_type": "code",
      "source": [
        "# Section 1.18\n",
        "'''\n",
        "Python files can execute as scripts or be imported as modules.\n",
        "\n",
        "name is 'main' when run as main script, else the module name.\n",
        "\n",
        "Code can check name to tell if it's being run directly or imported.\n",
        "\n",
        "Main script code is often wrapped in if name == 'main'.\n",
        "\n",
        "input() gets user input. sys.argv contains command line arguments.\n",
        "\n",
        "len(sys.argv) is the number of args. sys.argv[0] is the script name.\n",
        "\n",
        "argparse can parse command line arguments more robustly than sys.argv.\n",
        "'''"
      ],
      "metadata": {
        "id": "ij0I0b4j52IJ"
      },
      "execution_count": null,
      "outputs": []
    },
    {
      "cell_type": "code",
      "source": [
        "# Section 1.19\n",
        "'''\n",
        "Packages organize modules into hierarchical collections.\n",
        "\n",
        "On filesystem, packages are directories containing init.py.\n",
        "\n",
        "import package.module imports from the package namespace.\n",
        "\n",
        "from package.module import name imports specific names.\n",
        "\n",
        "Imports must be fully qualified between package modules.\n",
        "\n",
        "from . import module does a relative import within package.\n",
        "\n",
        "Relative imports don't hardcode the package name.\n",
        "\n",
        "Packages allow large programs to be broken into hierarchies.\n",
        "'''"
      ],
      "metadata": {
        "id": "UeDoQ17V5-DP"
      },
      "execution_count": null,
      "outputs": []
    },
    {
      "cell_type": "code",
      "source": [
        "# Section 1.20\n",
        "'''\n",
        "Large projects organize code into packages (directories with init.py).\n",
        "\n",
        "Pick a unique top-level package name to avoid conflicts.\n",
        "\n",
        "Package directory manages imports and namespaces. Isolates your code.\n",
        "\n",
        "Tests, examples, scripts, docs often in separate dirs outside package dir.\n",
        "\n",
        "Common to put everything in a top-level project directory.\n",
        "\n",
        "Source code lives in a package. Other artifacts go in surrounding\n",
        "directories.\n",
        "\n",
        "Requirements.txt lists third party package dependencies.\n",
        "\n",
        "virtualenv/venv creates isolated environments for dependencies.\n",
        "\n",
        "pip installs and manages packages from PyPI and requirements.txt.\n",
        "\n",
        "Setuptools and wheel can build more advanced package installations.\n",
        "'''"
      ],
      "metadata": {
        "id": "0LeTjG0wN5Jq"
      },
      "execution_count": null,
      "outputs": []
    },
    {
      "cell_type": "code",
      "source": [
        "# Section 1.21\n",
        "'''\n",
        "PyPI (Python Package Index) is the main repository of third-party\n",
        "packages.\n",
        "\n",
        "pip installs packages from PyPI and other indices.\n",
        "\n",
        "Installed packages go into the site-packages directory listed in\n",
        "sys.path.\n",
        "\n",
        "A package's file attribute shows where it is installed.\n",
        "\n",
        "Don't install packages into the system Python installation.\n",
        "\n",
        "venv creates isolated Python virtual environments for dependencies.\n",
        "\n",
        "venv environments have separate interpreters and site-packages dirs.\n",
        "\n",
        "Use the venv interpreter with pip to safely install packages.\n",
        "\n",
        "Other tools like virtualenv, pipenv, poetry also manage virtual envs.\n",
        "'''"
      ],
      "metadata": {
        "id": "cGZpzNSGN5fJ"
      },
      "execution_count": null,
      "outputs": []
    }
  ]
}
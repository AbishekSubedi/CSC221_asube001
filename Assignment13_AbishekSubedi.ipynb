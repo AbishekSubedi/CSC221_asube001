{
  "nbformat": 4,
  "nbformat_minor": 0,
  "metadata": {
    "colab": {
      "provenance": [],
      "include_colab_link": true
    },
    "kernelspec": {
      "name": "python3",
      "display_name": "Python 3"
    },
    "language_info": {
      "name": "python"
    }
  },
  "cells": [
    {
      "cell_type": "markdown",
      "metadata": {
        "id": "view-in-github",
        "colab_type": "text"
      },
      "source": [
        "<a href=\"https://colab.research.google.com/github/AbishekSubedi/CSC221_asube001/blob/main/Assignment13_AbishekSubedi.ipynb\" target=\"_parent\"><img src=\"https://colab.research.google.com/assets/colab-badge.svg\" alt=\"Open In Colab\"/></a>"
      ]
    },
    {
      "cell_type": "code",
      "execution_count": 1,
      "metadata": {
        "id": "7aynL_Db1kIy"
      },
      "outputs": [],
      "source": [
        "# Assignment 13 Source File Generator\n",
        "# Name = Abishek Subedi\n",
        "# DO NOT MODIFY\n",
        "\n",
        "import random\n",
        "def do_x_percent(n):\n",
        "    chance = random.randint(0,99)\n",
        "    return chance < n\n",
        "\n",
        "_last_choice = \"?\"\n",
        "def choose_character(include_str, exclude_str=''):\n",
        "    global _last_choice\n",
        "    chosen_character = random.choice(include_str)\n",
        "    while chosen_character == _last_choice or chosen_character in exclude_str:\n",
        "        chosen_character = random.choice(include_str)\n",
        "\n",
        "    _last_choice = chosen_character\n",
        "    return chosen_character\n",
        "\n",
        "def rand_digit(exclude_str=''):\n",
        "    return choose_character('0123456789', exclude_str)\n",
        "\n",
        "def rand_vowel(exclude_str=''):\n",
        "    return choose_character('aeiou', exclude_str)\n",
        "\n",
        "def rand_consonant(exclude_str='qz'):\n",
        "    return choose_character('bcdfghjklmnpqrstvwyz', exclude_str)\n",
        "\n",
        "def gen_first_name():\n",
        "    '''Generate a random first name.'''\n",
        "    name = rand_consonant().upper() + rand_vowel()\n",
        "\n",
        "    for i in range(random.randint(1, 2)):\n",
        "        name += rand_consonant()\n",
        "        name += rand_vowel()\n",
        "\n",
        "    return name\n",
        "\n",
        "def gen_last_name():\n",
        "    '''Generate a random last name.'''\n",
        "    name = random.choice(['', '', '', '', '', 'de ', 'el '])\n",
        "    name += rand_consonant().upper() + rand_vowel()\n",
        "\n",
        "    for i in range(random.randint(2, 3)):\n",
        "        name += rand_consonant()\n",
        "        name += rand_vowel()\n",
        "        if do_x_percent(20):\n",
        "            name += rand_vowel()\n",
        "\n",
        "    return name\n",
        "\n",
        "def gen_default_email(first_name, last_name):\n",
        "    '''Generate a default email address based on the first name and last name.'''\n",
        "    compacted_last = last_name.replace(' ', '')\n",
        "    if do_x_percent(60):\n",
        "        email = first_name[0].lower() + compacted_last[:4].lower()\n",
        "        num = random.randint(1,7)\n",
        "        email += f'{num:03d}@plattsburgh.edu'\n",
        "    else:\n",
        "        email = first_name.lower() + compacted_last[0].lower()\n",
        "        domain = random.randint(1,3)\n",
        "        if domain == 1:\n",
        "            email += '@gmail.com'\n",
        "        if domain == 2:\n",
        "            email += '@yahoo.com'\n",
        "        if domain == 3:\n",
        "            email += '@msn.com'\n",
        "\n",
        "    return email\n",
        "\n",
        "def gen_phone_number():\n",
        "    '''Generate a random phone number.'''\n",
        "    phone_number = '+' + str(random.randint(1,42))\n",
        "\n",
        "    phone_number += ' '\n",
        "    phone_number += rand_digit('0')\n",
        "    for i in range(2):\n",
        "       phone_number += rand_digit()\n",
        "\n",
        "    phone_number += ' '\n",
        "    for i in range(random.randint(3,4)):\n",
        "       phone_number += rand_digit()\n",
        "\n",
        "    phone_number += ' '\n",
        "    for i in range(random.randint(3,4)):\n",
        "       phone_number += rand_digit()\n",
        "\n",
        "    return phone_number\n",
        "\n",
        "def gen_pastimes():\n",
        "    '''Generate a list of random pastimes.'''\n",
        "    pastime_set = set()\n",
        "    num_pastimes = random.randint(0, 4)\n",
        "\n",
        "    for i in range(num_pastimes):\n",
        "        pastime = random.choice(\n",
        "            ['tennis', 'piano', 'farming', 'fishing',\n",
        "             'coding', 'swimming', 'singing', 'airplanes', 'dancing',\n",
        "             'reading', 'saxophone', 'cards', 'hiking', 'bicycling', 'running',\n",
        "             'javelin', 'sewing', 'painting', 'poetry'])\n",
        "        pastime_set.add(pastime)\n",
        "\n",
        "    pastime_string = \"\"\n",
        "    first_time = True\n",
        "    for pastime in pastime_set:\n",
        "        if first_time:\n",
        "            first_time = False\n",
        "        else:\n",
        "            pastime_string += ', '\n",
        "            first_time = False\n",
        "        pastime_string += pastime\n",
        "\n",
        "    return pastime_string\n"
      ]
    },
    {
      "cell_type": "code",
      "source": [
        "# Assignment 13 Source File Generator\n",
        "# DO NOT MODIFY\n",
        "\n",
        "class Person:\n",
        "    '''Represents an person with attributes like name, email, phone, pastimes'''\n",
        "    def __init__(self):\n",
        "        self.first_name = gen_first_name()\n",
        "        self.last_name = gen_last_name()\n",
        "        self.email = gen_default_email(self.first_name, self.last_name)\n",
        "        self.phone_number = gen_phone_number()\n",
        "        self.pastimes = gen_pastimes()\n",
        "    def __str__(self):\n",
        "        ret = f'{self.first_name} {self.last_name}, {self.email}, {self.phone_number}'\n",
        "        if len(self.pastimes) > 0:\n",
        "          ret += f', {self.pastimes}'\n",
        "        return ret\n",
        "    def __lt__(self, other):\n",
        "        return self.first_name < other.first_name\n",
        "    def as_transmitted(self):\n",
        "        return str(self)\n",
        "    def as_received(self):\n",
        "        receive_string = self.as_transmitted()\n",
        "\n",
        "        # These are our \"typical\" random transmission errors :)\n",
        "        if do_x_percent(80):\n",
        "            receive_string = receive_string.replace('nn', 'nnn')\n",
        "        if do_x_percent(40):\n",
        "            receive_string = receive_string.replace('+', '++')\n",
        "        if do_x_percent(60):\n",
        "            receive_string = receive_string.replace('00', '0O')\n",
        "        if do_x_percent(40):\n",
        "            receive_string = receive_string.replace('.com', '_dot_com')\n",
        "        if do_x_percent(20):\n",
        "            receive_string = receive_string.replace('swimming', 'swiming')\n",
        "        if do_x_percent(20):\n",
        "            receive_string = receive_string.replace('plattsburgh', 'platsburgh')\n",
        "        if do_x_percent(20):\n",
        "            receive_string = receive_string.replace('plattsburgh', 'plattsburg')\n",
        "        if do_x_percent(20):\n",
        "            receive_string = receive_string.replace('plattsburgh', 'platsburg')\n",
        "        if do_x_percent(20):\n",
        "            receive_string = receive_string.replace('plattsburgh', 'plattsberg')\n",
        "        if do_x_percent(20):\n",
        "            receive_string = receive_string.replace(' ', '_', 7)\n",
        "\n",
        "        return receive_string\n",
        "\n",
        "# Example People and how they are garbled\n",
        "random.seed(1)\n",
        "people = [Person() for x in range(20)]\n",
        "for person in sorted(people):\n",
        "    print(person)\n",
        "    print(person.as_received())\n",
        "\n"
      ],
      "metadata": {
        "colab": {
          "base_uri": "https://localhost:8080/"
        },
        "id": "HSeKP4kK27n2",
        "outputId": "71f5d2e5-31b2-414d-e827-384fac408241"
      },
      "execution_count": 2,
      "outputs": [
        {
          "output_type": "stream",
          "name": "stdout",
          "text": [
            "Banono Difiwopi, banonod@gmail.com, +20 351 7195 640, saxophone, swimming\n",
            "Banono Difiwopi, banonod@gmail.com, ++20 351 7195 640, saxophone, swimming\n",
            "Dese el Ronouteo, desee@msn.com, +27 143 8038 9093, swimming, singing\n",
            "Dese el Ronouteo, desee@msn.com, +27 143 8038 9093, swiming, singing\n",
            "Gula Sojabobo, gulas@gmail.com, +38 150 806 083, painting, javelin, airplanes\n",
            "Gula Sojabobo, gulas@gmail_dot_com, +38 150 806 083, painting, javelin, airplanes\n",
            "Hidehi Hisitaino, hhisi001@plattsburgh.edu, +17 839 0306 027, painting, bicycling, sewing, airplanes\n",
            "Hidehi Hisitaino, hhisi001@plattsburgh.edu, ++17 839 0306 027, painting, bicycling, sewing, airplanes\n",
            "Huli Vinietewa, hvini004@plattsburgh.edu, +5 625 961 914, poetry, reading\n",
            "Huli Vinietewa, hvini004@plattsburgh.edu, +5 625 961 914, poetry, reading\n",
            "Jimupe de Sufuyo, jdesu003@plattsburgh.edu, +28 390 6568 081, dancing, fishing\n",
            "Jimupe de Sufuyo, jdesu0O3@platsburgh.edu, ++28 390 6568 081, dancing, fishing\n",
            "Juyeta de Mubimaji, jdemu003@plattsburgh.edu, +28 341 8587 101, swimming\n",
            "Juyeta_de_Mubimaji,_jdemu0O3@platsburg.edu,_++28_341_8587_101, swimming\n",
            "Lukika el Noleusu, lelno005@plattsburgh.edu, +17 782 754 3134\n",
            "Lukika_el_Noleusu,_lelno005@plattsberg.edu,_++17_782_754_3134\n",
            "Megu de Cihiwei, megud@gmail.com, +29 684 8706 2470, tennis, poetry, piano\n",
            "Megu_de_Cihiwei,_megud@gmail_dot_com,_+29_684_8706_2470, tennnis, poetry, piano\n",
            "Meli Lowira, mlowi005@plattsburgh.edu, +25 341 908 2185, cards, reading, sewing, bicycling\n",
            "Meli_Lowira,_mlowi0O5@plattsburg.edu,_+25_341_908_2185,_cards, reading, sewing, bicycling\n",
            "Nute de Magohabi, nuted@yahoo.com, +35 427 2780 8196\n",
            "Nute de Magohabi, nuted@yahoo_dot_com, ++35 427 2780 8196\n",
            "Pabeve de Domejelau, pabeved@yahoo.com, +30 802 8459 686, javelin\n",
            "Pabeve de Domejelau, pabeved@yahoo_dot_com, +30 802 8459 686, javelin\n",
            "Pesi Ruhiuru, pruhi003@plattsburgh.edu, +19 978 9073 6258, running, farming\n",
            "Pesi Ruhiuru, pruhi003@plattsburg.edu, +19 978 9073 6258, runnning, farming\n",
            "Puye Liyodebe, pliyo005@plattsburgh.edu, +42 735 7365 3018, swimming, sewing\n",
            "Puye Liyodebe, pliyo005@plattsburg.edu, ++42 735 7365 3018, swimming, sewing\n",
            "Seyi de Rageidame, seyid@yahoo.com, +9 809 729 635\n",
            "Seyi de Rageidame, seyid@yahoo_dot_com, +9 809 729 635\n",
            "Tivo Pobunobe, tpobu005@plattsburgh.edu, +38 218 0107 434\n",
            "Tivo_Pobunobe,_tpobu0O5@plattsburgh.edu,_++38_218_0107_434\n",
            "Vavo Taciyuhe, vtaci001@plattsburgh.edu, +13 836 9574 682, painting, piano, bicycling, singing\n",
            "Vavo Taciyuhe, vtaci0O1@platsburg.edu, ++13 836 9574 682, painting, piano, bicycling, singing\n",
            "Vifo de Siwoyoewa, vifod@msn.com, +33 379 4279 580, hiking, poetry, bicycling\n",
            "Vifo_de_Siwoyoewa,_vifod@msn.com,_+33_379_4279_580, hiking, poetry, bicycling\n",
            "Walaci Bafakuha, wbafa006@plattsburgh.edu, +16 216 8484 5135\n",
            "Walaci Bafakuha, wbafa0O6@plattsberg.edu, ++16 216 8484 5135\n",
            "Yina Yukeodi, yyuke006@plattsburgh.edu, +5 457 2185 825, sewing, fishing\n",
            "Yina Yukeodi, yyuke006@plattsburgh.edu, ++5 457 2185 825, sewing, fishing\n"
          ]
        }
      ]
    },
    {
      "cell_type": "code",
      "source": [
        "# Assignment 13 Source File Generator\n",
        "# DO NOT MODIFY\n",
        "\n",
        "# Creates a population of Person objects\n",
        "# Writes them uncorrupted to source_file.txt\n",
        "# Writes them as received to as_received[123].txt\n",
        "# Most records go into only one file but some are duplicated in two files\n",
        "def make_files(my_name, record_count=100):\n",
        "    '''\n",
        "    This function generates a list of Person objects and writes their information\n",
        "    to multiple text files. It creates a source file with all the records and up\n",
        "    to three received files with potentially duplicated records based on a random\n",
        "    choice for each record.\n",
        "    '''\n",
        "    random.seed(hash(my_name))\n",
        "\n",
        "    people = [Person() for x in range(record_count)]\n",
        "\n",
        "    source_file = open('source.txt', 'w')\n",
        "    received_file1 = open('as_received1.txt', 'w')\n",
        "    received_file2 = open('as_received2.txt', 'w')\n",
        "    received_file3 = open('as_received3.txt', 'w')\n",
        "\n",
        "    all_files = [source_file, received_file1, received_file2, received_file3]\n",
        "\n",
        "    for file in all_files:\n",
        "        file.write('Name, Email, Phone, Pastimes\\n')\n",
        "\n",
        "    source_file_line_count = 0\n",
        "    received_file1_line_count = 0\n",
        "    received_file2_line_count = 0\n",
        "    received_file3_line_count = 0\n",
        "    for person in sorted(people):\n",
        "        source_file.write(person.as_transmitted() + '\\n')\n",
        "        source_file_line_count += 1\n",
        "\n",
        "        # These are all 3-bit numbers that have either 1 or 2 bits turned on\n",
        "        #   with a bias to a single bit\n",
        "        choice = random.choice([1, 2, 4, 1, 2, 4, 1, 2, 4, 1, 2, 4, 3, 5, 6])\n",
        "        if choice & 1:\n",
        "            received_file1.write(person.as_received() + '\\n')\n",
        "            received_file1_line_count += 1\n",
        "        if choice & 2:\n",
        "            received_file2.write(person.as_received() + '\\n')\n",
        "            received_file2_line_count += 1\n",
        "        if choice & 4:\n",
        "            received_file3.write(person.as_received() + '\\n')\n",
        "            received_file3_line_count += 1\n",
        "\n",
        "    print(f'source_file written with {source_file_line_count} lines')\n",
        "    print(f'received_file1 written with {received_file1_line_count} lines')\n",
        "    print(f'received_file2 written with {received_file2_line_count} lines')\n",
        "    print(f'received_file3 written with {received_file3_line_count} lines')\n",
        "\n",
        "    for file in all_files:\n",
        "        file.close()\n"
      ],
      "metadata": {
        "id": "ZHVptnh69iMI"
      },
      "execution_count": 3,
      "outputs": []
    },
    {
      "cell_type": "markdown",
      "source": [
        "# You Edit Below Here!\n",
        "- Put in your name to change the random number seed and get your own custom files!\n",
        "- Use a small number like 20 for the record count so your files are manageable during debug\n",
        "- Final test is done with 100000 records\n",
        "- This creates the uncorrupted file\n",
        "  - source.txt file\n",
        "- It also creates the garbles files\n",
        "  - as_received1.txt\n",
        "  - as_received2.txt\n",
        "  - as_received3.txt\n"
      ],
      "metadata": {
        "id": "kkbTFGqleDE1"
      }
    },
    {
      "cell_type": "code",
      "source": [
        "# Run this to make your data files\n",
        "\n",
        "# Put in YOUR name\n",
        "# Generate 20-50 records to debug and 100000 for your final code check\n",
        "make_files(my_name='Abishek Subedi', record_count=20)\n"
      ],
      "metadata": {
        "colab": {
          "base_uri": "https://localhost:8080/"
        },
        "id": "lW5OIax_Aqx1",
        "outputId": "71144f3d-7695-4df1-cf9f-504ee4039679"
      },
      "execution_count": 31,
      "outputs": [
        {
          "output_type": "stream",
          "name": "stdout",
          "text": [
            "source_file written with 20 lines\n",
            "received_file1 written with 10 lines\n",
            "received_file2 written with 4 lines\n",
            "received_file3 written with 11 lines\n"
          ]
        }
      ]
    },
    {
      "cell_type": "code",
      "source": [
        "def correct_errors(line):\n",
        "    '''Returns the correction to be made for the grabled files.'''\n",
        "    line = (line.replace(\"nnn\", \"nn\").replace(\"++\", \"+\").replace(\"0O\", \"00\").\n",
        "            replace(\"_dot_com\", \".com\").replace(\"swiming\", \"swimming\").\n",
        "            replace('platsburgh', 'plattsburgh').replace('plattsburg', 'plattsburgh').\n",
        "            replace('platsburg', 'plattsburgh').replace('plattsberg', 'plattsburgh').\n",
        "            replace('plattsburghh', 'plattsburgh').replace('_', ' ', 7))\n",
        "\n",
        "    return line\n",
        "\n",
        "def read_people(filename):\n",
        "    '''A function which takes the files and returns the list after correcting\n",
        "        the grabled files'''\n",
        "    file = open(filename, 'r')\n",
        "    line_number = 0\n",
        "    people_records = []\n",
        "\n",
        "    while line := file.readline():\n",
        "        line_number += 1\n",
        "\n",
        "        # Skip first line\n",
        "        if line_number == 1:\n",
        "            continue\n",
        "\n",
        "        # Strip and separate into fields\n",
        "        line = line.strip()\n",
        "        fields = line.split(',')\n",
        "\n",
        "        # Skip blank lines\n",
        "        if len(line) < 1:\n",
        "            continue\n",
        "\n",
        "        # Need at least name, something\n",
        "        if len(fields)<2:\n",
        "            print(f\"ERROR line {line_number}: {line}\")\n",
        "            continue;\n",
        "\n",
        "        data = []\n",
        "        for field in fields:\n",
        "            # I was stuck here for 2 days finally figured it out\n",
        "            # first strip removes the spaces from the field\n",
        "            # second strip removes the spaces from the corrected data and append\n",
        "            # to data list\n",
        "            data.append(correct_errors(field.strip()).strip())\n",
        "\n",
        "        people_records.append(data)\n",
        "\n",
        "    return people_records\n",
        "\n",
        "data = []\n",
        "for i in range(1, 4):\n",
        "    # Makes the list of corrected data files without sorting them or removing\n",
        "    # duplicate data\n",
        "    data += read_people(f'as_received{i}.txt')\n",
        "\n",
        "# (tuple(x) for x in data) This part of the line creates a list comprehension.\n",
        "# It iterates through each element x in the data list and converts each element\n",
        "# x into a tuple.\n",
        "\n",
        "# Deduplicates and sorts the data\n",
        "unique_data = [list(x) for x in set(tuple(x) for x in data)]\n",
        "\n",
        "# Sort data\n",
        "unique_data.sort()\n",
        "\n",
        "# Writing all the sorted list into the corrected text file\n",
        "with open('corrected.txt', 'w') as corrected_file:\n",
        "    corrected_file.write(\"Name, Email, Phone, Pastimes\\n\")\n",
        "    for record in unique_data:\n",
        "        corrected_file.write(\", \".join(record)+ \"\\n\")\n",
        "\n",
        "# Compare corrected.txt to source.txt\n",
        "with open('corrected.txt', 'r') as corrected_file, open('source.txt', 'r') as source_file:\n",
        "    corrected_data = corrected_file.read()\n",
        "    source_data = source_file.read()\n",
        "\n",
        "# checks the contents of the file from the both files and compares it.\n",
        "if corrected_data == source_data:\n",
        "    print(\"The corrected.txt is identical to source.txt.\")\n",
        "else:\n",
        "    print(\"The corrected.txt is not identical to source.txt.\")\n"
      ],
      "metadata": {
        "id": "o3_oaaFVD1SB",
        "colab": {
          "base_uri": "https://localhost:8080/"
        },
        "outputId": "596d9c07-f458-44fd-f072-62bbc7609d70"
      },
      "execution_count": 32,
      "outputs": [
        {
          "output_type": "stream",
          "name": "stdout",
          "text": [
            "The corrected.txt is identical to source.txt.\n"
          ]
        }
      ]
    },
    {
      "cell_type": "code",
      "source": [
        "# 10.1\n",
        "%%file learning_python.txt\n",
        "In Python, you can create variables to store data\n",
        "In Python, you can use if statements for conditional logic\n",
        "In Python, you can define functions to reuse code"
      ],
      "metadata": {
        "colab": {
          "base_uri": "https://localhost:8080/"
        },
        "id": "WLtRUxbjTwKo",
        "outputId": "7eace9fa-da8b-4cb0-b623-47ef26c27917"
      },
      "execution_count": 33,
      "outputs": [
        {
          "output_type": "stream",
          "name": "stdout",
          "text": [
            "Writing learning_python.txt\n"
          ]
        }
      ]
    },
    {
      "cell_type": "code",
      "source": [
        "# Displaying file contents as a whole.\n",
        "\n",
        "fname = open(\"learning_python.txt\", \"r\")\n",
        "\n",
        "print(fname.read() *3)"
      ],
      "metadata": {
        "colab": {
          "base_uri": "https://localhost:8080/"
        },
        "id": "DB58YScxTwb3",
        "outputId": "14d7eb5f-9223-4d35-d317-a0083571bd07"
      },
      "execution_count": 34,
      "outputs": [
        {
          "output_type": "stream",
          "name": "stdout",
          "text": [
            "In Python, you can create variables to store data\n",
            "In Python, you can use if statements for conditional logic\n",
            "In Python, you can define functions to reuse code\n",
            "In Python, you can create variables to store data\n",
            "In Python, you can use if statements for conditional logic\n",
            "In Python, you can define functions to reuse code\n",
            "In Python, you can create variables to store data\n",
            "In Python, you can use if statements for conditional logic\n",
            "In Python, you can define functions to reuse code\n",
            "\n"
          ]
        }
      ]
    },
    {
      "cell_type": "code",
      "source": [
        "# Displaying file contents using loop.\n",
        "\n",
        "filename = \"learning_python.txt\"\n",
        "\n",
        "with open(filename) as file_object:\n",
        "    lines = file_object.readlines()\n",
        "\n",
        "for line in lines:\n",
        "    print(line.strip())\n",
        "    print(line.strip())\n",
        "    print(line.strip())\n",
        "    print(\"-\" *50)"
      ],
      "metadata": {
        "colab": {
          "base_uri": "https://localhost:8080/"
        },
        "id": "LoDFwYaCTwpr",
        "outputId": "18aa4676-4de7-4c2b-f1af-0490f9cf2341"
      },
      "execution_count": 35,
      "outputs": [
        {
          "output_type": "stream",
          "name": "stdout",
          "text": [
            "In Python, you can create variables to store data\n",
            "In Python, you can create variables to store data\n",
            "In Python, you can create variables to store data\n",
            "--------------------------------------------------\n",
            "In Python, you can use if statements for conditional logic\n",
            "In Python, you can use if statements for conditional logic\n",
            "In Python, you can use if statements for conditional logic\n",
            "--------------------------------------------------\n",
            "In Python, you can define functions to reuse code\n",
            "In Python, you can define functions to reuse code\n",
            "In Python, you can define functions to reuse code\n",
            "--------------------------------------------------\n"
          ]
        }
      ]
    },
    {
      "cell_type": "code",
      "source": [
        "# Displaying file contents using list and without using with block\n",
        "\n",
        "filename2 = open(\"learning_python.txt\", \"r\")\n",
        "\n",
        "lines = []\n",
        "\n",
        "# Storing data in list by seperating the lines\n",
        "for line in filename2:\n",
        "    line = line.strip()\n",
        "    lines.append(line)\n",
        "\n",
        "print(lines) # prints the list\n",
        "print()\n",
        "\n",
        "# Printing the contents from the list\n",
        "for line in lines:\n",
        "    print(line)"
      ],
      "metadata": {
        "colab": {
          "base_uri": "https://localhost:8080/"
        },
        "id": "L68Z61UhTxQ4",
        "outputId": "a2dd902a-e559-44bd-e536-d16d372f747a"
      },
      "execution_count": 36,
      "outputs": [
        {
          "output_type": "stream",
          "name": "stdout",
          "text": [
            "['In Python, you can create variables to store data', 'In Python, you can use if statements for conditional logic', 'In Python, you can define functions to reuse code']\n",
            "\n",
            "In Python, you can create variables to store data\n",
            "In Python, you can use if statements for conditional logic\n",
            "In Python, you can define functions to reuse code\n"
          ]
        }
      ]
    },
    {
      "cell_type": "code",
      "source": [
        "# 10.2\n",
        "filename3 = open(\"learning_python.txt\", \"r\")\n",
        "\n",
        "for line in filename3:\n",
        "    modified_line = line.replace(\"Python\", \"C\") # modifying the existing lines\n",
        "    print(modified_line)"
      ],
      "metadata": {
        "colab": {
          "base_uri": "https://localhost:8080/"
        },
        "id": "_bsvHMB8TxcV",
        "outputId": "375da5e7-23b5-422f-a224-d8eeb1be89a3"
      },
      "execution_count": 37,
      "outputs": [
        {
          "output_type": "stream",
          "name": "stdout",
          "text": [
            "In C, you can create variables to store data\n",
            "\n",
            "In C, you can use if statements for conditional logic\n",
            "\n",
            "In C, you can define functions to reuse code\n",
            "\n"
          ]
        }
      ]
    },
    {
      "cell_type": "code",
      "source": [
        "# 10.3\n",
        "filename4 = \"guest.txt\"\n",
        "\n",
        "name = input(\"Please enter your name: \")\n",
        "\n",
        "with open(filename4, \"w\") as file_obj:\n",
        "    file_obj.write(name)\n",
        "\n",
        "print(\"Your name has been written to guest.txt.\")"
      ],
      "metadata": {
        "colab": {
          "base_uri": "https://localhost:8080/"
        },
        "id": "HVUDHCvSTxm3",
        "outputId": "7bacf56e-7410-4822-f8d1-f6c4f67090b3"
      },
      "execution_count": 38,
      "outputs": [
        {
          "output_type": "stream",
          "name": "stdout",
          "text": [
            "Please enter your name: Abishek\n",
            "Your name has been written to guest.txt.\n"
          ]
        }
      ]
    },
    {
      "cell_type": "code",
      "source": [
        "# 10.4\n",
        "filename5 = \"guest_book.txt\"\n",
        "\n",
        "with open(filename5, \"w\") as guest_book:\n",
        "    while True:\n",
        "        guest_name = input(\"Please enter your name (or 'q' to exit): \")\n",
        "\n",
        "        # to break the loop\n",
        "        if guest_name.lower() == 'q':\n",
        "            break;\n",
        "\n",
        "        print(f\"Welcome, {guest_name}!\")\n",
        "\n",
        "        # Write the names in the file\n",
        "        guest_book.write(guest_name + \"\\n\")\n",
        "\n",
        "print(\"Thank you for visiting the guest book!\")"
      ],
      "metadata": {
        "colab": {
          "base_uri": "https://localhost:8080/"
        },
        "id": "8QuZauDBUCzG",
        "outputId": "f5a5c50f-850e-47e1-b54a-aa3dd42511d8"
      },
      "execution_count": 39,
      "outputs": [
        {
          "output_type": "stream",
          "name": "stdout",
          "text": [
            "Please enter your name (or 'q' to exit): Abishek\n",
            "Welcome, Abishek!\n",
            "Please enter your name (or 'q' to exit): Ned\n",
            "Welcome, Ned!\n",
            "Please enter your name (or 'q' to exit): Krish\n",
            "Welcome, Krish!\n",
            "Please enter your name (or 'q' to exit): Alex\n",
            "Welcome, Alex!\n",
            "Please enter your name (or 'q' to exit): q\n",
            "Thank you for visiting the guest book!\n"
          ]
        }
      ]
    }
  ]
}
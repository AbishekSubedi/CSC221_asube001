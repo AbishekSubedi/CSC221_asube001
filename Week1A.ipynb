{
  "nbformat": 4,
  "nbformat_minor": 0,
  "metadata": {
    "colab": {
      "provenance": [],
      "authorship_tag": "ABX9TyM47EPzG0Y/3xQONL+cmVEM",
      "include_colab_link": true
    },
    "kernelspec": {
      "name": "python3",
      "display_name": "Python 3"
    },
    "language_info": {
      "name": "python"
    }
  },
  "cells": [
    {
      "cell_type": "markdown",
      "metadata": {
        "id": "view-in-github",
        "colab_type": "text"
      },
      "source": [
        "<a href=\"https://colab.research.google.com/github/AbishekSubedi/CSC221_asube001/blob/main/Week1A.ipynb\" target=\"_parent\"><img src=\"https://colab.research.google.com/assets/colab-badge.svg\" alt=\"Open In Colab\"/></a>"
      ]
    },
    {
      "cell_type": "code",
      "execution_count": null,
      "metadata": {
        "id": "ogTeg96swXQY"
      },
      "outputs": [],
      "source": [
        "fname = input(\"Enter the name of file: \")\n",
        "if len(fname) < 1:\n",
        "    fname = \"mbox-short.txt\"\n",
        "\n",
        "handle = open(fname)\n",
        "counts = dict()\n",
        "\n",
        "for line in handle:\n",
        "    if not line.startswith(\"From \"):\n",
        "        continue\n",
        "    words = line.split()\n",
        "    time = words[5]\n",
        "    hour = time.split(\":\")[0]\n",
        "    counts[hour] = counts.get(hour, 0) + 1\n",
        "\n",
        "\n",
        "lst = list()\n",
        "for k, v in counts.items():\n",
        "    tmp = (k, v)\n",
        "    lst.append(tmp)\n",
        "\n",
        "lst.sort()\n",
        "\n",
        "# lst = sorted(lst, reverse=False)\n",
        "\n",
        "for k, v in lst:\n",
        "    print(k, v)\n"
      ]
    }
  ]
}
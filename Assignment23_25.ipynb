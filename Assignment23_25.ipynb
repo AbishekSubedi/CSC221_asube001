{
  "nbformat": 4,
  "nbformat_minor": 0,
  "metadata": {
    "colab": {
      "provenance": [],
      "authorship_tag": "ABX9TyOG7nBYT/+kBupC7oECkpbn",
      "include_colab_link": true
    },
    "kernelspec": {
      "name": "python3",
      "display_name": "Python 3"
    },
    "language_info": {
      "name": "python"
    }
  },
  "cells": [
    {
      "cell_type": "markdown",
      "metadata": {
        "id": "view-in-github",
        "colab_type": "text"
      },
      "source": [
        "<a href=\"https://colab.research.google.com/github/AbishekSubedi/CSC221_asube001/blob/main/Assignment23_25.ipynb\" target=\"_parent\"><img src=\"https://colab.research.google.com/assets/colab-badge.svg\" alt=\"Open In Colab\"/></a>"
      ]
    },
    {
      "cell_type": "code",
      "execution_count": null,
      "metadata": {
        "id": "0U2BteZ3xEiu"
      },
      "outputs": [],
      "source": [
        "'''\n",
        "CSC221 - Intro to Programming\n",
        "Assignment 23-25\n",
        "Abishek Subedi\n",
        "'''"
      ]
    },
    {
      "cell_type": "code",
      "source": [
        "# 1. Write and test a function that has only positional arguments: def func(a, b)\n",
        "def func(a, b):\n",
        "    product = a * b\n",
        "    return f\"The product of {a} and {b} = {product}\"\n",
        "\n",
        "value1 = 8\n",
        "value2 = 26\n",
        "test1 = func(value1, value2)\n",
        "print(test1)"
      ],
      "metadata": {
        "colab": {
          "base_uri": "https://localhost:8080/"
        },
        "id": "0vrBlrsIxVRC",
        "outputId": "814be968-38c1-42a3-c8e4-0b37e76d51ce"
      },
      "execution_count": null,
      "outputs": [
        {
          "output_type": "stream",
          "name": "stdout",
          "text": [
            "The product of 8 and 26 = 208\n"
          ]
        }
      ]
    },
    {
      "cell_type": "code",
      "source": [
        "# 2. Write and test a function that has variadic arguments: def func(*s)\n",
        "def func2(*args):\n",
        "    some_data = [*args]\n",
        "    if len(some_data) == 1:\n",
        "        return f\"The value stored in this func2 function = {some_data}\"\n",
        "    else:\n",
        "        return f\"The values stored in this func2 function = {some_data}\"\n",
        "\n",
        "test2 = func2(12, 'ned', [1, 3, 6])\n",
        "print(test2)\n",
        "test3 = func2([1, 3, 6])\n",
        "print(test3)"
      ],
      "metadata": {
        "colab": {
          "base_uri": "https://localhost:8080/"
        },
        "id": "5epyB1jNzMtJ",
        "outputId": "4a4be3a4-2ef2-4856-8839-68a6fa6e0318"
      },
      "execution_count": null,
      "outputs": [
        {
          "output_type": "stream",
          "name": "stdout",
          "text": [
            "The values stored in this func2 function = [12, 'ned', [1, 3, 6]]\n",
            "The value stored in this func2 function = [[1, 3, 6]]\n"
          ]
        }
      ]
    },
    {
      "cell_type": "code",
      "source": [
        "# 3. Write and test a function that uses only keyword arguments: def func(**kwargs)\n",
        "def dictionary(**kwargs):\n",
        "    for key, value in kwargs.items():\n",
        "        print(f\"{key}: {value}\")\n",
        "\n",
        "# Test Case\n",
        "dictionary(country= \"Nepal\", city= \"Pokhara\", Population= \"50,000\")"
      ],
      "metadata": {
        "colab": {
          "base_uri": "https://localhost:8080/"
        },
        "id": "UbK3ZwtoiQYw",
        "outputId": "8ca07772-47ac-4f37-d753-c740b2b899e8"
      },
      "execution_count": null,
      "outputs": [
        {
          "output_type": "stream",
          "name": "stdout",
          "text": [
            "country: Nepal\n",
            "city: Pokhara\n",
            "Population: 50,000\n"
          ]
        }
      ]
    },
    {
      "cell_type": "code",
      "source": [
        "# 4. Write and test a function that accepts any inputs: def func(*args, **kwargs).\n",
        "# The function should add or subtract all the *args based on a keyword operator='+'\n",
        "# or operator='-'\n",
        "def add_subtract(*args, **kwargs):\n",
        "    operator = kwargs.get(\"operator\", \"+\")\n",
        "    result = args[0]\n",
        "\n",
        "    for arg in args[1:]:\n",
        "        if operator == \"+\":\n",
        "            result += arg\n",
        "        elif operator == \"-\":\n",
        "            result -= arg\n",
        "        else:\n",
        "            print(\"Invalid Operator!\")\n",
        "    return result\n",
        "\n",
        "print(add_subtract(10, 9, 3, 4, operator='+'))\n",
        "print(add_subtract(10, 5, 2, operator='-'))"
      ],
      "metadata": {
        "colab": {
          "base_uri": "https://localhost:8080/"
        },
        "id": "BHlDi2OriR1_",
        "outputId": "5afe5a9d-06e8-4a79-a07e-a1c4f3f76ed7"
      },
      "execution_count": null,
      "outputs": [
        {
          "output_type": "stream",
          "name": "stdout",
          "text": [
            "26\n",
            "3\n"
          ]
        }
      ]
    },
    {
      "cell_type": "code",
      "source": [
        "# 5. Create a global variable and then create a function that uses and changes its value.\n",
        "CHANGE_ME = \"I am not changeable!\"\n",
        "\n",
        "def modify_global_variable():\n",
        "    global CHANGE_ME\n",
        "    print(f\"Try to change me but {CHANGE_ME}\")\n",
        "    CHANGE_ME = \"I'm chaged ohh!\"\n",
        "    print(f\"You did it. {CHANGE_ME}\")\n",
        "\n",
        "modify_global_variable()"
      ],
      "metadata": {
        "colab": {
          "base_uri": "https://localhost:8080/"
        },
        "id": "y_AJrrCfi7ZU",
        "outputId": "06783e01-18f9-456d-ca2b-3731fe2ed5ce"
      },
      "execution_count": null,
      "outputs": [
        {
          "output_type": "stream",
          "name": "stdout",
          "text": [
            "Try to change me but I am not changeable!\n",
            "You did it. I'm chaged ohh!\n"
          ]
        }
      ]
    },
    {
      "cell_type": "code",
      "source": [
        "# 6. Create a lambda function that allows the use of sorted(...) such that words\n",
        "# are sorted by the number of vowels they contain.\n",
        "words = ['apple', 'banana', 'cherry', 'date', 'elderberry', 'fig']\n",
        "\n",
        "vowel_sorter = lambda word: sum(char in \"aeiou\" for char in word)\n",
        "\n",
        "sorted_words = sorted(words, key=vowel_sorter)\n",
        "\n",
        "print(sorted_words)"
      ],
      "metadata": {
        "colab": {
          "base_uri": "https://localhost:8080/"
        },
        "id": "BEuSE4m7i8ed",
        "outputId": "2bd5f42b-25d9-4f70-acfd-31802c03487d"
      },
      "execution_count": null,
      "outputs": [
        {
          "output_type": "stream",
          "name": "stdout",
          "text": [
            "['cherry', 'fig', 'apple', 'date', 'banana', 'elderberry']\n"
          ]
        }
      ]
    },
    {
      "cell_type": "code",
      "source": [
        "# 7. Write a decorator called logger() that appends the name of the function,\n",
        "# all of its arguments, and its return value to a file called log.txt.\n",
        "# Use some of your functions above to demonstrate how @logger works.\n",
        "\n",
        "def logger(func):\n",
        "    def wrapper(*args, **kwargs):\n",
        "        with open(\"log.txt\", \"a\") as file:\n",
        "            file.write(f\"Called {func.__name__} with ({args}, {kwargs})\\n\")\n",
        "            result = func(*args, **kwargs)\n",
        "            file.write(f\"Result = {result}\\n\")\n",
        "        return result\n",
        "    return wrapper\n",
        "\n",
        "# Test Examples\n",
        "@logger\n",
        "def func(a, b):\n",
        "    return a * b\n",
        "\n",
        "func(5, 8)\n",
        "\n",
        "\n",
        "CHANGE_ME = \"I am not changeable!\"\n",
        "\n",
        "@logger\n",
        "def modify_global_variable():\n",
        "    global CHANGE_ME\n",
        "    print(f\"Try to change me but {CHANGE_ME}\")\n",
        "    CHANGE_ME = \"I'm chaged ohh!\"\n",
        "    print(f\"You did it. {CHANGE_ME}\")\n",
        "\n",
        "modify_global_variable()"
      ],
      "metadata": {
        "colab": {
          "base_uri": "https://localhost:8080/"
        },
        "id": "G99yo0jdi9pS",
        "outputId": "55909694-e203-41a3-83d3-3d8329b903a4"
      },
      "execution_count": null,
      "outputs": [
        {
          "output_type": "stream",
          "name": "stdout",
          "text": [
            "Try to change me but I am not changeable!\n",
            "You did it. I'm chaged ohh!\n"
          ]
        }
      ]
    },
    {
      "cell_type": "code",
      "source": [
        "# 8. Show an example of how Python can be used to perform map, filter, and\n",
        "# reduce operations.\n",
        "def trace(func):\n",
        "    def call(*args, **kwargs):\n",
        "        print(f'Calling {func}({args}, {kwargs})')\n",
        "        return func(*args, **kwargs)\n",
        "    return call\n",
        "\n",
        "\n",
        "a = [x*x for x in [13,21,52,7]]\n",
        "print(a)\n",
        "\n",
        "@trace\n",
        "def special(a, b):\n",
        "    return a + b + 3\n",
        "\n",
        "# Mapping\n",
        "a = [special(x, x) for x in [19, 45, 72, 150]]\n",
        "print(a)\n",
        "\n",
        "def myfunc(x):\n",
        "    return (x + 13) * 5\n",
        "\n",
        "# Adding filter\n",
        "x = [myfunc(x) for x in range(200) if x % 12 == 0]\n",
        "print(x)\n",
        "\n",
        "# Reducing\n",
        "from functools import reduce\n",
        "@trace\n",
        "def reducer(a, b):\n",
        "    print(f\"I'm happily reducing {a} and {b}\")\n",
        "    return (a + b) * 2\n",
        "\n",
        "a = [ 19, 45, 72, 150, 65, 35 ]\n",
        "x = reduce(reducer, a)\n",
        "print(x)"
      ],
      "metadata": {
        "colab": {
          "base_uri": "https://localhost:8080/"
        },
        "id": "2R3UfqQgi-4G",
        "outputId": "a0a50bfe-0458-4687-8538-abe004d49055"
      },
      "execution_count": null,
      "outputs": [
        {
          "output_type": "stream",
          "name": "stdout",
          "text": [
            "[169, 441, 2704, 49]\n",
            "Calling <function special at 0x7e80f8281120>((19, 19), {})\n",
            "Calling <function special at 0x7e80f8281120>((45, 45), {})\n",
            "Calling <function special at 0x7e80f8281120>((72, 72), {})\n",
            "Calling <function special at 0x7e80f8281120>((150, 150), {})\n",
            "[41, 93, 147, 303]\n",
            "[65, 125, 185, 245, 305, 365, 425, 485, 545, 605, 665, 725, 785, 845, 905, 965, 1025]\n",
            "Calling <function reducer at 0x7e80f8280f70>((19, 45), {})\n",
            "I'm happily reducing 19 and 45\n",
            "Calling <function reducer at 0x7e80f8280f70>((128, 72), {})\n",
            "I'm happily reducing 128 and 72\n",
            "Calling <function reducer at 0x7e80f8280f70>((400, 150), {})\n",
            "I'm happily reducing 400 and 150\n",
            "Calling <function reducer at 0x7e80f8280f70>((1100, 65), {})\n",
            "I'm happily reducing 1100 and 65\n",
            "Calling <function reducer at 0x7e80f8280f70>((2330, 35), {})\n",
            "I'm happily reducing 2330 and 35\n",
            "4730\n"
          ]
        }
      ]
    },
    {
      "cell_type": "code",
      "source": [
        "# 9. Show how you can use exec(...) to make a simple calculator that runs in\n",
        "# a loop and allows me to type in ant Python expression (like '5 + 3 - 8 / 12')\n",
        "# and print the result by merely passing the expression to exec(...).\n",
        "\n",
        "\n",
        "# exec for an easier calculator!!\n",
        "while True:\n",
        "    command = input(\"What would you like me to do? (Type 'quit' to quit)\")\n",
        "    if command == 'quit':\n",
        "        break\n",
        "\n",
        "    to_exec = f'print({command})'\n",
        "\n",
        "    try:\n",
        "        exec(to_exec)\n",
        "    except:\n",
        "        print('That failed.')"
      ],
      "metadata": {
        "colab": {
          "base_uri": "https://localhost:8080/"
        },
        "id": "TOEBUvlwi_6R",
        "outputId": "ca0c7381-9dbb-434c-be0d-645901b6f890"
      },
      "execution_count": 32,
      "outputs": [
        {
          "name": "stdout",
          "output_type": "stream",
          "text": [
            "What would you like me to do? (Type 'quit' to quit)9/6\n",
            "1.5\n",
            "What would you like me to do? (Type 'quit' to quit)3/15\n",
            "0.2\n",
            "What would you like me to do? (Type 'quit' to quit)12*9\n",
            "108\n",
            "What would you like me to do? (Type 'quit' to quit)9/0\n",
            "That failed.\n",
            "What would you like me to do? (Type 'quit' to quit)36+8\n",
            "44\n",
            "What would you like me to do? (Type 'quit' to quit)quit\n"
          ]
        }
      ]
    }
  ]
}
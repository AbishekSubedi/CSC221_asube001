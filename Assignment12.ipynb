{
  "nbformat": 4,
  "nbformat_minor": 0,
  "metadata": {
    "colab": {
      "provenance": [],
      "authorship_tag": "ABX9TyOm08JlTuIemnukLHJKxkxV",
      "include_colab_link": true
    },
    "kernelspec": {
      "name": "python3",
      "display_name": "Python 3"
    },
    "language_info": {
      "name": "python"
    }
  },
  "cells": [
    {
      "cell_type": "markdown",
      "metadata": {
        "id": "view-in-github",
        "colab_type": "text"
      },
      "source": [
        "<a href=\"https://colab.research.google.com/github/AbishekSubedi/CSC221_asube001/blob/main/Assignment12.ipynb\" target=\"_parent\"><img src=\"https://colab.research.google.com/assets/colab-badge.svg\" alt=\"Open In Colab\"/></a>"
      ]
    },
    {
      "cell_type": "code",
      "execution_count": 33,
      "metadata": {
        "colab": {
          "base_uri": "https://localhost:8080/"
        },
        "id": "zsUZQVx0PERQ",
        "outputId": "0958b7f0-4921-41cb-87ac-444a35dadae6"
      },
      "outputs": [
        {
          "output_type": "stream",
          "name": "stdout",
          "text": [
            " 17.51 is the total amount of money in wallet1.\n",
            "\n",
            "Wallet1 contains:\n",
            "1\n",
            "1\n",
            "5\n",
            "10\n",
            "0.01\n",
            "0.05\n",
            "0.1\n",
            "0.1\n",
            "0.25\n"
          ]
        }
      ],
      "source": [
        "'''\n",
        "High-level Design Structure:\n",
        "\n",
        "I. Base Class Money (class Money:)\n",
        "\n",
        "    1. Child Bills (class Bills(Money):)\n",
        "        a. Children of Bills: One, Five, Ten, Twenty (class One(Bills): etc.)\n",
        "    2. Child Coins (class Coins(Money):)\n",
        "        a. Penny, Nickel, Dime, Quarter (class Penny(Coins): etc.)\n",
        "\n",
        "1. Make various \"wallets\" (maybe just a list) of bills and coins\n",
        "2. Sum of all money should be easy...\n",
        "3. Printing all money should be easy...\n",
        "4. Build test cases with various quantities of bills and coins and test for\n",
        "    correctness.\n",
        "'''\n",
        "\n",
        "class Money():\n",
        "    def __init__(self, value):\n",
        "        self.value = value\n",
        "\n",
        "class Bills(Money):\n",
        "    pass\n",
        "\n",
        "class Coins(Money):\n",
        "    pass\n",
        "\n",
        "class One(Bills):\n",
        "    def __init__(self):\n",
        "        super().__init__(1)\n",
        "\n",
        "class Five(Bills):\n",
        "    def __init__(self):\n",
        "        super().__init__(5)\n",
        "\n",
        "class Ten(Bills):\n",
        "    def __init__(self):\n",
        "        super().__init__(10)\n",
        "\n",
        "class Twenty(Bills):\n",
        "    def __init__(self):\n",
        "        super().__init__(20)\n",
        "\n",
        "class Penny(Coins):\n",
        "    def __init__(self):\n",
        "        super().__init__(0.01)\n",
        "\n",
        "class Nickel(Coins):\n",
        "    def __init__(self):\n",
        "        super().__init__(0.05)\n",
        "\n",
        "class Dime(Coins):\n",
        "    def __init__(self):\n",
        "        super().__init__(0.10)\n",
        "\n",
        "class Quarter(Coins):\n",
        "    def __init__(self):\n",
        "        super().__init__(0.25)\n",
        "\n",
        "wallet1 = [One(), One(), Five(), Ten(), Penny(), Nickel(), Dime(), Dime(), Quarter()]\n",
        "\n",
        "total = 0\n",
        "for money in wallet1:\n",
        "    total += money.value\n",
        "\n",
        "print(f\"{total: .2f} is the total amount of money in wallet1.\")\n",
        "\n",
        "print(\"\\nWallet1 contains:\")\n",
        "for money in wallet1:\n",
        "    print(f\"{money.value}\")"
      ]
    },
    {
      "cell_type": "code",
      "source": [
        "wallet2 = [One(), Five(), Ten(), Twenty(), Penny(), Nickel(), Dime(), Quarter()]\n",
        "\n",
        "total = 0\n",
        "for money in wallet2:\n",
        "    total += money.value\n",
        "\n",
        "print(f\"{total:.2f} is the total amount of money in wallet2.\")\n",
        "\n",
        "print(\"\\nWallet2 contains:\")\n",
        "for money in wallet2:\n",
        "    print(f\"{money.value}\")"
      ],
      "metadata": {
        "colab": {
          "base_uri": "https://localhost:8080/"
        },
        "id": "Q0uQVFkVwGuI",
        "outputId": "2e2827fa-50dc-4f8a-b751-1dc9c13b0811"
      },
      "execution_count": 34,
      "outputs": [
        {
          "output_type": "stream",
          "name": "stdout",
          "text": [
            "36.41 is the total amount of money in wallet2.\n",
            "\n",
            "Wallet2 contains:\n",
            "1\n",
            "5\n",
            "10\n",
            "20\n",
            "0.01\n",
            "0.05\n",
            "0.1\n",
            "0.25\n"
          ]
        }
      ]
    },
    {
      "cell_type": "code",
      "source": [
        "wallet3 = [One(), One(), Five(), Ten(), Twenty(), Penny(),\n",
        "           Nickel(), Dime(), Dime(), Quarter(), Quarter()]\n",
        "\n",
        "total = 0\n",
        "for money in wallet3:\n",
        "    total += money.value\n",
        "\n",
        "print(f\"{total: .2f} is the total amount of money in wallet3.\")\n",
        "\n",
        "print(\"\\nWallet3 contains:\")\n",
        "for money in wallet3:\n",
        "    print(f\"{money.value}\")"
      ],
      "metadata": {
        "colab": {
          "base_uri": "https://localhost:8080/"
        },
        "id": "fs0XtyjcwmfE",
        "outputId": "0a4e6b85-1533-4ae6-a727-01a4ee60c100"
      },
      "execution_count": 36,
      "outputs": [
        {
          "output_type": "stream",
          "name": "stdout",
          "text": [
            " 37.76 is the total amount of money in wallet3.\n",
            "\n",
            "Wallet3 contains:\n",
            "1\n",
            "1\n",
            "5\n",
            "10\n",
            "20\n",
            "0.01\n",
            "0.05\n",
            "0.1\n",
            "0.1\n",
            "0.25\n",
            "0.25\n"
          ]
        }
      ]
    },
    {
      "cell_type": "code",
      "source": [
        "'''\n",
        "And Another Thing:\n",
        "\n",
        "Now come up with your own similar idea that would benefit from inheritance.\n",
        "Code that up and show that it works.\n",
        "'''\n",
        "\n",
        "class Customer():\n",
        "    \"\"\"Creating a Customer\"\"\"\n",
        "    def __init__(self, customer_name, customer_email):\n",
        "        '''Initialize with customer's name and email.'''\n",
        "        self.customer_name = customer_name\n",
        "        self.customer_email = customer_email\n",
        "\n",
        "class Product():\n",
        "    '''Creates a Product.'''\n",
        "    def __init__(self, product_name, product_price):\n",
        "        '''Initialize with product's name and price.'''\n",
        "        self.product_name = product_name\n",
        "        self.product_price = product_price\n",
        "\n",
        "class Order():\n",
        "    '''Creates an Order.'''\n",
        "    def __init__(self, customer):\n",
        "        self.customer = customer\n",
        "        self.items = []\n",
        "\n",
        "    def add_product(self, product, quantity):\n",
        "        '''Adds product and quantity to the order items as tuple.'''\n",
        "        self.items.append((product, quantity))\n",
        "\n",
        "    def total(self):\n",
        "        '''Calculates the total price for the order'''\n",
        "        total = 0\n",
        "        for product, quantity in self.items:\n",
        "            total += product.product_price * quantity\n",
        "\n",
        "        return total\n",
        "\n",
        "class OnlineOrder(Order):\n",
        "    '''Creates a child class from Order class for online order'''\n",
        "    def __init__(self, customer, shipping_address):\n",
        "        '''Initilizing with the Order class's parameters'''\n",
        "        super().__init__(customer)\n",
        "        self.shipping_address = shipping_address\n",
        "\n",
        "class InStoreOrder(Order):\n",
        "    '''Creates a child class from Order class for online order'''\n",
        "    def __init__(self, customer, sales_associate, payment_method):\n",
        "        '''Initilizing with the Order class's parameters'''\n",
        "        super().__init__(customer)\n",
        "        self.sales_associate = sales_associate\n",
        "        self.payment_method = payment_method\n",
        "\n",
        "# Example usage\n",
        "\n",
        "customer1 = Customer('John Doe', 'john@email.com')\n",
        "\n",
        "apple = Product('Apple', 0.99)\n",
        "orange = Product('Orange', 0.79)\n",
        "\n",
        "print(\"\\nOnline order:\")\n",
        "order = OnlineOrder(customer1, '123 Main St')\n",
        "order.add_product(apple, 2)\n",
        "order.add_product(orange, 5)\n",
        "print(f\"Order for: {order.customer.customer_name} ({order.customer.customer_email})\")\n",
        "print(f\"Shipping to: {order.shipping_address}\")\n",
        "print(f\"Total: {order.total()}\")\n",
        "\n",
        "print(\"\\nIn store order:\")\n",
        "order = InStoreOrder(customer1, 'Jane', 'Credit card')\n",
        "order.add_product(apple, 1)\n",
        "order.add_product(orange, 10)\n",
        "print(f\"Order for: {order.customer.customer_name} ({order.customer.customer_email})\")\n",
        "print(f\"Sales associate: {order.sales_associate}\")\n",
        "print(f\"Payment method: {order.payment_method}\")\n",
        "print(f\"Total: {order.total()}\")\n",
        "\n",
        "\n",
        "customer2 = Customer(\"Jonny\", \"jonny@gmail.com\")\n",
        "\n",
        "banana = Product(\"Banana\", 2.59)\n",
        "chicken = Product(\"Chicken\", 14.99)\n",
        "\n",
        "print(\"\\nOnline Order: \")\n",
        "order2 = OnlineOrder(customer2, \"73 Rugar St\")\n",
        "order2.add_product(banana, 5)\n",
        "order2.add_product(chicken, 2)\n",
        "print(f\"Order for: {order2.customer.customer_name} ({order2.customer.customer_email})\")\n",
        "print(f\"Shipping to: {order2.shipping_address}\")\n",
        "print(f\"Total: {order2.total()}\")"
      ],
      "metadata": {
        "colab": {
          "base_uri": "https://localhost:8080/"
        },
        "id": "HdVVRnj3xN5R",
        "outputId": "c264fca7-e71a-4298-c3ec-d2a7138a5b09"
      },
      "execution_count": 50,
      "outputs": [
        {
          "output_type": "stream",
          "name": "stdout",
          "text": [
            "\n",
            "Online order:\n",
            "Order for: John Doe (john@email.com)\n",
            "Shipping to: 123 Main St\n",
            "Total: 5.93\n",
            "\n",
            "In store order:\n",
            "Order for: John Doe (john@email.com)\n",
            "Sales associate: Jane\n",
            "Payment method: Credit card\n",
            "Total: 8.89\n",
            "\n",
            "Online Order: \n",
            "Order for: Jonny (jonny@gmail.com)\n",
            "Shipping to: 73 Rugar St\n",
            "Total: 42.93\n"
          ]
        }
      ]
    }
  ]
}
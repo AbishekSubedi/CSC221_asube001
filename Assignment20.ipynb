{
  "nbformat": 4,
  "nbformat_minor": 0,
  "metadata": {
    "colab": {
      "provenance": [],
      "include_colab_link": true
    },
    "kernelspec": {
      "name": "python3",
      "display_name": "Python 3"
    },
    "language_info": {
      "name": "python"
    }
  },
  "cells": [
    {
      "cell_type": "markdown",
      "metadata": {
        "id": "view-in-github",
        "colab_type": "text"
      },
      "source": [
        "<a href=\"https://colab.research.google.com/github/AbishekSubedi/CSC221_asube001/blob/main/Assignment20.ipynb\" target=\"_parent\"><img src=\"https://colab.research.google.com/assets/colab-badge.svg\" alt=\"Open In Colab\"/></a>"
      ]
    },
    {
      "cell_type": "markdown",
      "source": [
        "# Assignment 20\n",
        "## CSC 221\n",
        "- Abishek Subedi\n",
        "\n",
        "### Instructions:\n",
        "Fill in each code cell below the question. We are following along in Chapter 4 of Python Distilled."
      ],
      "metadata": {
        "id": "IAOUzGWE1eDx"
      }
    },
    {
      "cell_type": "code",
      "execution_count": null,
      "metadata": {
        "id": "Gnj3su7i5-lx",
        "colab": {
          "base_uri": "https://localhost:8080/"
        },
        "outputId": "40bf34bf-2970-4d26-f986-6806fd060e17"
      },
      "outputs": [
        {
          "output_type": "stream",
          "name": "stdout",
          "text": [
            "19\n",
            "44.5\n",
            "asdfg13\n"
          ]
        }
      ],
      "source": [
        "# 4.1 Essential Concepts\n",
        "\n",
        "# When we write \"a + b\" in Python, the interpreter tries to execute a.__add__(b)\n",
        "\n",
        "# Show that this is true by trying the following:\n",
        "a = 6\n",
        "b = 31.5\n",
        "c = 'asdfg'\n",
        "a1 = a.__add__(13)\n",
        "b1 = b.__add__(13)\n",
        "c1 = c.__add__('13')\n",
        "print(a1)\n",
        "print(b1)\n",
        "print(c1)\n",
        "\n",
        "# What are the types of a, b, and c?\n",
        "'''\n",
        "a is an integer\n",
        "b is a float\n",
        "c is a string\n",
        "'''\n",
        "\n",
        "\n",
        "# Explain the results\n",
        "'''\n",
        "The + operator in Python tries to call __add__ on the left operand to\n",
        "handle the addition/concatenation behavior. The type of the operands\n",
        "determines what kind of addition takes place.\n",
        "'''\n"
      ]
    },
    {
      "cell_type": "code",
      "source": [
        "# 4.2 through 4.4 will be covered in the next assignment\n"
      ],
      "metadata": {
        "id": "w2uYd3DO2do6"
      },
      "execution_count": null,
      "outputs": []
    },
    {
      "cell_type": "code",
      "source": [
        "# 4.5 str and repr\n",
        "# How many categpries of printing are shown below for a datetime object?\n",
        "'''\n",
        "There are 4 different 4 different categories of printing shown for the\n",
        "datetime object d\n",
        "1. Default string representation:\n",
        "    print(d)\n",
        "    print(f'{d}')\n",
        "    These call d.str() to get the default string representation\n",
        "\n",
        "2. Informal string representation:\n",
        "    print(f'{d!s}')\n",
        "    print(str(d))\n",
        "    These call d.str() to get the informal string representation\n",
        "\n",
        "3. Formal string representation:\n",
        "    print(f'{d!r}')\n",
        "    print(repr(d))\n",
        "    These call d.repr() to get the formal string representation\n",
        "\n",
        "4. Explicit method calls:\n",
        "    print(d.str())\n",
        "    print(d.repr())\n",
        "    These directly call the str() and repr() methods on d\n",
        "'''\n",
        "# What in the Pythion code makes each one get callled?\n",
        "# The print() function and f-strings will automatically call str() or repr()\n",
        "# as needed.\n",
        "\n",
        "from datetime import date\n",
        "d = date(2023, 11, 7)\n",
        "\n",
        "#print(d)\n",
        "#print(f'{d}')\n",
        "#print(f'{d!s}')\n",
        "#print(f'{d!r}')\n",
        "#print(str(d))\n",
        "#print(repr(d))\n",
        "#print(d.__str__())\n",
        "#print(d.__repr__())\n"
      ],
      "metadata": {
        "id": "Aa3ylzmV2wNF"
      },
      "execution_count": null,
      "outputs": []
    },
    {
      "cell_type": "code",
      "source": [
        "# 4.6 First-Class Objects\n",
        "# What is the significance of all objects being \"first-class\" in Python?\n",
        "# The significance of all objects being first-class in Python is that it\n",
        "# allows objects to be used in a very flexible way\n",
        "\n",
        "# Explain by typing in the code to create and use the 'items' dictionary shown in section 4.6.\n",
        "import math\n",
        "\n",
        "def abs(x):\n",
        "    if x < 0:\n",
        "        return -x\n",
        "    else:\n",
        "        return x\n",
        "\n",
        "items = {\n",
        "    'func': abs,\n",
        "    'mod': math,\n",
        "    'error': ValueError,\n",
        "    'append': nums.append\n",
        "}\n",
        "\n",
        "nums = [1, 2, 3, 4]\n",
        "\n",
        "'''\n",
        ">>> items['func'](-45)\n",
        "# Calls the abs() function stored in the dictionary\n",
        "45\n",
        "\n",
        ">>> items['mod'].sqrt(4)\n",
        "# Calls the math.sqrt() function from the math module stored in the dictionary\n",
        "2.0\n",
        "\n",
        ">>> try:\n",
        "...     x = int('a lot')\n",
        "... except items['error'] as e:\n",
        "...     print(\"Couldn't convert\")\n",
        "...\n",
        "Couldn't convert\n",
        "# Catches ValueError stored in the dictionary\n",
        "\n",
        ">>> items['append'](100)\n",
        "# Calls nums.append(100) where nums.append is stored in the dictionary\n",
        ">>> nums\n",
        "[1, 2, 3, 4, 100]\n",
        "'''\n",
        "# Explain each of the lines starting with '>>>' in the section.\n",
        "'''\n",
        ">>> items['func'](-45)\n",
        "# Executes abs(-45)\n",
        "45\n",
        "calls the abs function\n",
        "\n",
        ">>> items['mod'].sqrt(4)\n",
        "# Executes math.sqrt(4)\n",
        "2.0\n",
        "calls the sqrt method\n",
        "\n",
        ">>> try:\n",
        "...     x = int('a lot')\n",
        "... except items['error'] as e:\n",
        "...     print(\"Couldn't convert\")\n",
        "\n",
        "# Same as: except ValueError as e\n",
        "\n",
        "Couldn't convert\n",
        "tries to convert string into integer\n",
        "\n",
        ">>> items['append'](100)\n",
        "# Executes nums.append(100)\n",
        ">>> nums\n",
        "[1, 2, 3, 4, 100]\n",
        "it appends 100 to the list of nums\n",
        "\n",
        ">>> line = 'ACME,100,490.10'\n",
        ">>> column_types = [str, int, float]\n",
        ">>> parts = line.split(',')\n",
        "it splits the line from ',' and stores into list\n",
        "\n",
        ">>> row = [ty(val) for ty, val in zip(column_types, parts)]\n",
        "it creates the list and converts the types of the variables with the type\n",
        "from the column_types.\n",
        "\n",
        ">>> row\n",
        "['ACME', 100, 490.1]\n",
        "'''\n"
      ],
      "metadata": {
        "id": "9LRpP06Vsw6n"
      },
      "execution_count": null,
      "outputs": []
    },
    {
      "cell_type": "code",
      "source": [
        "# 4.7 Using None\n",
        "# Write a function that takes two parameters and returns their sum if they are\n",
        "#  integers or returns None if either one is not.\n",
        "\n",
        "# Put in some test code to show that your function works\n",
        "\n",
        "# INSERT YOUR CODE HERE\n",
        "def int_sum(a, b):\n",
        "    if isinstance(a, int) and isinstance(b, int):\n",
        "        return a + b\n",
        "    else:\n",
        "        return None\n",
        "\n",
        "# Test cases\n",
        "print(int_sum(5, 7)) # 12\n",
        "print(int_sum(5.1, 7.2)) # None\n",
        "print(int_sum('5', 7)) # None\n",
        "print(int_sum(5, '7')) # None"
      ],
      "metadata": {
        "id": "dUhRWGnCtewU",
        "colab": {
          "base_uri": "https://localhost:8080/"
        },
        "outputId": "f37be852-b670-44c6-c564-26c23a450e83"
      },
      "execution_count": 1,
      "outputs": [
        {
          "output_type": "stream",
          "name": "stdout",
          "text": [
            "12\n",
            "None\n",
            "None\n",
            "None\n"
          ]
        }
      ]
    },
    {
      "cell_type": "code",
      "source": [
        "# 4.9 Object Protocol\n",
        "# Create a simple object that has methods for:\n",
        "#  __new__\n",
        "#  __init__\n",
        "#  __del__\n",
        "#  __repr__\n",
        "#  __str__\n",
        "\n",
        "# Put in some test code to show how and when each of these 'magic' functions gets called.\n",
        "\n",
        "# INSERT YOUR CODE HERE\n",
        "class MyObject:\n",
        "\n",
        "    def __new__(cls):\n",
        "        print('__new__ called')\n",
        "        return super().__new__(cls)\n",
        "\n",
        "    def __init__(self):\n",
        "        print('__init__ called')\n",
        "\n",
        "    def __del__(self):\n",
        "        print('__del__ called')\n",
        "\n",
        "    def __repr__(self):\n",
        "        return '__repr__ called'\n",
        "\n",
        "    def __str__(self):\n",
        "        return '__str__ called'\n",
        "\n",
        "# Test code\n",
        "print('Creating object...')\n",
        "obj = MyObject()\n",
        "print('obj:', obj)\n",
        "print('str(obj):', str(obj))\n",
        "print('repr(obj):', repr(obj))\n",
        "print('Deleting object...')\n",
        "del obj"
      ],
      "metadata": {
        "id": "4M-CQevEt2xQ",
        "colab": {
          "base_uri": "https://localhost:8080/"
        },
        "outputId": "b46d1c92-a47d-465d-bdd9-2d35c6af28fa"
      },
      "execution_count": 3,
      "outputs": [
        {
          "output_type": "stream",
          "name": "stdout",
          "text": [
            "Creating object...\n",
            "__new__ called\n",
            "__init__ called\n",
            "obj: __str__ called\n",
            "str(obj): __str__ called\n",
            "repr(obj): __repr__ called\n",
            "Deleting object...\n",
            "__del__ called\n"
          ]
        }
      ]
    }
  ]
}
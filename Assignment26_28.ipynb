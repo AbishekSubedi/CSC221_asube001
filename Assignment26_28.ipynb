{
  "nbformat": 4,
  "nbformat_minor": 0,
  "metadata": {
    "colab": {
      "provenance": [],
      "authorship_tag": "ABX9TyMEWIOxFj0vkag5uRJOclfI",
      "include_colab_link": true
    },
    "kernelspec": {
      "name": "python3",
      "display_name": "Python 3"
    },
    "language_info": {
      "name": "python"
    }
  },
  "cells": [
    {
      "cell_type": "markdown",
      "metadata": {
        "id": "view-in-github",
        "colab_type": "text"
      },
      "source": [
        "<a href=\"https://colab.research.google.com/github/AbishekSubedi/CSC221_asube001/blob/main/Assignment26_28.ipynb\" target=\"_parent\"><img src=\"https://colab.research.google.com/assets/colab-badge.svg\" alt=\"Open In Colab\"/></a>"
      ]
    },
    {
      "cell_type": "code",
      "execution_count": null,
      "metadata": {
        "id": "Jd_NV-nbr0E_",
        "colab": {
          "base_uri": "https://localhost:8080/"
        },
        "outputId": "2e96e5e9-437b-4698-a69d-38a6a48209d2"
      },
      "outputs": [
        {
          "output_type": "stream",
          "name": "stdout",
          "text": [
            "<class 'int'> <class 'float'> <class 'str'>\n",
            "25 36.56 Ned\n"
          ]
        }
      ],
      "source": [
        "# Cell 1: Demonstrate int, float, and string\n",
        "number = 25\n",
        "float1 = 36.56\n",
        "string = \"Ned\"\n",
        "\n",
        "print(type(number), type(float1), type(string))\n",
        "print(number, float1, string)"
      ]
    },
    {
      "cell_type": "code",
      "source": [
        "# Cell 2: Show how an f-string works (f'Something like this with {something} in it.')\n",
        "print(f'This is an f-string with {string} in it.')"
      ],
      "metadata": {
        "colab": {
          "base_uri": "https://localhost:8080/"
        },
        "id": "R-Z5SjrtTij2",
        "outputId": "7dd22218-1744-4a2c-e9bc-8242674c9cc5"
      },
      "execution_count": null,
      "outputs": [
        {
          "output_type": "stream",
          "name": "stdout",
          "text": [
            "This is an f-string with Ned in it.\n"
          ]
        }
      ]
    },
    {
      "cell_type": "code",
      "source": [
        "# Cell 3: Demonstrate some methods of the string class\n",
        "print(string.upper())\n",
        "print(string.lower())\n",
        "print(string.isupper())\n",
        "print(string.islower())\n",
        "print(string.isdigit())"
      ],
      "metadata": {
        "colab": {
          "base_uri": "https://localhost:8080/"
        },
        "id": "Pbm3RaDbT8UM",
        "outputId": "98a445d1-2822-4fcf-d91f-10c8cd700d70"
      },
      "execution_count": null,
      "outputs": [
        {
          "output_type": "stream",
          "name": "stdout",
          "text": [
            "NED\n",
            "ned\n",
            "False\n",
            "False\n",
            "False\n"
          ]
        }
      ]
    },
    {
      "cell_type": "code",
      "source": [
        "# Cell 4: Do something with a list\n",
        "my_list = [i for i in range(1, 6)]\n",
        "\n",
        "print(my_list)\n",
        "print(my_list[0])\n",
        "print(my_list[-1])\n",
        "\n",
        "my_list.append(\"welcome\")\n",
        "\n",
        "print(my_list)"
      ],
      "metadata": {
        "colab": {
          "base_uri": "https://localhost:8080/"
        },
        "id": "_7167GyqUZi1",
        "outputId": "328a27b4-3561-4ba5-f2ff-e37c998db7fb"
      },
      "execution_count": null,
      "outputs": [
        {
          "output_type": "stream",
          "name": "stdout",
          "text": [
            "[1, 2, 3, 4, 5]\n",
            "1\n",
            "5\n",
            "[1, 2, 3, 4, 5, 'welcome']\n"
          ]
        }
      ]
    },
    {
      "cell_type": "code",
      "source": [
        "# Cell 5: Do something with a list of lists\n",
        "\n",
        "list_of_lists = [[1,2,3], ['a','b','c'], [True, False, True]]\n",
        "\n",
        "print(list_of_lists)\n",
        "\n",
        "num_sublists = len(list_of_lists)\n",
        "print(num_sublists)\n",
        "\n",
        "print(list_of_lists[1])\n",
        "\n",
        "list_of_lists.append([4, 5, 6])\n",
        "print(list_of_lists)\n",
        "\n",
        "list_of_lists.extend([[7, 8, 9]])\n",
        "print(list_of_lists)\n",
        "\n",
        "print(list_of_lists[2][0])"
      ],
      "metadata": {
        "colab": {
          "base_uri": "https://localhost:8080/"
        },
        "id": "cVU2k1-rVvhb",
        "outputId": "712fbbfd-edc7-48a9-ed9a-1d6ed44f4906"
      },
      "execution_count": null,
      "outputs": [
        {
          "output_type": "stream",
          "name": "stdout",
          "text": [
            "[[1, 2, 3], ['a', 'b', 'c'], [True, False, True]]\n",
            "3\n",
            "['a', 'b', 'c']\n",
            "[[1, 2, 3], ['a', 'b', 'c'], [True, False, True], [4, 5, 6]]\n",
            "[[1, 2, 3], ['a', 'b', 'c'], [True, False, True], [4, 5, 6], [7, 8, 9]]\n",
            "True\n"
          ]
        }
      ]
    },
    {
      "cell_type": "code",
      "source": [
        "# Cell 6: Show how to print a list in sorted order without changing it.\n",
        "nums = [5, 2, 4, 1, 3]\n",
        "\n",
        "print(nums)\n",
        "\n",
        "sorted_nums = nums[:]\n",
        "\n",
        "sorted_nums.sort()\n",
        "\n",
        "print(sorted_nums)\n",
        "\n",
        "# Original list remains untouched\n",
        "print(nums)"
      ],
      "metadata": {
        "colab": {
          "base_uri": "https://localhost:8080/"
        },
        "id": "8A7s_sQrX74U",
        "outputId": "0c6c6304-ff40-4a0d-d308-82790b0fb007"
      },
      "execution_count": null,
      "outputs": [
        {
          "output_type": "stream",
          "name": "stdout",
          "text": [
            "[5, 2, 4, 1, 3]\n",
            "[1, 2, 3, 4, 5]\n",
            "[5, 2, 4, 1, 3]\n"
          ]
        }
      ]
    },
    {
      "cell_type": "code",
      "source": [
        "# Cell 7: Printing a series of numbers using for and range\n",
        "# Print numbers 0 to 9\n",
        "for i in range(10):\n",
        "    print(i)\n",
        "\n",
        "print(\"-\" * 10)\n",
        "\n",
        "# Print even numbers 2 to 10\n",
        "for i in range(2, 11, 2):\n",
        "    print(i)\n",
        "\n",
        "print(\"-\" * 10)\n",
        "\n",
        "# Print numbers counting down from 10 to 1\n",
        "for i in range(10, 0, -1):\n",
        "    print(i)\n",
        "\n",
        "print(\"-\" * 10)\n",
        "\n",
        "# Print numbers with custom step\n",
        "for i in range(0, 10, 3):\n",
        "    print(i)\n",
        "\n",
        "print(\"-\" * 10)"
      ],
      "metadata": {
        "colab": {
          "base_uri": "https://localhost:8080/"
        },
        "id": "nuoZBmoCY1XX",
        "outputId": "5a7ead92-e22d-463f-f97b-d48cb7f0a80c"
      },
      "execution_count": null,
      "outputs": [
        {
          "output_type": "stream",
          "name": "stdout",
          "text": [
            "0\n",
            "1\n",
            "2\n",
            "3\n",
            "4\n",
            "5\n",
            "6\n",
            "7\n",
            "8\n",
            "9\n",
            "----------\n",
            "2\n",
            "4\n",
            "6\n",
            "8\n",
            "10\n",
            "----------\n",
            "10\n",
            "9\n",
            "8\n",
            "7\n",
            "6\n",
            "5\n",
            "4\n",
            "3\n",
            "2\n",
            "1\n",
            "----------\n",
            "0\n",
            "3\n",
            "6\n",
            "9\n",
            "----------\n"
          ]
        }
      ]
    },
    {
      "cell_type": "code",
      "source": [
        "# Cell 8: Printing a series of squares of all numbers from 1 to 1000 that are\n",
        "# not multiples of 7 using list comprehension.\n",
        "non_multiples = [x**2 for x in range(1, 1001) if x % 7 != 0]\n",
        "print(non_multiples)"
      ],
      "metadata": {
        "colab": {
          "base_uri": "https://localhost:8080/"
        },
        "id": "wuAaaKyZZzPa",
        "outputId": "475ab17a-55d0-464f-f6f5-f6b745e0caf1"
      },
      "execution_count": null,
      "outputs": [
        {
          "output_type": "stream",
          "name": "stdout",
          "text": [
            "[1, 4, 9, 16, 25, 36, 64, 81, 100, 121, 144, 169, 225, 256, 289, 324, 361, 400, 484, 529, 576, 625, 676, 729, 841, 900, 961, 1024, 1089, 1156, 1296, 1369, 1444, 1521, 1600, 1681, 1849, 1936, 2025, 2116, 2209, 2304, 2500, 2601, 2704, 2809, 2916, 3025, 3249, 3364, 3481, 3600, 3721, 3844, 4096, 4225, 4356, 4489, 4624, 4761, 5041, 5184, 5329, 5476, 5625, 5776, 6084, 6241, 6400, 6561, 6724, 6889, 7225, 7396, 7569, 7744, 7921, 8100, 8464, 8649, 8836, 9025, 9216, 9409, 9801, 10000, 10201, 10404, 10609, 10816, 11236, 11449, 11664, 11881, 12100, 12321, 12769, 12996, 13225, 13456, 13689, 13924, 14400, 14641, 14884, 15129, 15376, 15625, 16129, 16384, 16641, 16900, 17161, 17424, 17956, 18225, 18496, 18769, 19044, 19321, 19881, 20164, 20449, 20736, 21025, 21316, 21904, 22201, 22500, 22801, 23104, 23409, 24025, 24336, 24649, 24964, 25281, 25600, 26244, 26569, 26896, 27225, 27556, 27889, 28561, 28900, 29241, 29584, 29929, 30276, 30976, 31329, 31684, 32041, 32400, 32761, 33489, 33856, 34225, 34596, 34969, 35344, 36100, 36481, 36864, 37249, 37636, 38025, 38809, 39204, 39601, 40000, 40401, 40804, 41616, 42025, 42436, 42849, 43264, 43681, 44521, 44944, 45369, 45796, 46225, 46656, 47524, 47961, 48400, 48841, 49284, 49729, 50625, 51076, 51529, 51984, 52441, 52900, 53824, 54289, 54756, 55225, 55696, 56169, 57121, 57600, 58081, 58564, 59049, 59536, 60516, 61009, 61504, 62001, 62500, 63001, 64009, 64516, 65025, 65536, 66049, 66564, 67600, 68121, 68644, 69169, 69696, 70225, 71289, 71824, 72361, 72900, 73441, 73984, 75076, 75625, 76176, 76729, 77284, 77841, 78961, 79524, 80089, 80656, 81225, 81796, 82944, 83521, 84100, 84681, 85264, 85849, 87025, 87616, 88209, 88804, 89401, 90000, 91204, 91809, 92416, 93025, 93636, 94249, 95481, 96100, 96721, 97344, 97969, 98596, 99856, 100489, 101124, 101761, 102400, 103041, 104329, 104976, 105625, 106276, 106929, 107584, 108900, 109561, 110224, 110889, 111556, 112225, 113569, 114244, 114921, 115600, 116281, 116964, 118336, 119025, 119716, 120409, 121104, 121801, 123201, 123904, 124609, 125316, 126025, 126736, 128164, 128881, 129600, 130321, 131044, 131769, 133225, 133956, 134689, 135424, 136161, 136900, 138384, 139129, 139876, 140625, 141376, 142129, 143641, 144400, 145161, 145924, 146689, 147456, 148996, 149769, 150544, 151321, 152100, 152881, 154449, 155236, 156025, 156816, 157609, 158404, 160000, 160801, 161604, 162409, 163216, 164025, 165649, 166464, 167281, 168100, 168921, 169744, 171396, 172225, 173056, 173889, 174724, 175561, 177241, 178084, 178929, 179776, 180625, 181476, 183184, 184041, 184900, 185761, 186624, 187489, 189225, 190096, 190969, 191844, 192721, 193600, 195364, 196249, 197136, 198025, 198916, 199809, 201601, 202500, 203401, 204304, 205209, 206116, 207936, 208849, 209764, 210681, 211600, 212521, 214369, 215296, 216225, 217156, 218089, 219024, 220900, 221841, 222784, 223729, 224676, 225625, 227529, 228484, 229441, 230400, 231361, 232324, 234256, 235225, 236196, 237169, 238144, 239121, 241081, 242064, 243049, 244036, 245025, 246016, 248004, 249001, 250000, 251001, 252004, 253009, 255025, 256036, 257049, 258064, 259081, 260100, 262144, 263169, 264196, 265225, 266256, 267289, 269361, 270400, 271441, 272484, 273529, 274576, 276676, 277729, 278784, 279841, 280900, 281961, 284089, 285156, 286225, 287296, 288369, 289444, 291600, 292681, 293764, 294849, 295936, 297025, 299209, 300304, 301401, 302500, 303601, 304704, 306916, 308025, 309136, 310249, 311364, 312481, 314721, 315844, 316969, 318096, 319225, 320356, 322624, 323761, 324900, 326041, 327184, 328329, 330625, 331776, 332929, 334084, 335241, 336400, 338724, 339889, 341056, 342225, 343396, 344569, 346921, 348100, 349281, 350464, 351649, 352836, 355216, 356409, 357604, 358801, 360000, 361201, 363609, 364816, 366025, 367236, 368449, 369664, 372100, 373321, 374544, 375769, 376996, 378225, 380689, 381924, 383161, 384400, 385641, 386884, 389376, 390625, 391876, 393129, 394384, 395641, 398161, 399424, 400689, 401956, 403225, 404496, 407044, 408321, 409600, 410881, 412164, 413449, 416025, 417316, 418609, 419904, 421201, 422500, 425104, 426409, 427716, 429025, 430336, 431649, 434281, 435600, 436921, 438244, 439569, 440896, 443556, 444889, 446224, 447561, 448900, 450241, 452929, 454276, 455625, 456976, 458329, 459684, 462400, 463761, 465124, 466489, 467856, 469225, 471969, 473344, 474721, 476100, 477481, 478864, 481636, 483025, 484416, 485809, 487204, 488601, 491401, 492804, 494209, 495616, 497025, 498436, 501264, 502681, 504100, 505521, 506944, 508369, 511225, 512656, 514089, 515524, 516961, 518400, 521284, 522729, 524176, 525625, 527076, 528529, 531441, 532900, 534361, 535824, 537289, 538756, 541696, 543169, 544644, 546121, 547600, 549081, 552049, 553536, 555025, 556516, 558009, 559504, 562500, 564001, 565504, 567009, 568516, 570025, 573049, 574564, 576081, 577600, 579121, 580644, 583696, 585225, 586756, 588289, 589824, 591361, 594441, 595984, 597529, 599076, 600625, 602176, 605284, 606841, 608400, 609961, 611524, 613089, 616225, 617796, 619369, 620944, 622521, 624100, 627264, 628849, 630436, 632025, 633616, 635209, 638401, 640000, 641601, 643204, 644809, 646416, 649636, 651249, 652864, 654481, 656100, 657721, 660969, 662596, 664225, 665856, 667489, 669124, 672400, 674041, 675684, 677329, 678976, 680625, 683929, 685584, 687241, 688900, 690561, 692224, 695556, 697225, 698896, 700569, 702244, 703921, 707281, 708964, 710649, 712336, 714025, 715716, 719104, 720801, 722500, 724201, 725904, 727609, 731025, 732736, 734449, 736164, 737881, 739600, 743044, 744769, 746496, 748225, 749956, 751689, 755161, 756900, 758641, 760384, 762129, 763876, 767376, 769129, 770884, 772641, 774400, 776161, 779689, 781456, 783225, 784996, 786769, 788544, 792100, 793881, 795664, 797449, 799236, 801025, 804609, 806404, 808201, 810000, 811801, 813604, 817216, 819025, 820836, 822649, 824464, 826281, 829921, 831744, 833569, 835396, 837225, 839056, 842724, 844561, 846400, 848241, 850084, 851929, 855625, 857476, 859329, 861184, 863041, 864900, 868624, 870489, 872356, 874225, 876096, 877969, 881721, 883600, 885481, 887364, 889249, 891136, 894916, 896809, 898704, 900601, 902500, 904401, 908209, 910116, 912025, 913936, 915849, 917764, 921600, 923521, 925444, 927369, 929296, 931225, 935089, 937024, 938961, 940900, 942841, 944784, 948676, 950625, 952576, 954529, 956484, 958441, 962361, 964324, 966289, 968256, 970225, 972196, 976144, 978121, 980100, 982081, 984064, 986049, 990025, 992016, 994009, 996004, 998001, 1000000]\n"
          ]
        }
      ]
    },
    {
      "cell_type": "code",
      "source": [
        "# Cell 9: Generating all of the prime numbers from 2 to 1000 using the\n",
        "# Sieve of Eratosthenes which I suggest you ask ChatGPT for help on.\n",
        "def sieve_of_eratosthenes(limit):\n",
        "    # Create a list to keep track of whether each number is prime\n",
        "    is_prime = [True] * (limit + 1)\n",
        "\n",
        "    # 0 and 1 are not prime numbers\n",
        "    is_prime[0] = is_prime[1] = False\n",
        "\n",
        "    # Iterate through the numbers starting from 2\n",
        "    for number in range(2, int(limit**0.5) + 1):\n",
        "        # If the current number is marked as prime\n",
        "        if is_prime[number]:\n",
        "            # Mark all multiples of the current number as not prime\n",
        "            for multiple in range(number * number, limit + 1, number):\n",
        "                is_prime[multiple] = False\n",
        "\n",
        "    # Collect the prime numbers into a list\n",
        "    primes = [number for number in range(2, limit + 1) if is_prime[number]]\n",
        "\n",
        "    return primes\n",
        "\n",
        "# Generate prime numbers from 2 to 1000\n",
        "primes_up_to_1000 = sieve_of_eratosthenes(1000)\n",
        "\n",
        "# Print the prime numbers\n",
        "print(\"Prime numbers from 2 to 1000:\", primes_up_to_1000)"
      ],
      "metadata": {
        "colab": {
          "base_uri": "https://localhost:8080/"
        },
        "id": "sTRPDqF4aIyz",
        "outputId": "6c416f82-e0cf-425d-e3fd-adc623cde541"
      },
      "execution_count": null,
      "outputs": [
        {
          "output_type": "stream",
          "name": "stdout",
          "text": [
            "Prime numbers from 2 to 1000: [2, 3, 5, 7, 11, 13, 17, 19, 23, 29, 31, 37, 41, 43, 47, 53, 59, 61, 67, 71, 73, 79, 83, 89, 97, 101, 103, 107, 109, 113, 127, 131, 137, 139, 149, 151, 157, 163, 167, 173, 179, 181, 191, 193, 197, 199, 211, 223, 227, 229, 233, 239, 241, 251, 257, 263, 269, 271, 277, 281, 283, 293, 307, 311, 313, 317, 331, 337, 347, 349, 353, 359, 367, 373, 379, 383, 389, 397, 401, 409, 419, 421, 431, 433, 439, 443, 449, 457, 461, 463, 467, 479, 487, 491, 499, 503, 509, 521, 523, 541, 547, 557, 563, 569, 571, 577, 587, 593, 599, 601, 607, 613, 617, 619, 631, 641, 643, 647, 653, 659, 661, 673, 677, 683, 691, 701, 709, 719, 727, 733, 739, 743, 751, 757, 761, 769, 773, 787, 797, 809, 811, 821, 823, 827, 829, 839, 853, 857, 859, 863, 877, 881, 883, 887, 907, 911, 919, 929, 937, 941, 947, 953, 967, 971, 977, 983, 991, 997]\n"
          ]
        }
      ]
    },
    {
      "cell_type": "code",
      "source": [
        "# Cell 10: Create a generator from your function above that you can use to\n",
        "# print the first N prime numbers. This should look like:\n",
        "# for x in my_prime_generator(200):\n",
        "#   print(x)\n",
        "\n",
        "def sieve_of_eratosthenes_generator(limit):\n",
        "    # Create a list to keep track of whether each number is prime\n",
        "    is_prime = [True] * (limit + 1)\n",
        "\n",
        "    # 0 and 1 are not prime numbers\n",
        "    is_prime[0] = is_prime[1] = False\n",
        "\n",
        "    # Iterate through the numbers starting from 2\n",
        "    for number in range(2, int(limit**0.5) + 1):\n",
        "        # If the current number is marked as prime\n",
        "        if is_prime[number]:\n",
        "            yield number\n",
        "\n",
        "# Print the first N prime numbers (e.g., N = 200)\n",
        "N = 200\n",
        "for prime_number in sieve_of_eratosthenes_generator(N**2):\n",
        "    if N > 0:\n",
        "        print(prime_number)\n",
        "        N -= 1\n",
        "    else:\n",
        "        break"
      ],
      "metadata": {
        "colab": {
          "base_uri": "https://localhost:8080/"
        },
        "id": "1B7R78Gobdb2",
        "outputId": "ca89eabd-d2b2-4921-a3ea-2faf68fb2e53"
      },
      "execution_count": null,
      "outputs": [
        {
          "output_type": "stream",
          "name": "stdout",
          "text": [
            "2\n",
            "3\n",
            "4\n",
            "5\n",
            "6\n",
            "7\n",
            "8\n",
            "9\n",
            "10\n",
            "11\n",
            "12\n",
            "13\n",
            "14\n",
            "15\n",
            "16\n",
            "17\n",
            "18\n",
            "19\n",
            "20\n",
            "21\n",
            "22\n",
            "23\n",
            "24\n",
            "25\n",
            "26\n",
            "27\n",
            "28\n",
            "29\n",
            "30\n",
            "31\n",
            "32\n",
            "33\n",
            "34\n",
            "35\n",
            "36\n",
            "37\n",
            "38\n",
            "39\n",
            "40\n",
            "41\n",
            "42\n",
            "43\n",
            "44\n",
            "45\n",
            "46\n",
            "47\n",
            "48\n",
            "49\n",
            "50\n",
            "51\n",
            "52\n",
            "53\n",
            "54\n",
            "55\n",
            "56\n",
            "57\n",
            "58\n",
            "59\n",
            "60\n",
            "61\n",
            "62\n",
            "63\n",
            "64\n",
            "65\n",
            "66\n",
            "67\n",
            "68\n",
            "69\n",
            "70\n",
            "71\n",
            "72\n",
            "73\n",
            "74\n",
            "75\n",
            "76\n",
            "77\n",
            "78\n",
            "79\n",
            "80\n",
            "81\n",
            "82\n",
            "83\n",
            "84\n",
            "85\n",
            "86\n",
            "87\n",
            "88\n",
            "89\n",
            "90\n",
            "91\n",
            "92\n",
            "93\n",
            "94\n",
            "95\n",
            "96\n",
            "97\n",
            "98\n",
            "99\n",
            "100\n",
            "101\n",
            "102\n",
            "103\n",
            "104\n",
            "105\n",
            "106\n",
            "107\n",
            "108\n",
            "109\n",
            "110\n",
            "111\n",
            "112\n",
            "113\n",
            "114\n",
            "115\n",
            "116\n",
            "117\n",
            "118\n",
            "119\n",
            "120\n",
            "121\n",
            "122\n",
            "123\n",
            "124\n",
            "125\n",
            "126\n",
            "127\n",
            "128\n",
            "129\n",
            "130\n",
            "131\n",
            "132\n",
            "133\n",
            "134\n",
            "135\n",
            "136\n",
            "137\n",
            "138\n",
            "139\n",
            "140\n",
            "141\n",
            "142\n",
            "143\n",
            "144\n",
            "145\n",
            "146\n",
            "147\n",
            "148\n",
            "149\n",
            "150\n",
            "151\n",
            "152\n",
            "153\n",
            "154\n",
            "155\n",
            "156\n",
            "157\n",
            "158\n",
            "159\n",
            "160\n",
            "161\n",
            "162\n",
            "163\n",
            "164\n",
            "165\n",
            "166\n",
            "167\n",
            "168\n",
            "169\n",
            "170\n",
            "171\n",
            "172\n",
            "173\n",
            "174\n",
            "175\n",
            "176\n",
            "177\n",
            "178\n",
            "179\n",
            "180\n",
            "181\n",
            "182\n",
            "183\n",
            "184\n",
            "185\n",
            "186\n",
            "187\n",
            "188\n",
            "189\n",
            "190\n",
            "191\n",
            "192\n",
            "193\n",
            "194\n",
            "195\n",
            "196\n",
            "197\n",
            "198\n",
            "199\n",
            "200\n"
          ]
        }
      ]
    },
    {
      "cell_type": "code",
      "source": [
        "# Cell 11: Generate 1000 random integers in a list (random.randint(...))\n",
        "# and print their min, max, sum, and average.\n",
        "import random\n",
        "\n",
        "random_integers = [random.randint(1, 100) for _ in range(1000)]\n",
        "\n",
        "print(\"Random Integers:\", random_integers)\n",
        "\n",
        "min_value = min(random_integers)\n",
        "max_value = max(random_integers)\n",
        "sum_values = sum(random_integers)\n",
        "average_value = sum_values / len(random_integers)\n",
        "\n",
        "print(\"Minimum:\", min_value)\n",
        "print(\"Maximum:\", max_value)\n",
        "print(\"Sum:\", sum_values)\n",
        "print(\"Average:\", average_value)"
      ],
      "metadata": {
        "id": "iesRItVWdVDr",
        "colab": {
          "base_uri": "https://localhost:8080/"
        },
        "outputId": "7e4429c3-0ec5-4830-d229-15ef04c78eb7"
      },
      "execution_count": null,
      "outputs": [
        {
          "output_type": "stream",
          "name": "stdout",
          "text": [
            "Random Integers: [55, 7, 100, 90, 6, 43, 40, 76, 4, 54, 26, 18, 27, 78, 34, 13, 69, 24, 17, 54, 22, 28, 40, 18, 28, 48, 24, 4, 7, 65, 47, 90, 46, 79, 64, 91, 86, 72, 82, 62, 82, 39, 35, 28, 17, 69, 94, 44, 97, 3, 55, 44, 11, 26, 72, 87, 56, 16, 26, 33, 34, 16, 13, 77, 78, 58, 16, 32, 45, 8, 80, 36, 63, 45, 67, 3, 80, 73, 44, 59, 11, 83, 77, 12, 32, 16, 87, 36, 12, 4, 33, 89, 44, 93, 50, 38, 34, 28, 51, 23, 36, 10, 48, 71, 67, 23, 51, 68, 50, 42, 12, 9, 60, 61, 84, 23, 83, 35, 65, 41, 1, 42, 19, 80, 47, 87, 1, 56, 62, 53, 100, 38, 52, 54, 88, 67, 56, 39, 92, 4, 13, 31, 65, 79, 53, 93, 47, 10, 98, 2, 71, 1, 87, 65, 77, 57, 20, 14, 19, 13, 50, 26, 94, 93, 68, 28, 66, 54, 61, 93, 77, 44, 19, 19, 27, 64, 24, 93, 65, 54, 61, 23, 20, 80, 2, 71, 57, 35, 14, 3, 99, 4, 77, 33, 92, 18, 36, 28, 55, 8, 48, 65, 72, 66, 66, 98, 67, 22, 82, 82, 57, 7, 18, 43, 100, 57, 91, 31, 66, 3, 11, 27, 62, 24, 23, 91, 52, 64, 33, 38, 42, 80, 68, 15, 73, 97, 9, 74, 43, 99, 13, 6, 12, 86, 67, 13, 96, 52, 59, 1, 74, 16, 12, 18, 94, 32, 87, 32, 25, 19, 54, 72, 83, 65, 80, 36, 98, 38, 32, 52, 59, 2, 46, 48, 100, 63, 85, 79, 39, 56, 7, 98, 62, 38, 66, 70, 57, 50, 7, 45, 100, 72, 39, 58, 13, 32, 28, 62, 5, 72, 1, 96, 69, 57, 41, 71, 61, 19, 99, 93, 67, 57, 55, 70, 50, 63, 13, 32, 71, 81, 92, 87, 10, 13, 9, 32, 52, 11, 77, 8, 37, 49, 88, 60, 58, 67, 37, 73, 6, 85, 87, 78, 1, 76, 69, 62, 82, 19, 22, 3, 56, 20, 55, 67, 62, 32, 89, 46, 87, 32, 97, 86, 78, 64, 54, 30, 19, 18, 65, 57, 76, 70, 34, 65, 9, 22, 44, 40, 24, 84, 70, 6, 17, 78, 82, 37, 24, 66, 76, 75, 17, 77, 87, 16, 29, 58, 55, 41, 43, 91, 65, 14, 77, 35, 13, 66, 25, 83, 91, 50, 59, 16, 23, 5, 59, 85, 91, 12, 15, 25, 35, 16, 27, 30, 93, 46, 96, 57, 91, 6, 35, 34, 31, 34, 19, 34, 52, 51, 90, 21, 85, 54, 72, 75, 89, 26, 28, 83, 42, 48, 31, 85, 13, 41, 92, 97, 80, 2, 33, 38, 86, 39, 44, 76, 54, 95, 67, 95, 97, 80, 61, 44, 93, 83, 20, 38, 14, 54, 86, 40, 64, 78, 6, 89, 71, 22, 15, 57, 56, 58, 87, 66, 10, 4, 92, 67, 47, 73, 87, 56, 71, 63, 43, 99, 4, 18, 6, 35, 26, 45, 27, 65, 15, 80, 53, 45, 61, 52, 32, 52, 66, 50, 24, 26, 54, 9, 97, 95, 53, 11, 88, 90, 47, 88, 82, 98, 60, 50, 57, 4, 18, 90, 98, 19, 67, 73, 8, 35, 87, 12, 88, 79, 85, 43, 46, 13, 80, 86, 48, 59, 38, 21, 43, 50, 89, 46, 93, 71, 51, 70, 1, 74, 41, 9, 13, 95, 66, 45, 68, 70, 30, 9, 96, 96, 79, 4, 62, 98, 78, 90, 35, 51, 56, 72, 8, 74, 30, 17, 10, 63, 69, 11, 16, 90, 89, 23, 7, 44, 73, 28, 53, 10, 70, 44, 95, 67, 60, 32, 23, 35, 6, 45, 21, 52, 6, 76, 80, 66, 84, 38, 56, 6, 45, 23, 90, 35, 5, 22, 29, 73, 17, 68, 4, 47, 81, 44, 6, 19, 72, 79, 21, 76, 86, 34, 98, 32, 41, 72, 70, 55, 12, 40, 90, 8, 47, 87, 44, 46, 2, 59, 47, 68, 28, 83, 56, 63, 7, 37, 54, 40, 93, 100, 91, 71, 24, 58, 62, 62, 1, 78, 49, 59, 85, 83, 43, 59, 23, 3, 3, 53, 97, 76, 45, 46, 86, 89, 2, 34, 49, 85, 71, 40, 85, 79, 1, 30, 69, 27, 99, 77, 17, 46, 93, 89, 95, 16, 68, 45, 47, 41, 61, 5, 83, 88, 26, 81, 14, 93, 74, 50, 59, 19, 2, 2, 30, 5, 54, 98, 17, 42, 9, 37, 8, 45, 42, 19, 1, 2, 88, 78, 73, 45, 47, 99, 85, 29, 91, 7, 62, 16, 41, 85, 89, 97, 38, 8, 94, 100, 87, 9, 37, 19, 53, 90, 16, 99, 88, 32, 89, 97, 44, 77, 70, 95, 84, 32, 92, 27, 67, 92, 48, 7, 38, 77, 96, 9, 97, 83, 93, 64, 96, 39, 9, 75, 19, 12, 63, 27, 52, 97, 23, 43, 61, 41, 7, 56, 41, 43, 25, 50, 52, 48, 82, 27, 38, 3, 72, 99, 72, 59, 88, 45, 66, 73, 54, 88, 17, 51, 11, 5, 23, 44, 13, 21, 72, 60, 1, 70, 17, 89, 71, 62, 63, 87, 61, 72, 45, 69, 62, 99, 55, 83, 49, 22, 80, 80, 88, 96, 13, 76, 91, 28, 49, 85, 52, 14, 98, 15, 84, 34, 51, 64, 66, 83, 78, 48, 99, 22, 98, 8, 33, 28, 35, 12, 55, 44, 46, 36, 10, 30, 5, 33, 18, 65, 93, 8, 52, 48, 10, 60, 63, 86, 63, 57, 2, 73, 58, 85, 100, 58, 49, 61, 94, 20, 31, 26, 81, 45, 59, 6, 11, 77, 67, 89, 40, 78, 76, 10, 93, 11, 86, 65, 26, 89, 59, 15, 80, 47, 99, 97, 3, 91, 75, 70, 54, 57, 79, 96, 38, 24, 94, 14, 20, 9, 82, 37, 10, 68, 87, 8, 81, 5, 68, 62, 91, 32, 6, 58, 17, 10, 42, 3, 38, 41, 31, 67, 32, 76, 89, 59]\n",
            "Minimum: 1\n",
            "Maximum: 100\n",
            "Sum: 51092\n",
            "Average: 51.092\n"
          ]
        }
      ]
    },
    {
      "cell_type": "code",
      "source": [
        "# Cell 12: Write a simple function that uses if, elif, and else and show that it works.\n",
        "def categorize_number(number):\n",
        "    if number > 0:\n",
        "        return \"Positive\"\n",
        "    elif number < 0:\n",
        "        return \"Negative\"\n",
        "    else:\n",
        "        return \"Zero\"\n",
        "\n",
        "# Test the function with different numbers\n",
        "print(categorize_number(5))\n",
        "print(categorize_number(-3))\n",
        "print(categorize_number(0))\n"
      ],
      "metadata": {
        "colab": {
          "base_uri": "https://localhost:8080/"
        },
        "id": "rjpWJh2sXySg",
        "outputId": "d0b18bd2-d92a-4604-b295-91b1e2929f9f"
      },
      "execution_count": null,
      "outputs": [
        {
          "output_type": "stream",
          "name": "stdout",
          "text": [
            "Positive\n",
            "Negative\n",
            "Zero\n"
          ]
        }
      ]
    },
    {
      "cell_type": "code",
      "source": [
        "# Cell 13: Show me three things from PEP-8 that surprise you\n",
        "x = 2\n",
        "y = 6\n",
        "# Good\n",
        "def example_function():\n",
        "    if x > 0:\n",
        "        print(\"Positive\")\n",
        "\n",
        "# Not recommended by PEP 8, but still valid\n",
        "def example_function():\n",
        "  if x > 0:\n",
        "      print(\"Positive\")\n",
        "\n",
        "# Good\n",
        "result = x + y\n",
        "values = [1, 2, 3]\n",
        "\n",
        "# Not recommended by PEP 8, but still valid\n",
        "result=x+y\n",
        "values=[1,2,3]\n",
        "\n",
        "# Good\n",
        "def function_with_long_name(\n",
        "        parameter1, parameter2, parameter3):\n",
        "    # ...\n",
        "    pass\n",
        "\n",
        "# Not recommended by PEP 8, but still valid\n",
        "def function_with_long_name(parameter1, parameter2, parameter3):  # Exceeds 79 characters\n",
        "    # ...\n",
        "    pass\n"
      ],
      "metadata": {
        "id": "24JzxGUEYLok"
      },
      "execution_count": null,
      "outputs": []
    },
    {
      "cell_type": "code",
      "source": [
        "# Cell 14: Create a file using %%file testfile.txt in Colab. The file\n",
        "# should contain lines like the following:\n",
        "# Amy, cat\n",
        "# Fred, dog\n",
        "# Hunter, dog\n",
        "# Peena, parakeet\n",
        "# Rover, dog\n",
        "\n",
        "\n",
        "\n",
        "%%writefile testfile.txt\n",
        "Amy, cat\n",
        "Fred, dog\n",
        "Hunter, dog\n",
        "Peena, parakeet\n",
        "Rover, dog\n"
      ],
      "metadata": {
        "colab": {
          "base_uri": "https://localhost:8080/"
        },
        "id": "dlcYh8QiY7tO",
        "outputId": "65df7da3-1625-41cb-90d8-6a4e37110a2e"
      },
      "execution_count": null,
      "outputs": [
        {
          "output_type": "stream",
          "name": "stdout",
          "text": [
            "Writing testfile.txt\n"
          ]
        }
      ]
    },
    {
      "cell_type": "code",
      "source": [
        "# Cell 15: Read that file in and convert it to a dictionary. Show\n",
        "# how you can lookup pet type by using pet name with your dictionary.\n",
        "# Read the content of the file\n",
        "with open(\"testfile.txt\", \"r\") as file:\n",
        "    lines = file.readlines()\n",
        "\n",
        "pet_dict = {}\n",
        "for line in lines:\n",
        "    name, pet_type = line.strip().split(\", \")\n",
        "    pet_dict[name] = pet_type\n",
        "\n",
        "print(\"Dictionary:\", pet_dict)\n",
        "\n",
        "lookup_name = \"Rover\"\n",
        "if lookup_name in pet_dict:\n",
        "    pet_type = pet_dict[lookup_name]\n",
        "    print(f\"{lookup_name}'s pet type is {pet_type}\")\n",
        "else:\n",
        "    print(f\"{lookup_name} not found in the dictionary.\")\n"
      ],
      "metadata": {
        "colab": {
          "base_uri": "https://localhost:8080/"
        },
        "id": "1ve-SUNBZSGO",
        "outputId": "124ff079-4f01-4488-aedb-7b63f6349c77"
      },
      "execution_count": null,
      "outputs": [
        {
          "output_type": "stream",
          "name": "stdout",
          "text": [
            "Dictionary: {'Amy': 'cat', 'Fred': 'dog', 'Hunter': 'dog', 'Peena': 'parakeet', 'Rover': 'dog'}\n",
            "Rover's pet type is dog\n"
          ]
        }
      ]
    },
    {
      "cell_type": "code",
      "source": [
        "# Cell 16: Generate a list of all the unique pet types in the\n",
        "# dictionary. Use a set to make this happen.\n",
        "\n",
        "unique_pet_types = set()\n",
        "\n",
        "for pet_type in pet_dict.values():\n",
        "    unique_pet_types.add(pet_type)\n",
        "\n",
        "unique_pet_types_list = list(unique_pet_types)\n",
        "\n",
        "print(\"Unique Pet Types:\", unique_pet_types_list)\n"
      ],
      "metadata": {
        "colab": {
          "base_uri": "https://localhost:8080/"
        },
        "id": "WgJ6hiM5b37y",
        "outputId": "f0bc7131-ad79-4bd2-b7a1-fee0004d9215"
      },
      "execution_count": null,
      "outputs": [
        {
          "output_type": "stream",
          "name": "stdout",
          "text": [
            "Unique Pet Types: ['parakeet', 'dog', 'cat']\n"
          ]
        }
      ]
    },
    {
      "cell_type": "code",
      "source": [
        "# Cell 17: Use a while loop to print the numbers from 80 down\n",
        "# to 16 by 8. Do not use for or range.\n",
        "counter = 80\n",
        "\n",
        "while counter >= 16:\n",
        "    print(counter)\n",
        "    counter -= 8\n"
      ],
      "metadata": {
        "id": "Gq6X08jddcJU",
        "colab": {
          "base_uri": "https://localhost:8080/"
        },
        "outputId": "d0c71932-2658-4bc3-e577-03586eb6d0f9"
      },
      "execution_count": null,
      "outputs": [
        {
          "output_type": "stream",
          "name": "stdout",
          "text": [
            "80\n",
            "72\n",
            "64\n",
            "56\n",
            "48\n",
            "40\n",
            "32\n",
            "24\n",
            "16\n"
          ]
        }
      ]
    },
    {
      "cell_type": "code",
      "source": [
        "# Cell 18: Write a function that takes three numbers and returns\n",
        "# their min, max, and sum as a tuple.\n",
        "def calculate_min_max_sum(num1, num2, num3):\n",
        "    min_value = min(num1, num2, num3)\n",
        "    max_value = max(num1, num2, num3)\n",
        "    sum_values = num1 + num2 + num3\n",
        "\n",
        "    return min_value, max_value, sum_values\n",
        "\n",
        "# Example usage:\n",
        "num1 = 59\n",
        "num2 = -98\n",
        "num3 = 7\n",
        "\n",
        "result = calculate_min_max_sum(num1, num2, num3)\n",
        "print(\"Minimum:\", result[0])\n",
        "print(\"Maximum:\", result[1])\n",
        "print(\"Sum:\", result[2])\n"
      ],
      "metadata": {
        "colab": {
          "base_uri": "https://localhost:8080/"
        },
        "id": "e8wundop8fO0",
        "outputId": "d0c1a9fd-e696-4f40-c90d-c96448f99d43"
      },
      "execution_count": null,
      "outputs": [
        {
          "output_type": "stream",
          "name": "stdout",
          "text": [
            "Minimum: -98\n",
            "Maximum: 59\n",
            "Sum: -32\n"
          ]
        }
      ]
    },
    {
      "cell_type": "code",
      "source": [
        "# Cell 19: Write a function that takes any number of numbers\n",
        "# and returns their min, max, and sum as a tuple.\n",
        "def calculate_min_max_sum(*args):\n",
        "    if not args:\n",
        "        raise ValueError(\"At least one number must be provided.\")\n",
        "\n",
        "    min_value = min(args)\n",
        "    max_value = max(args)\n",
        "    sum_values = sum(args)\n",
        "\n",
        "    return min_value, max_value, sum_values\n",
        "\n",
        "# Example usage:\n",
        "result = calculate_min_max_sum(15, 8, 27, 42, 12)\n",
        "print(\"Minimum:\", result[0])\n",
        "print(\"Maximum:\", result[1])\n",
        "print(\"Sum:\", result[2])\n"
      ],
      "metadata": {
        "colab": {
          "base_uri": "https://localhost:8080/"
        },
        "id": "diZyVGHN9Fra",
        "outputId": "b17db1f4-ae38-4b94-8064-b58315c40654"
      },
      "execution_count": null,
      "outputs": [
        {
          "output_type": "stream",
          "name": "stdout",
          "text": [
            "Minimum: 8\n",
            "Maximum: 42\n",
            "Sum: 104\n"
          ]
        }
      ]
    },
    {
      "cell_type": "code",
      "source": [
        "# Cell 20: Create a decorator called traceroo and use it to\n",
        "# print messages showing how your function above executes.\n",
        "def traceroo(func):\n",
        "    def wrapper(*args, **kwargs):\n",
        "        print(f\"Entering {func.__name__} with arguments: {args}\")\n",
        "        result = func(*args, **kwargs)\n",
        "        print(f\"Exiting {func.__name__}. Result: {result}\")\n",
        "        return result\n",
        "    return wrapper\n",
        "\n",
        "@traceroo\n",
        "def calculate_min_max_sum(*args):\n",
        "    if not args:\n",
        "        raise ValueError(\"At least one number must be provided.\")\n",
        "    min_value = min(args)\n",
        "    max_value = max(args)\n",
        "    sum_values = sum(args)\n",
        "    return min_value, max_value, sum_values\n",
        "\n",
        "# Example usage:\n",
        "result = calculate_min_max_sum(15, 8, 27, 42, 12)\n",
        "print(\"Minimum:\", result[0])\n",
        "print(\"Maximum:\", result[1])\n",
        "print(\"Sum:\", result[2])\n"
      ],
      "metadata": {
        "colab": {
          "base_uri": "https://localhost:8080/"
        },
        "id": "LwAmQypb9nLg",
        "outputId": "5e6e6409-d2c0-4eb2-a6ec-6c01a442ca63"
      },
      "execution_count": null,
      "outputs": [
        {
          "output_type": "stream",
          "name": "stdout",
          "text": [
            "Entering calculate_min_max_sum with arguments: (15, 8, 27, 42, 12)\n",
            "Exiting calculate_min_max_sum. Result: (8, 42, 104)\n",
            "Minimum: 8\n",
            "Maximum: 42\n",
            "Sum: 104\n"
          ]
        }
      ]
    },
    {
      "cell_type": "code",
      "source": [
        "# Cell 21: Create a class that uses __init__, __repr__, __str__,\n",
        "# and __add__. Demonstrate that all of the methods work.\n",
        "class MyClass:\n",
        "    def __init__(self, value):\n",
        "        self.value = value\n",
        "\n",
        "    def __repr__(self):\n",
        "        return f\"MyClass({self.value})\"\n",
        "\n",
        "    def __str__(self):\n",
        "        return f\"Instance of MyClass with value: {self.value}\"\n",
        "\n",
        "    def __add__(self, other):\n",
        "        if isinstance(other, MyClass):\n",
        "            return MyClass(self.value + other.value)\n",
        "        else:\n",
        "            raise TypeError(\"Unsupported operand type. Please use MyClass instances.\")\n",
        "\n",
        "# Demonstrate the methods\n",
        "obj1 = MyClass(10)\n",
        "obj2 = MyClass(20)\n",
        "\n",
        "# __repr__ method is automatically called when using repr()\n",
        "print(\"Representation:\", repr(obj1))\n",
        "\n",
        "# __str__ method is automatically called when using print()\n",
        "print(\"String representation:\", obj1)\n",
        "\n",
        "# __add__ method is automatically called when using the + operator\n",
        "result = obj1 + obj2\n",
        "print(\"Addition result:\", result)\n",
        "\n",
        "# Additional demonstration of __str__ and __repr__\n",
        "print(\"String representation:\", str(obj1))\n",
        "print(\"Representation:\", repr(obj2))\n"
      ],
      "metadata": {
        "colab": {
          "base_uri": "https://localhost:8080/"
        },
        "id": "VM4he2wY-seo",
        "outputId": "353e24ef-086f-491e-ae0f-f00353ee89ec"
      },
      "execution_count": null,
      "outputs": [
        {
          "output_type": "stream",
          "name": "stdout",
          "text": [
            "Representation: MyClass(10)\n",
            "String representation: Instance of MyClass with value: 10\n",
            "Addition result: Instance of MyClass with value: 30\n",
            "String representation: Instance of MyClass with value: 10\n",
            "Representation: MyClass(20)\n"
          ]
        }
      ]
    },
    {
      "cell_type": "code",
      "source": [
        "# Cell 22: Is your birth date included in the digits of pi? Where?\n",
        "# Feel free to use the code from Chapter 10.\n",
        "import math\n",
        "\n",
        "birthday = \"021903\"\n",
        "\n",
        "pi_digits = str(math.pi)[2:] # convert pi to string and remove leading 3.\n",
        "\n",
        "if birthday in pi_digits:\n",
        "    print(\"Your birthday is found in the first millions digits of pi!\")\n",
        "else:\n",
        "    print(\"Your birthday not found in the first millions digits of pi.\")"
      ],
      "metadata": {
        "colab": {
          "base_uri": "https://localhost:8080/"
        },
        "id": "TUVBgRv4_Xdc",
        "outputId": "4e052b46-d919-4baa-cc3f-460221819be4"
      },
      "execution_count": null,
      "outputs": [
        {
          "output_type": "stream",
          "name": "stdout",
          "text": [
            "Your birthday not found in the first millions digits of pi.\n"
          ]
        }
      ]
    },
    {
      "cell_type": "code",
      "source": [],
      "metadata": {
        "id": "JN-5B-_3BQAO"
      },
      "execution_count": null,
      "outputs": []
    }
  ]
}